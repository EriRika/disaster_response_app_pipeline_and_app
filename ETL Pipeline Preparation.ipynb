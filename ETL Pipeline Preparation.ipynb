{
 "cells": [
  {
   "cell_type": "markdown",
   "metadata": {},
   "source": [
    "# ETL Pipeline Preparation\n",
    "Follow the instructions below to help you create your ETL pipeline.\n",
    "### 1. Import libraries and load datasets.\n",
    "- Import Python libraries\n",
    "- Load `messages.csv` into a dataframe and inspect the first few lines.\n",
    "- Load `categories.csv` into a dataframe and inspect the first few lines."
   ]
  },
  {
   "cell_type": "code",
   "execution_count": 1,
   "metadata": {},
   "outputs": [],
   "source": [
    "# import libraries\n",
    "import pandas as pd\n",
    "import numpy as np\n",
    "import sqlite3\n",
    "import sqlalchemy as db\n",
    "from sqlalchemy import create_engine"
   ]
  },
  {
   "cell_type": "code",
   "execution_count": 2,
   "metadata": {},
   "outputs": [
    {
     "name": "stdout",
     "output_type": "stream",
     "text": [
      "(26248, 4)\n"
     ]
    },
    {
     "data": {
      "text/html": [
       "<div>\n",
       "<style scoped>\n",
       "    .dataframe tbody tr th:only-of-type {\n",
       "        vertical-align: middle;\n",
       "    }\n",
       "\n",
       "    .dataframe tbody tr th {\n",
       "        vertical-align: top;\n",
       "    }\n",
       "\n",
       "    .dataframe thead th {\n",
       "        text-align: right;\n",
       "    }\n",
       "</style>\n",
       "<table border=\"1\" class=\"dataframe\">\n",
       "  <thead>\n",
       "    <tr style=\"text-align: right;\">\n",
       "      <th></th>\n",
       "      <th>id</th>\n",
       "      <th>message</th>\n",
       "      <th>original</th>\n",
       "      <th>genre</th>\n",
       "    </tr>\n",
       "  </thead>\n",
       "  <tbody>\n",
       "    <tr>\n",
       "      <th>0</th>\n",
       "      <td>2</td>\n",
       "      <td>Weather update - a cold front from Cuba that c...</td>\n",
       "      <td>Un front froid se retrouve sur Cuba ce matin. ...</td>\n",
       "      <td>direct</td>\n",
       "    </tr>\n",
       "    <tr>\n",
       "      <th>1</th>\n",
       "      <td>7</td>\n",
       "      <td>Is the Hurricane over or is it not over</td>\n",
       "      <td>Cyclone nan fini osinon li pa fini</td>\n",
       "      <td>direct</td>\n",
       "    </tr>\n",
       "    <tr>\n",
       "      <th>2</th>\n",
       "      <td>8</td>\n",
       "      <td>Looking for someone but no name</td>\n",
       "      <td>Patnm, di Maryani relem pou li banm nouvel li ...</td>\n",
       "      <td>direct</td>\n",
       "    </tr>\n",
       "    <tr>\n",
       "      <th>3</th>\n",
       "      <td>9</td>\n",
       "      <td>UN reports Leogane 80-90 destroyed. Only Hospi...</td>\n",
       "      <td>UN reports Leogane 80-90 destroyed. Only Hospi...</td>\n",
       "      <td>direct</td>\n",
       "    </tr>\n",
       "    <tr>\n",
       "      <th>4</th>\n",
       "      <td>12</td>\n",
       "      <td>says: west side of Haiti, rest of the country ...</td>\n",
       "      <td>facade ouest d Haiti et le reste du pays aujou...</td>\n",
       "      <td>direct</td>\n",
       "    </tr>\n",
       "  </tbody>\n",
       "</table>\n",
       "</div>"
      ],
      "text/plain": [
       "   id                                            message  \\\n",
       "0   2  Weather update - a cold front from Cuba that c...   \n",
       "1   7            Is the Hurricane over or is it not over   \n",
       "2   8                    Looking for someone but no name   \n",
       "3   9  UN reports Leogane 80-90 destroyed. Only Hospi...   \n",
       "4  12  says: west side of Haiti, rest of the country ...   \n",
       "\n",
       "                                            original   genre  \n",
       "0  Un front froid se retrouve sur Cuba ce matin. ...  direct  \n",
       "1                 Cyclone nan fini osinon li pa fini  direct  \n",
       "2  Patnm, di Maryani relem pou li banm nouvel li ...  direct  \n",
       "3  UN reports Leogane 80-90 destroyed. Only Hospi...  direct  \n",
       "4  facade ouest d Haiti et le reste du pays aujou...  direct  "
      ]
     },
     "execution_count": 2,
     "metadata": {},
     "output_type": "execute_result"
    }
   ],
   "source": [
    "# load messages dataset\n",
    "messages = pd.read_csv('web_app/data/disaster_messages.csv')\n",
    "print(messages.shape)\n",
    "messages.head()"
   ]
  },
  {
   "cell_type": "code",
   "execution_count": 3,
   "metadata": {},
   "outputs": [
    {
     "data": {
      "text/html": [
       "<div>\n",
       "<style scoped>\n",
       "    .dataframe tbody tr th:only-of-type {\n",
       "        vertical-align: middle;\n",
       "    }\n",
       "\n",
       "    .dataframe tbody tr th {\n",
       "        vertical-align: top;\n",
       "    }\n",
       "\n",
       "    .dataframe thead th {\n",
       "        text-align: right;\n",
       "    }\n",
       "</style>\n",
       "<table border=\"1\" class=\"dataframe\">\n",
       "  <thead>\n",
       "    <tr style=\"text-align: right;\">\n",
       "      <th></th>\n",
       "      <th>id</th>\n",
       "      <th>categories</th>\n",
       "    </tr>\n",
       "  </thead>\n",
       "  <tbody>\n",
       "    <tr>\n",
       "      <th>0</th>\n",
       "      <td>2</td>\n",
       "      <td>related-1;request-0;offer-0;aid_related-0;medi...</td>\n",
       "    </tr>\n",
       "    <tr>\n",
       "      <th>1</th>\n",
       "      <td>7</td>\n",
       "      <td>related-1;request-0;offer-0;aid_related-1;medi...</td>\n",
       "    </tr>\n",
       "    <tr>\n",
       "      <th>2</th>\n",
       "      <td>8</td>\n",
       "      <td>related-1;request-0;offer-0;aid_related-0;medi...</td>\n",
       "    </tr>\n",
       "    <tr>\n",
       "      <th>3</th>\n",
       "      <td>9</td>\n",
       "      <td>related-1;request-1;offer-0;aid_related-1;medi...</td>\n",
       "    </tr>\n",
       "    <tr>\n",
       "      <th>4</th>\n",
       "      <td>12</td>\n",
       "      <td>related-1;request-0;offer-0;aid_related-0;medi...</td>\n",
       "    </tr>\n",
       "  </tbody>\n",
       "</table>\n",
       "</div>"
      ],
      "text/plain": [
       "   id                                         categories\n",
       "0   2  related-1;request-0;offer-0;aid_related-0;medi...\n",
       "1   7  related-1;request-0;offer-0;aid_related-1;medi...\n",
       "2   8  related-1;request-0;offer-0;aid_related-0;medi...\n",
       "3   9  related-1;request-1;offer-0;aid_related-1;medi...\n",
       "4  12  related-1;request-0;offer-0;aid_related-0;medi..."
      ]
     },
     "execution_count": 3,
     "metadata": {},
     "output_type": "execute_result"
    }
   ],
   "source": [
    "# load categories dataset\n",
    "categories = pd.read_csv('web_app/data/disaster_categories.csv')\n",
    "categories.head()"
   ]
  },
  {
   "cell_type": "markdown",
   "metadata": {},
   "source": [
    "### 2. Merge datasets.\n",
    "- Merge the messages and categories datasets using the common id\n",
    "- Assign this combined dataset to `df`, which will be cleaned in the following steps"
   ]
  },
  {
   "cell_type": "code",
   "execution_count": 4,
   "metadata": {},
   "outputs": [
    {
     "name": "stdout",
     "output_type": "stream",
     "text": [
      "(26386, 5)\n"
     ]
    },
    {
     "data": {
      "text/html": [
       "<div>\n",
       "<style scoped>\n",
       "    .dataframe tbody tr th:only-of-type {\n",
       "        vertical-align: middle;\n",
       "    }\n",
       "\n",
       "    .dataframe tbody tr th {\n",
       "        vertical-align: top;\n",
       "    }\n",
       "\n",
       "    .dataframe thead th {\n",
       "        text-align: right;\n",
       "    }\n",
       "</style>\n",
       "<table border=\"1\" class=\"dataframe\">\n",
       "  <thead>\n",
       "    <tr style=\"text-align: right;\">\n",
       "      <th></th>\n",
       "      <th>id</th>\n",
       "      <th>message</th>\n",
       "      <th>original</th>\n",
       "      <th>genre</th>\n",
       "      <th>categories</th>\n",
       "    </tr>\n",
       "  </thead>\n",
       "  <tbody>\n",
       "    <tr>\n",
       "      <th>0</th>\n",
       "      <td>2</td>\n",
       "      <td>Weather update - a cold front from Cuba that c...</td>\n",
       "      <td>Un front froid se retrouve sur Cuba ce matin. ...</td>\n",
       "      <td>direct</td>\n",
       "      <td>related-1;request-0;offer-0;aid_related-0;medi...</td>\n",
       "    </tr>\n",
       "    <tr>\n",
       "      <th>1</th>\n",
       "      <td>7</td>\n",
       "      <td>Is the Hurricane over or is it not over</td>\n",
       "      <td>Cyclone nan fini osinon li pa fini</td>\n",
       "      <td>direct</td>\n",
       "      <td>related-1;request-0;offer-0;aid_related-1;medi...</td>\n",
       "    </tr>\n",
       "    <tr>\n",
       "      <th>2</th>\n",
       "      <td>8</td>\n",
       "      <td>Looking for someone but no name</td>\n",
       "      <td>Patnm, di Maryani relem pou li banm nouvel li ...</td>\n",
       "      <td>direct</td>\n",
       "      <td>related-1;request-0;offer-0;aid_related-0;medi...</td>\n",
       "    </tr>\n",
       "    <tr>\n",
       "      <th>3</th>\n",
       "      <td>9</td>\n",
       "      <td>UN reports Leogane 80-90 destroyed. Only Hospi...</td>\n",
       "      <td>UN reports Leogane 80-90 destroyed. Only Hospi...</td>\n",
       "      <td>direct</td>\n",
       "      <td>related-1;request-1;offer-0;aid_related-1;medi...</td>\n",
       "    </tr>\n",
       "    <tr>\n",
       "      <th>4</th>\n",
       "      <td>12</td>\n",
       "      <td>says: west side of Haiti, rest of the country ...</td>\n",
       "      <td>facade ouest d Haiti et le reste du pays aujou...</td>\n",
       "      <td>direct</td>\n",
       "      <td>related-1;request-0;offer-0;aid_related-0;medi...</td>\n",
       "    </tr>\n",
       "  </tbody>\n",
       "</table>\n",
       "</div>"
      ],
      "text/plain": [
       "   id                                            message  \\\n",
       "0   2  Weather update - a cold front from Cuba that c...   \n",
       "1   7            Is the Hurricane over or is it not over   \n",
       "2   8                    Looking for someone but no name   \n",
       "3   9  UN reports Leogane 80-90 destroyed. Only Hospi...   \n",
       "4  12  says: west side of Haiti, rest of the country ...   \n",
       "\n",
       "                                            original   genre  \\\n",
       "0  Un front froid se retrouve sur Cuba ce matin. ...  direct   \n",
       "1                 Cyclone nan fini osinon li pa fini  direct   \n",
       "2  Patnm, di Maryani relem pou li banm nouvel li ...  direct   \n",
       "3  UN reports Leogane 80-90 destroyed. Only Hospi...  direct   \n",
       "4  facade ouest d Haiti et le reste du pays aujou...  direct   \n",
       "\n",
       "                                          categories  \n",
       "0  related-1;request-0;offer-0;aid_related-0;medi...  \n",
       "1  related-1;request-0;offer-0;aid_related-1;medi...  \n",
       "2  related-1;request-0;offer-0;aid_related-0;medi...  \n",
       "3  related-1;request-1;offer-0;aid_related-1;medi...  \n",
       "4  related-1;request-0;offer-0;aid_related-0;medi...  "
      ]
     },
     "execution_count": 4,
     "metadata": {},
     "output_type": "execute_result"
    }
   ],
   "source": [
    "# merge datasets\n",
    "df = messages.merge(categories, on = 'id', how='left')\n",
    "print(df.shape)\n",
    "df.head()"
   ]
  },
  {
   "cell_type": "markdown",
   "metadata": {},
   "source": [
    "### 3. Split `categories` into separate category columns.\n",
    "- Split the values in the `categories` column on the `;` character so that each value becomes a separate column. You'll find [this method](https://pandas.pydata.org/pandas-docs/version/0.23/generated/pandas.Series.str.split.html) very helpful! Make sure to set `expand=True`.\n",
    "- Use the first row of categories dataframe to create column names for the categories data.\n",
    "- Rename columns of `categories` with new column names."
   ]
  },
  {
   "cell_type": "code",
   "execution_count": 5,
   "metadata": {},
   "outputs": [
    {
     "data": {
      "text/html": [
       "<div>\n",
       "<style scoped>\n",
       "    .dataframe tbody tr th:only-of-type {\n",
       "        vertical-align: middle;\n",
       "    }\n",
       "\n",
       "    .dataframe tbody tr th {\n",
       "        vertical-align: top;\n",
       "    }\n",
       "\n",
       "    .dataframe thead th {\n",
       "        text-align: right;\n",
       "    }\n",
       "</style>\n",
       "<table border=\"1\" class=\"dataframe\">\n",
       "  <thead>\n",
       "    <tr style=\"text-align: right;\">\n",
       "      <th></th>\n",
       "      <th>0</th>\n",
       "      <th>1</th>\n",
       "      <th>2</th>\n",
       "      <th>3</th>\n",
       "      <th>4</th>\n",
       "      <th>5</th>\n",
       "      <th>6</th>\n",
       "      <th>7</th>\n",
       "      <th>8</th>\n",
       "      <th>9</th>\n",
       "      <th>...</th>\n",
       "      <th>26</th>\n",
       "      <th>27</th>\n",
       "      <th>28</th>\n",
       "      <th>29</th>\n",
       "      <th>30</th>\n",
       "      <th>31</th>\n",
       "      <th>32</th>\n",
       "      <th>33</th>\n",
       "      <th>34</th>\n",
       "      <th>35</th>\n",
       "    </tr>\n",
       "  </thead>\n",
       "  <tbody>\n",
       "    <tr>\n",
       "      <th>0</th>\n",
       "      <td>related-1</td>\n",
       "      <td>request-0</td>\n",
       "      <td>offer-0</td>\n",
       "      <td>aid_related-0</td>\n",
       "      <td>medical_help-0</td>\n",
       "      <td>medical_products-0</td>\n",
       "      <td>search_and_rescue-0</td>\n",
       "      <td>security-0</td>\n",
       "      <td>military-0</td>\n",
       "      <td>child_alone-0</td>\n",
       "      <td>...</td>\n",
       "      <td>aid_centers-0</td>\n",
       "      <td>other_infrastructure-0</td>\n",
       "      <td>weather_related-0</td>\n",
       "      <td>floods-0</td>\n",
       "      <td>storm-0</td>\n",
       "      <td>fire-0</td>\n",
       "      <td>earthquake-0</td>\n",
       "      <td>cold-0</td>\n",
       "      <td>other_weather-0</td>\n",
       "      <td>direct_report-0</td>\n",
       "    </tr>\n",
       "    <tr>\n",
       "      <th>1</th>\n",
       "      <td>related-1</td>\n",
       "      <td>request-0</td>\n",
       "      <td>offer-0</td>\n",
       "      <td>aid_related-1</td>\n",
       "      <td>medical_help-0</td>\n",
       "      <td>medical_products-0</td>\n",
       "      <td>search_and_rescue-0</td>\n",
       "      <td>security-0</td>\n",
       "      <td>military-0</td>\n",
       "      <td>child_alone-0</td>\n",
       "      <td>...</td>\n",
       "      <td>aid_centers-0</td>\n",
       "      <td>other_infrastructure-0</td>\n",
       "      <td>weather_related-1</td>\n",
       "      <td>floods-0</td>\n",
       "      <td>storm-1</td>\n",
       "      <td>fire-0</td>\n",
       "      <td>earthquake-0</td>\n",
       "      <td>cold-0</td>\n",
       "      <td>other_weather-0</td>\n",
       "      <td>direct_report-0</td>\n",
       "    </tr>\n",
       "    <tr>\n",
       "      <th>2</th>\n",
       "      <td>related-1</td>\n",
       "      <td>request-0</td>\n",
       "      <td>offer-0</td>\n",
       "      <td>aid_related-0</td>\n",
       "      <td>medical_help-0</td>\n",
       "      <td>medical_products-0</td>\n",
       "      <td>search_and_rescue-0</td>\n",
       "      <td>security-0</td>\n",
       "      <td>military-0</td>\n",
       "      <td>child_alone-0</td>\n",
       "      <td>...</td>\n",
       "      <td>aid_centers-0</td>\n",
       "      <td>other_infrastructure-0</td>\n",
       "      <td>weather_related-0</td>\n",
       "      <td>floods-0</td>\n",
       "      <td>storm-0</td>\n",
       "      <td>fire-0</td>\n",
       "      <td>earthquake-0</td>\n",
       "      <td>cold-0</td>\n",
       "      <td>other_weather-0</td>\n",
       "      <td>direct_report-0</td>\n",
       "    </tr>\n",
       "    <tr>\n",
       "      <th>3</th>\n",
       "      <td>related-1</td>\n",
       "      <td>request-1</td>\n",
       "      <td>offer-0</td>\n",
       "      <td>aid_related-1</td>\n",
       "      <td>medical_help-0</td>\n",
       "      <td>medical_products-1</td>\n",
       "      <td>search_and_rescue-0</td>\n",
       "      <td>security-0</td>\n",
       "      <td>military-0</td>\n",
       "      <td>child_alone-0</td>\n",
       "      <td>...</td>\n",
       "      <td>aid_centers-0</td>\n",
       "      <td>other_infrastructure-0</td>\n",
       "      <td>weather_related-0</td>\n",
       "      <td>floods-0</td>\n",
       "      <td>storm-0</td>\n",
       "      <td>fire-0</td>\n",
       "      <td>earthquake-0</td>\n",
       "      <td>cold-0</td>\n",
       "      <td>other_weather-0</td>\n",
       "      <td>direct_report-0</td>\n",
       "    </tr>\n",
       "    <tr>\n",
       "      <th>4</th>\n",
       "      <td>related-1</td>\n",
       "      <td>request-0</td>\n",
       "      <td>offer-0</td>\n",
       "      <td>aid_related-0</td>\n",
       "      <td>medical_help-0</td>\n",
       "      <td>medical_products-0</td>\n",
       "      <td>search_and_rescue-0</td>\n",
       "      <td>security-0</td>\n",
       "      <td>military-0</td>\n",
       "      <td>child_alone-0</td>\n",
       "      <td>...</td>\n",
       "      <td>aid_centers-0</td>\n",
       "      <td>other_infrastructure-0</td>\n",
       "      <td>weather_related-0</td>\n",
       "      <td>floods-0</td>\n",
       "      <td>storm-0</td>\n",
       "      <td>fire-0</td>\n",
       "      <td>earthquake-0</td>\n",
       "      <td>cold-0</td>\n",
       "      <td>other_weather-0</td>\n",
       "      <td>direct_report-0</td>\n",
       "    </tr>\n",
       "  </tbody>\n",
       "</table>\n",
       "<p>5 rows × 36 columns</p>\n",
       "</div>"
      ],
      "text/plain": [
       "          0          1        2              3               4   \\\n",
       "0  related-1  request-0  offer-0  aid_related-0  medical_help-0   \n",
       "1  related-1  request-0  offer-0  aid_related-1  medical_help-0   \n",
       "2  related-1  request-0  offer-0  aid_related-0  medical_help-0   \n",
       "3  related-1  request-1  offer-0  aid_related-1  medical_help-0   \n",
       "4  related-1  request-0  offer-0  aid_related-0  medical_help-0   \n",
       "\n",
       "                   5                    6           7           8   \\\n",
       "0  medical_products-0  search_and_rescue-0  security-0  military-0   \n",
       "1  medical_products-0  search_and_rescue-0  security-0  military-0   \n",
       "2  medical_products-0  search_and_rescue-0  security-0  military-0   \n",
       "3  medical_products-1  search_and_rescue-0  security-0  military-0   \n",
       "4  medical_products-0  search_and_rescue-0  security-0  military-0   \n",
       "\n",
       "              9   ...             26                      27  \\\n",
       "0  child_alone-0  ...  aid_centers-0  other_infrastructure-0   \n",
       "1  child_alone-0  ...  aid_centers-0  other_infrastructure-0   \n",
       "2  child_alone-0  ...  aid_centers-0  other_infrastructure-0   \n",
       "3  child_alone-0  ...  aid_centers-0  other_infrastructure-0   \n",
       "4  child_alone-0  ...  aid_centers-0  other_infrastructure-0   \n",
       "\n",
       "                  28        29       30      31            32      33  \\\n",
       "0  weather_related-0  floods-0  storm-0  fire-0  earthquake-0  cold-0   \n",
       "1  weather_related-1  floods-0  storm-1  fire-0  earthquake-0  cold-0   \n",
       "2  weather_related-0  floods-0  storm-0  fire-0  earthquake-0  cold-0   \n",
       "3  weather_related-0  floods-0  storm-0  fire-0  earthquake-0  cold-0   \n",
       "4  weather_related-0  floods-0  storm-0  fire-0  earthquake-0  cold-0   \n",
       "\n",
       "                34               35  \n",
       "0  other_weather-0  direct_report-0  \n",
       "1  other_weather-0  direct_report-0  \n",
       "2  other_weather-0  direct_report-0  \n",
       "3  other_weather-0  direct_report-0  \n",
       "4  other_weather-0  direct_report-0  \n",
       "\n",
       "[5 rows x 36 columns]"
      ]
     },
     "execution_count": 5,
     "metadata": {},
     "output_type": "execute_result"
    }
   ],
   "source": [
    "# create a dataframe of the 36 individual category columns\n",
    "categories = df.categories.str.split(\";\", expand=True)\n",
    "categories.head()"
   ]
  },
  {
   "cell_type": "code",
   "execution_count": 6,
   "metadata": {},
   "outputs": [
    {
     "name": "stdout",
     "output_type": "stream",
     "text": [
      "['related', 'request', 'offer', 'aid_related', 'medical_help', 'medical_products', 'search_and_rescue', 'security', 'military', 'child_alone', 'water', 'food', 'shelter', 'clothing', 'money', 'missing_people', 'refugees', 'death', 'other_aid', 'infrastructure_related', 'transport', 'buildings', 'electricity', 'tools', 'hospitals', 'shops', 'aid_centers', 'other_infrastructure', 'weather_related', 'floods', 'storm', 'fire', 'earthquake', 'cold', 'other_weather', 'direct_report']\n"
     ]
    }
   ],
   "source": [
    "# select the first row of the categories dataframe\n",
    "row = categories.iloc[0,:]\n",
    "\n",
    "# use this row to extract a list of new column names for categories.\n",
    "# one way is to apply a lambda function that takes everything \n",
    "# up to the second to last character of each string with slicing\n",
    "#category_colnames = row.apply()\n",
    "category_colnames = [x.split(\"-\")[0] for x in row]\n",
    "\n",
    "print(category_colnames)"
   ]
  },
  {
   "cell_type": "code",
   "execution_count": 7,
   "metadata": {},
   "outputs": [
    {
     "data": {
      "text/html": [
       "<div>\n",
       "<style scoped>\n",
       "    .dataframe tbody tr th:only-of-type {\n",
       "        vertical-align: middle;\n",
       "    }\n",
       "\n",
       "    .dataframe tbody tr th {\n",
       "        vertical-align: top;\n",
       "    }\n",
       "\n",
       "    .dataframe thead th {\n",
       "        text-align: right;\n",
       "    }\n",
       "</style>\n",
       "<table border=\"1\" class=\"dataframe\">\n",
       "  <thead>\n",
       "    <tr style=\"text-align: right;\">\n",
       "      <th></th>\n",
       "      <th>related</th>\n",
       "      <th>request</th>\n",
       "      <th>offer</th>\n",
       "      <th>aid_related</th>\n",
       "      <th>medical_help</th>\n",
       "      <th>medical_products</th>\n",
       "      <th>search_and_rescue</th>\n",
       "      <th>security</th>\n",
       "      <th>military</th>\n",
       "      <th>child_alone</th>\n",
       "      <th>...</th>\n",
       "      <th>aid_centers</th>\n",
       "      <th>other_infrastructure</th>\n",
       "      <th>weather_related</th>\n",
       "      <th>floods</th>\n",
       "      <th>storm</th>\n",
       "      <th>fire</th>\n",
       "      <th>earthquake</th>\n",
       "      <th>cold</th>\n",
       "      <th>other_weather</th>\n",
       "      <th>direct_report</th>\n",
       "    </tr>\n",
       "  </thead>\n",
       "  <tbody>\n",
       "    <tr>\n",
       "      <th>0</th>\n",
       "      <td>related-1</td>\n",
       "      <td>request-0</td>\n",
       "      <td>offer-0</td>\n",
       "      <td>aid_related-0</td>\n",
       "      <td>medical_help-0</td>\n",
       "      <td>medical_products-0</td>\n",
       "      <td>search_and_rescue-0</td>\n",
       "      <td>security-0</td>\n",
       "      <td>military-0</td>\n",
       "      <td>child_alone-0</td>\n",
       "      <td>...</td>\n",
       "      <td>aid_centers-0</td>\n",
       "      <td>other_infrastructure-0</td>\n",
       "      <td>weather_related-0</td>\n",
       "      <td>floods-0</td>\n",
       "      <td>storm-0</td>\n",
       "      <td>fire-0</td>\n",
       "      <td>earthquake-0</td>\n",
       "      <td>cold-0</td>\n",
       "      <td>other_weather-0</td>\n",
       "      <td>direct_report-0</td>\n",
       "    </tr>\n",
       "    <tr>\n",
       "      <th>1</th>\n",
       "      <td>related-1</td>\n",
       "      <td>request-0</td>\n",
       "      <td>offer-0</td>\n",
       "      <td>aid_related-1</td>\n",
       "      <td>medical_help-0</td>\n",
       "      <td>medical_products-0</td>\n",
       "      <td>search_and_rescue-0</td>\n",
       "      <td>security-0</td>\n",
       "      <td>military-0</td>\n",
       "      <td>child_alone-0</td>\n",
       "      <td>...</td>\n",
       "      <td>aid_centers-0</td>\n",
       "      <td>other_infrastructure-0</td>\n",
       "      <td>weather_related-1</td>\n",
       "      <td>floods-0</td>\n",
       "      <td>storm-1</td>\n",
       "      <td>fire-0</td>\n",
       "      <td>earthquake-0</td>\n",
       "      <td>cold-0</td>\n",
       "      <td>other_weather-0</td>\n",
       "      <td>direct_report-0</td>\n",
       "    </tr>\n",
       "    <tr>\n",
       "      <th>2</th>\n",
       "      <td>related-1</td>\n",
       "      <td>request-0</td>\n",
       "      <td>offer-0</td>\n",
       "      <td>aid_related-0</td>\n",
       "      <td>medical_help-0</td>\n",
       "      <td>medical_products-0</td>\n",
       "      <td>search_and_rescue-0</td>\n",
       "      <td>security-0</td>\n",
       "      <td>military-0</td>\n",
       "      <td>child_alone-0</td>\n",
       "      <td>...</td>\n",
       "      <td>aid_centers-0</td>\n",
       "      <td>other_infrastructure-0</td>\n",
       "      <td>weather_related-0</td>\n",
       "      <td>floods-0</td>\n",
       "      <td>storm-0</td>\n",
       "      <td>fire-0</td>\n",
       "      <td>earthquake-0</td>\n",
       "      <td>cold-0</td>\n",
       "      <td>other_weather-0</td>\n",
       "      <td>direct_report-0</td>\n",
       "    </tr>\n",
       "    <tr>\n",
       "      <th>3</th>\n",
       "      <td>related-1</td>\n",
       "      <td>request-1</td>\n",
       "      <td>offer-0</td>\n",
       "      <td>aid_related-1</td>\n",
       "      <td>medical_help-0</td>\n",
       "      <td>medical_products-1</td>\n",
       "      <td>search_and_rescue-0</td>\n",
       "      <td>security-0</td>\n",
       "      <td>military-0</td>\n",
       "      <td>child_alone-0</td>\n",
       "      <td>...</td>\n",
       "      <td>aid_centers-0</td>\n",
       "      <td>other_infrastructure-0</td>\n",
       "      <td>weather_related-0</td>\n",
       "      <td>floods-0</td>\n",
       "      <td>storm-0</td>\n",
       "      <td>fire-0</td>\n",
       "      <td>earthquake-0</td>\n",
       "      <td>cold-0</td>\n",
       "      <td>other_weather-0</td>\n",
       "      <td>direct_report-0</td>\n",
       "    </tr>\n",
       "    <tr>\n",
       "      <th>4</th>\n",
       "      <td>related-1</td>\n",
       "      <td>request-0</td>\n",
       "      <td>offer-0</td>\n",
       "      <td>aid_related-0</td>\n",
       "      <td>medical_help-0</td>\n",
       "      <td>medical_products-0</td>\n",
       "      <td>search_and_rescue-0</td>\n",
       "      <td>security-0</td>\n",
       "      <td>military-0</td>\n",
       "      <td>child_alone-0</td>\n",
       "      <td>...</td>\n",
       "      <td>aid_centers-0</td>\n",
       "      <td>other_infrastructure-0</td>\n",
       "      <td>weather_related-0</td>\n",
       "      <td>floods-0</td>\n",
       "      <td>storm-0</td>\n",
       "      <td>fire-0</td>\n",
       "      <td>earthquake-0</td>\n",
       "      <td>cold-0</td>\n",
       "      <td>other_weather-0</td>\n",
       "      <td>direct_report-0</td>\n",
       "    </tr>\n",
       "  </tbody>\n",
       "</table>\n",
       "<p>5 rows × 36 columns</p>\n",
       "</div>"
      ],
      "text/plain": [
       "     related    request    offer    aid_related    medical_help  \\\n",
       "0  related-1  request-0  offer-0  aid_related-0  medical_help-0   \n",
       "1  related-1  request-0  offer-0  aid_related-1  medical_help-0   \n",
       "2  related-1  request-0  offer-0  aid_related-0  medical_help-0   \n",
       "3  related-1  request-1  offer-0  aid_related-1  medical_help-0   \n",
       "4  related-1  request-0  offer-0  aid_related-0  medical_help-0   \n",
       "\n",
       "     medical_products    search_and_rescue    security    military  \\\n",
       "0  medical_products-0  search_and_rescue-0  security-0  military-0   \n",
       "1  medical_products-0  search_and_rescue-0  security-0  military-0   \n",
       "2  medical_products-0  search_and_rescue-0  security-0  military-0   \n",
       "3  medical_products-1  search_and_rescue-0  security-0  military-0   \n",
       "4  medical_products-0  search_and_rescue-0  security-0  military-0   \n",
       "\n",
       "     child_alone  ...    aid_centers    other_infrastructure  \\\n",
       "0  child_alone-0  ...  aid_centers-0  other_infrastructure-0   \n",
       "1  child_alone-0  ...  aid_centers-0  other_infrastructure-0   \n",
       "2  child_alone-0  ...  aid_centers-0  other_infrastructure-0   \n",
       "3  child_alone-0  ...  aid_centers-0  other_infrastructure-0   \n",
       "4  child_alone-0  ...  aid_centers-0  other_infrastructure-0   \n",
       "\n",
       "     weather_related    floods    storm    fire    earthquake    cold  \\\n",
       "0  weather_related-0  floods-0  storm-0  fire-0  earthquake-0  cold-0   \n",
       "1  weather_related-1  floods-0  storm-1  fire-0  earthquake-0  cold-0   \n",
       "2  weather_related-0  floods-0  storm-0  fire-0  earthquake-0  cold-0   \n",
       "3  weather_related-0  floods-0  storm-0  fire-0  earthquake-0  cold-0   \n",
       "4  weather_related-0  floods-0  storm-0  fire-0  earthquake-0  cold-0   \n",
       "\n",
       "     other_weather    direct_report  \n",
       "0  other_weather-0  direct_report-0  \n",
       "1  other_weather-0  direct_report-0  \n",
       "2  other_weather-0  direct_report-0  \n",
       "3  other_weather-0  direct_report-0  \n",
       "4  other_weather-0  direct_report-0  \n",
       "\n",
       "[5 rows x 36 columns]"
      ]
     },
     "execution_count": 7,
     "metadata": {},
     "output_type": "execute_result"
    }
   ],
   "source": [
    "# rename the columns of `categories`\n",
    "categories.columns = category_colnames\n",
    "categories.head()"
   ]
  },
  {
   "cell_type": "markdown",
   "metadata": {},
   "source": [
    "### 4. Convert category values to just numbers 0 or 1.\n",
    "- Iterate through the category columns in df to keep only the last character of each string (the 1 or 0). For example, `related-0` becomes `0`, `related-1` becomes `1`. Convert the string to a numeric value.\n",
    "- You can perform [normal string actions on Pandas Series](https://pandas.pydata.org/pandas-docs/stable/text.html#indexing-with-str), like indexing, by including `.str` after the Series. You may need to first convert the Series to be of type string, which you can do with `astype(str)`."
   ]
  },
  {
   "cell_type": "code",
   "execution_count": 8,
   "metadata": {},
   "outputs": [
    {
     "data": {
      "text/html": [
       "<div>\n",
       "<style scoped>\n",
       "    .dataframe tbody tr th:only-of-type {\n",
       "        vertical-align: middle;\n",
       "    }\n",
       "\n",
       "    .dataframe tbody tr th {\n",
       "        vertical-align: top;\n",
       "    }\n",
       "\n",
       "    .dataframe thead th {\n",
       "        text-align: right;\n",
       "    }\n",
       "</style>\n",
       "<table border=\"1\" class=\"dataframe\">\n",
       "  <thead>\n",
       "    <tr style=\"text-align: right;\">\n",
       "      <th></th>\n",
       "      <th>related</th>\n",
       "      <th>request</th>\n",
       "      <th>offer</th>\n",
       "      <th>aid_related</th>\n",
       "      <th>medical_help</th>\n",
       "      <th>medical_products</th>\n",
       "      <th>search_and_rescue</th>\n",
       "      <th>security</th>\n",
       "      <th>military</th>\n",
       "      <th>child_alone</th>\n",
       "      <th>...</th>\n",
       "      <th>aid_centers</th>\n",
       "      <th>other_infrastructure</th>\n",
       "      <th>weather_related</th>\n",
       "      <th>floods</th>\n",
       "      <th>storm</th>\n",
       "      <th>fire</th>\n",
       "      <th>earthquake</th>\n",
       "      <th>cold</th>\n",
       "      <th>other_weather</th>\n",
       "      <th>direct_report</th>\n",
       "    </tr>\n",
       "  </thead>\n",
       "  <tbody>\n",
       "    <tr>\n",
       "      <th>0</th>\n",
       "      <td>1</td>\n",
       "      <td>0</td>\n",
       "      <td>0</td>\n",
       "      <td>0</td>\n",
       "      <td>0</td>\n",
       "      <td>0</td>\n",
       "      <td>0</td>\n",
       "      <td>0</td>\n",
       "      <td>0</td>\n",
       "      <td>0</td>\n",
       "      <td>...</td>\n",
       "      <td>0</td>\n",
       "      <td>0</td>\n",
       "      <td>0</td>\n",
       "      <td>0</td>\n",
       "      <td>0</td>\n",
       "      <td>0</td>\n",
       "      <td>0</td>\n",
       "      <td>0</td>\n",
       "      <td>0</td>\n",
       "      <td>0</td>\n",
       "    </tr>\n",
       "    <tr>\n",
       "      <th>1</th>\n",
       "      <td>1</td>\n",
       "      <td>0</td>\n",
       "      <td>0</td>\n",
       "      <td>1</td>\n",
       "      <td>0</td>\n",
       "      <td>0</td>\n",
       "      <td>0</td>\n",
       "      <td>0</td>\n",
       "      <td>0</td>\n",
       "      <td>0</td>\n",
       "      <td>...</td>\n",
       "      <td>0</td>\n",
       "      <td>0</td>\n",
       "      <td>1</td>\n",
       "      <td>0</td>\n",
       "      <td>1</td>\n",
       "      <td>0</td>\n",
       "      <td>0</td>\n",
       "      <td>0</td>\n",
       "      <td>0</td>\n",
       "      <td>0</td>\n",
       "    </tr>\n",
       "    <tr>\n",
       "      <th>2</th>\n",
       "      <td>1</td>\n",
       "      <td>0</td>\n",
       "      <td>0</td>\n",
       "      <td>0</td>\n",
       "      <td>0</td>\n",
       "      <td>0</td>\n",
       "      <td>0</td>\n",
       "      <td>0</td>\n",
       "      <td>0</td>\n",
       "      <td>0</td>\n",
       "      <td>...</td>\n",
       "      <td>0</td>\n",
       "      <td>0</td>\n",
       "      <td>0</td>\n",
       "      <td>0</td>\n",
       "      <td>0</td>\n",
       "      <td>0</td>\n",
       "      <td>0</td>\n",
       "      <td>0</td>\n",
       "      <td>0</td>\n",
       "      <td>0</td>\n",
       "    </tr>\n",
       "    <tr>\n",
       "      <th>3</th>\n",
       "      <td>1</td>\n",
       "      <td>1</td>\n",
       "      <td>0</td>\n",
       "      <td>1</td>\n",
       "      <td>0</td>\n",
       "      <td>1</td>\n",
       "      <td>0</td>\n",
       "      <td>0</td>\n",
       "      <td>0</td>\n",
       "      <td>0</td>\n",
       "      <td>...</td>\n",
       "      <td>0</td>\n",
       "      <td>0</td>\n",
       "      <td>0</td>\n",
       "      <td>0</td>\n",
       "      <td>0</td>\n",
       "      <td>0</td>\n",
       "      <td>0</td>\n",
       "      <td>0</td>\n",
       "      <td>0</td>\n",
       "      <td>0</td>\n",
       "    </tr>\n",
       "    <tr>\n",
       "      <th>4</th>\n",
       "      <td>1</td>\n",
       "      <td>0</td>\n",
       "      <td>0</td>\n",
       "      <td>0</td>\n",
       "      <td>0</td>\n",
       "      <td>0</td>\n",
       "      <td>0</td>\n",
       "      <td>0</td>\n",
       "      <td>0</td>\n",
       "      <td>0</td>\n",
       "      <td>...</td>\n",
       "      <td>0</td>\n",
       "      <td>0</td>\n",
       "      <td>0</td>\n",
       "      <td>0</td>\n",
       "      <td>0</td>\n",
       "      <td>0</td>\n",
       "      <td>0</td>\n",
       "      <td>0</td>\n",
       "      <td>0</td>\n",
       "      <td>0</td>\n",
       "    </tr>\n",
       "  </tbody>\n",
       "</table>\n",
       "<p>5 rows × 36 columns</p>\n",
       "</div>"
      ],
      "text/plain": [
       "   related  request  offer  aid_related  medical_help  medical_products  \\\n",
       "0        1        0      0            0             0                 0   \n",
       "1        1        0      0            1             0                 0   \n",
       "2        1        0      0            0             0                 0   \n",
       "3        1        1      0            1             0                 1   \n",
       "4        1        0      0            0             0                 0   \n",
       "\n",
       "   search_and_rescue  security  military  child_alone  ...  aid_centers  \\\n",
       "0                  0         0         0            0  ...            0   \n",
       "1                  0         0         0            0  ...            0   \n",
       "2                  0         0         0            0  ...            0   \n",
       "3                  0         0         0            0  ...            0   \n",
       "4                  0         0         0            0  ...            0   \n",
       "\n",
       "   other_infrastructure  weather_related  floods  storm  fire  earthquake  \\\n",
       "0                     0                0       0      0     0           0   \n",
       "1                     0                1       0      1     0           0   \n",
       "2                     0                0       0      0     0           0   \n",
       "3                     0                0       0      0     0           0   \n",
       "4                     0                0       0      0     0           0   \n",
       "\n",
       "   cold  other_weather  direct_report  \n",
       "0     0              0              0  \n",
       "1     0              0              0  \n",
       "2     0              0              0  \n",
       "3     0              0              0  \n",
       "4     0              0              0  \n",
       "\n",
       "[5 rows x 36 columns]"
      ]
     },
     "execution_count": 8,
     "metadata": {},
     "output_type": "execute_result"
    }
   ],
   "source": [
    "for column in categories:\n",
    "    # set each value to be the last character of the string\n",
    "    categories[column] = categories[column].str.split(\"-\",expand= True)[1]\n",
    "    \n",
    "    # convert column from string to numeric\n",
    "    categories[column] = categories[column].astype(int)\n",
    "categories.head()"
   ]
  },
  {
   "cell_type": "markdown",
   "metadata": {},
   "source": [
    "### 5. Replace `categories` column in `df` with new category columns.\n",
    "- Drop the categories column from the df dataframe since it is no longer needed.\n",
    "- Concatenate df and categories data frames."
   ]
  },
  {
   "cell_type": "code",
   "execution_count": 9,
   "metadata": {},
   "outputs": [
    {
     "data": {
      "text/html": [
       "<div>\n",
       "<style scoped>\n",
       "    .dataframe tbody tr th:only-of-type {\n",
       "        vertical-align: middle;\n",
       "    }\n",
       "\n",
       "    .dataframe tbody tr th {\n",
       "        vertical-align: top;\n",
       "    }\n",
       "\n",
       "    .dataframe thead th {\n",
       "        text-align: right;\n",
       "    }\n",
       "</style>\n",
       "<table border=\"1\" class=\"dataframe\">\n",
       "  <thead>\n",
       "    <tr style=\"text-align: right;\">\n",
       "      <th></th>\n",
       "      <th>id</th>\n",
       "      <th>message</th>\n",
       "      <th>original</th>\n",
       "      <th>genre</th>\n",
       "    </tr>\n",
       "  </thead>\n",
       "  <tbody>\n",
       "    <tr>\n",
       "      <th>0</th>\n",
       "      <td>2</td>\n",
       "      <td>Weather update - a cold front from Cuba that c...</td>\n",
       "      <td>Un front froid se retrouve sur Cuba ce matin. ...</td>\n",
       "      <td>direct</td>\n",
       "    </tr>\n",
       "    <tr>\n",
       "      <th>1</th>\n",
       "      <td>7</td>\n",
       "      <td>Is the Hurricane over or is it not over</td>\n",
       "      <td>Cyclone nan fini osinon li pa fini</td>\n",
       "      <td>direct</td>\n",
       "    </tr>\n",
       "    <tr>\n",
       "      <th>2</th>\n",
       "      <td>8</td>\n",
       "      <td>Looking for someone but no name</td>\n",
       "      <td>Patnm, di Maryani relem pou li banm nouvel li ...</td>\n",
       "      <td>direct</td>\n",
       "    </tr>\n",
       "    <tr>\n",
       "      <th>3</th>\n",
       "      <td>9</td>\n",
       "      <td>UN reports Leogane 80-90 destroyed. Only Hospi...</td>\n",
       "      <td>UN reports Leogane 80-90 destroyed. Only Hospi...</td>\n",
       "      <td>direct</td>\n",
       "    </tr>\n",
       "    <tr>\n",
       "      <th>4</th>\n",
       "      <td>12</td>\n",
       "      <td>says: west side of Haiti, rest of the country ...</td>\n",
       "      <td>facade ouest d Haiti et le reste du pays aujou...</td>\n",
       "      <td>direct</td>\n",
       "    </tr>\n",
       "  </tbody>\n",
       "</table>\n",
       "</div>"
      ],
      "text/plain": [
       "   id                                            message  \\\n",
       "0   2  Weather update - a cold front from Cuba that c...   \n",
       "1   7            Is the Hurricane over or is it not over   \n",
       "2   8                    Looking for someone but no name   \n",
       "3   9  UN reports Leogane 80-90 destroyed. Only Hospi...   \n",
       "4  12  says: west side of Haiti, rest of the country ...   \n",
       "\n",
       "                                            original   genre  \n",
       "0  Un front froid se retrouve sur Cuba ce matin. ...  direct  \n",
       "1                 Cyclone nan fini osinon li pa fini  direct  \n",
       "2  Patnm, di Maryani relem pou li banm nouvel li ...  direct  \n",
       "3  UN reports Leogane 80-90 destroyed. Only Hospi...  direct  \n",
       "4  facade ouest d Haiti et le reste du pays aujou...  direct  "
      ]
     },
     "execution_count": 9,
     "metadata": {},
     "output_type": "execute_result"
    }
   ],
   "source": [
    "# drop the original categories column from `df`\n",
    "df.drop(columns = 'categories', inplace = True)\n",
    "df.head()"
   ]
  },
  {
   "cell_type": "code",
   "execution_count": 10,
   "metadata": {},
   "outputs": [
    {
     "data": {
      "text/html": [
       "<div>\n",
       "<style scoped>\n",
       "    .dataframe tbody tr th:only-of-type {\n",
       "        vertical-align: middle;\n",
       "    }\n",
       "\n",
       "    .dataframe tbody tr th {\n",
       "        vertical-align: top;\n",
       "    }\n",
       "\n",
       "    .dataframe thead th {\n",
       "        text-align: right;\n",
       "    }\n",
       "</style>\n",
       "<table border=\"1\" class=\"dataframe\">\n",
       "  <thead>\n",
       "    <tr style=\"text-align: right;\">\n",
       "      <th></th>\n",
       "      <th>id</th>\n",
       "      <th>message</th>\n",
       "      <th>original</th>\n",
       "      <th>genre</th>\n",
       "      <th>related</th>\n",
       "      <th>request</th>\n",
       "      <th>offer</th>\n",
       "      <th>aid_related</th>\n",
       "      <th>medical_help</th>\n",
       "      <th>medical_products</th>\n",
       "      <th>...</th>\n",
       "      <th>aid_centers</th>\n",
       "      <th>other_infrastructure</th>\n",
       "      <th>weather_related</th>\n",
       "      <th>floods</th>\n",
       "      <th>storm</th>\n",
       "      <th>fire</th>\n",
       "      <th>earthquake</th>\n",
       "      <th>cold</th>\n",
       "      <th>other_weather</th>\n",
       "      <th>direct_report</th>\n",
       "    </tr>\n",
       "  </thead>\n",
       "  <tbody>\n",
       "    <tr>\n",
       "      <th>0</th>\n",
       "      <td>2</td>\n",
       "      <td>Weather update - a cold front from Cuba that c...</td>\n",
       "      <td>Un front froid se retrouve sur Cuba ce matin. ...</td>\n",
       "      <td>direct</td>\n",
       "      <td>1</td>\n",
       "      <td>0</td>\n",
       "      <td>0</td>\n",
       "      <td>0</td>\n",
       "      <td>0</td>\n",
       "      <td>0</td>\n",
       "      <td>...</td>\n",
       "      <td>0</td>\n",
       "      <td>0</td>\n",
       "      <td>0</td>\n",
       "      <td>0</td>\n",
       "      <td>0</td>\n",
       "      <td>0</td>\n",
       "      <td>0</td>\n",
       "      <td>0</td>\n",
       "      <td>0</td>\n",
       "      <td>0</td>\n",
       "    </tr>\n",
       "    <tr>\n",
       "      <th>1</th>\n",
       "      <td>7</td>\n",
       "      <td>Is the Hurricane over or is it not over</td>\n",
       "      <td>Cyclone nan fini osinon li pa fini</td>\n",
       "      <td>direct</td>\n",
       "      <td>1</td>\n",
       "      <td>0</td>\n",
       "      <td>0</td>\n",
       "      <td>1</td>\n",
       "      <td>0</td>\n",
       "      <td>0</td>\n",
       "      <td>...</td>\n",
       "      <td>0</td>\n",
       "      <td>0</td>\n",
       "      <td>1</td>\n",
       "      <td>0</td>\n",
       "      <td>1</td>\n",
       "      <td>0</td>\n",
       "      <td>0</td>\n",
       "      <td>0</td>\n",
       "      <td>0</td>\n",
       "      <td>0</td>\n",
       "    </tr>\n",
       "    <tr>\n",
       "      <th>2</th>\n",
       "      <td>8</td>\n",
       "      <td>Looking for someone but no name</td>\n",
       "      <td>Patnm, di Maryani relem pou li banm nouvel li ...</td>\n",
       "      <td>direct</td>\n",
       "      <td>1</td>\n",
       "      <td>0</td>\n",
       "      <td>0</td>\n",
       "      <td>0</td>\n",
       "      <td>0</td>\n",
       "      <td>0</td>\n",
       "      <td>...</td>\n",
       "      <td>0</td>\n",
       "      <td>0</td>\n",
       "      <td>0</td>\n",
       "      <td>0</td>\n",
       "      <td>0</td>\n",
       "      <td>0</td>\n",
       "      <td>0</td>\n",
       "      <td>0</td>\n",
       "      <td>0</td>\n",
       "      <td>0</td>\n",
       "    </tr>\n",
       "    <tr>\n",
       "      <th>3</th>\n",
       "      <td>9</td>\n",
       "      <td>UN reports Leogane 80-90 destroyed. Only Hospi...</td>\n",
       "      <td>UN reports Leogane 80-90 destroyed. Only Hospi...</td>\n",
       "      <td>direct</td>\n",
       "      <td>1</td>\n",
       "      <td>1</td>\n",
       "      <td>0</td>\n",
       "      <td>1</td>\n",
       "      <td>0</td>\n",
       "      <td>1</td>\n",
       "      <td>...</td>\n",
       "      <td>0</td>\n",
       "      <td>0</td>\n",
       "      <td>0</td>\n",
       "      <td>0</td>\n",
       "      <td>0</td>\n",
       "      <td>0</td>\n",
       "      <td>0</td>\n",
       "      <td>0</td>\n",
       "      <td>0</td>\n",
       "      <td>0</td>\n",
       "    </tr>\n",
       "    <tr>\n",
       "      <th>4</th>\n",
       "      <td>12</td>\n",
       "      <td>says: west side of Haiti, rest of the country ...</td>\n",
       "      <td>facade ouest d Haiti et le reste du pays aujou...</td>\n",
       "      <td>direct</td>\n",
       "      <td>1</td>\n",
       "      <td>0</td>\n",
       "      <td>0</td>\n",
       "      <td>0</td>\n",
       "      <td>0</td>\n",
       "      <td>0</td>\n",
       "      <td>...</td>\n",
       "      <td>0</td>\n",
       "      <td>0</td>\n",
       "      <td>0</td>\n",
       "      <td>0</td>\n",
       "      <td>0</td>\n",
       "      <td>0</td>\n",
       "      <td>0</td>\n",
       "      <td>0</td>\n",
       "      <td>0</td>\n",
       "      <td>0</td>\n",
       "    </tr>\n",
       "  </tbody>\n",
       "</table>\n",
       "<p>5 rows × 40 columns</p>\n",
       "</div>"
      ],
      "text/plain": [
       "   id                                            message  \\\n",
       "0   2  Weather update - a cold front from Cuba that c...   \n",
       "1   7            Is the Hurricane over or is it not over   \n",
       "2   8                    Looking for someone but no name   \n",
       "3   9  UN reports Leogane 80-90 destroyed. Only Hospi...   \n",
       "4  12  says: west side of Haiti, rest of the country ...   \n",
       "\n",
       "                                            original   genre  related  \\\n",
       "0  Un front froid se retrouve sur Cuba ce matin. ...  direct        1   \n",
       "1                 Cyclone nan fini osinon li pa fini  direct        1   \n",
       "2  Patnm, di Maryani relem pou li banm nouvel li ...  direct        1   \n",
       "3  UN reports Leogane 80-90 destroyed. Only Hospi...  direct        1   \n",
       "4  facade ouest d Haiti et le reste du pays aujou...  direct        1   \n",
       "\n",
       "   request  offer  aid_related  medical_help  medical_products  ...  \\\n",
       "0        0      0            0             0                 0  ...   \n",
       "1        0      0            1             0                 0  ...   \n",
       "2        0      0            0             0                 0  ...   \n",
       "3        1      0            1             0                 1  ...   \n",
       "4        0      0            0             0                 0  ...   \n",
       "\n",
       "   aid_centers  other_infrastructure  weather_related  floods  storm  fire  \\\n",
       "0            0                     0                0       0      0     0   \n",
       "1            0                     0                1       0      1     0   \n",
       "2            0                     0                0       0      0     0   \n",
       "3            0                     0                0       0      0     0   \n",
       "4            0                     0                0       0      0     0   \n",
       "\n",
       "   earthquake  cold  other_weather  direct_report  \n",
       "0           0     0              0              0  \n",
       "1           0     0              0              0  \n",
       "2           0     0              0              0  \n",
       "3           0     0              0              0  \n",
       "4           0     0              0              0  \n",
       "\n",
       "[5 rows x 40 columns]"
      ]
     },
     "execution_count": 10,
     "metadata": {},
     "output_type": "execute_result"
    }
   ],
   "source": [
    "# concatenate the original dataframe with the new `categories` dataframe\n",
    "df = pd.concat([df, categories], axis=1)\n",
    "df.head()"
   ]
  },
  {
   "cell_type": "markdown",
   "metadata": {},
   "source": [
    "I noticed that colunn related is 2, when all other columns are 0. But the same holds true for realted == 0. I will replace related = 2 into 0 in order do have a binary classification"
   ]
  },
  {
   "cell_type": "code",
   "execution_count": 11,
   "metadata": {},
   "outputs": [
    {
     "data": {
      "text/plain": [
       "request                   0\n",
       "offer                     0\n",
       "aid_related               0\n",
       "medical_help              0\n",
       "medical_products          0\n",
       "search_and_rescue         0\n",
       "security                  0\n",
       "military                  0\n",
       "child_alone               0\n",
       "water                     0\n",
       "food                      0\n",
       "shelter                   0\n",
       "clothing                  0\n",
       "money                     0\n",
       "missing_people            0\n",
       "refugees                  0\n",
       "death                     0\n",
       "other_aid                 0\n",
       "infrastructure_related    0\n",
       "transport                 0\n",
       "buildings                 0\n",
       "electricity               0\n",
       "tools                     0\n",
       "hospitals                 0\n",
       "shops                     0\n",
       "aid_centers               0\n",
       "other_infrastructure      0\n",
       "weather_related           0\n",
       "floods                    0\n",
       "storm                     0\n",
       "fire                      0\n",
       "earthquake                0\n",
       "cold                      0\n",
       "other_weather             0\n",
       "direct_report             0\n",
       "dtype: int64"
      ]
     },
     "execution_count": 11,
     "metadata": {},
     "output_type": "execute_result"
    }
   ],
   "source": [
    "df[df.related == 2].iloc[:,5:40].sum()"
   ]
  },
  {
   "cell_type": "markdown",
   "metadata": {},
   "source": [
    "### Overwrite related column ==2 with 0"
   ]
  },
  {
   "cell_type": "code",
   "execution_count": 12,
   "metadata": {},
   "outputs": [],
   "source": [
    "df.related.replace(2,0, inplace = True)"
   ]
  },
  {
   "cell_type": "markdown",
   "metadata": {},
   "source": [
    "### 6. Remove duplicates.\n",
    "- Check how many duplicates are in this dataset.\n",
    "- Drop the duplicates.\n",
    "- Confirm duplicates were removed."
   ]
  },
  {
   "cell_type": "code",
   "execution_count": 13,
   "metadata": {},
   "outputs": [
    {
     "name": "stdout",
     "output_type": "stream",
     "text": [
      "170\n"
     ]
    }
   ],
   "source": [
    "# check number of duplicates\n",
    "print(df.duplicated().sum())\n"
   ]
  },
  {
   "cell_type": "code",
   "execution_count": 14,
   "metadata": {},
   "outputs": [],
   "source": [
    "# drop duplicates\n",
    "df.drop_duplicates(inplace = True)"
   ]
  },
  {
   "cell_type": "code",
   "execution_count": 15,
   "metadata": {},
   "outputs": [
    {
     "name": "stdout",
     "output_type": "stream",
     "text": [
      "0\n"
     ]
    }
   ],
   "source": [
    "# check number of duplicates\n",
    "print(df.duplicated().sum())"
   ]
  },
  {
   "cell_type": "markdown",
   "metadata": {},
   "source": [
    "### 7. Save the clean dataset into an sqlite database.\n",
    "You can do this with pandas [`to_sql` method](https://pandas.pydata.org/pandas-docs/stable/generated/pandas.DataFrame.to_sql.html) combined with the SQLAlchemy library. Remember to import SQLAlchemy's `create_engine` in the first cell of this notebook to use it below."
   ]
  },
  {
   "cell_type": "code",
   "execution_count": 18,
   "metadata": {},
   "outputs": [],
   "source": [
    "engine = create_engine('sqlite:///web_app/data/DisasterResponse.db')\n",
    "df.to_sql('DisasterResponse', engine, index=False, if_exists='replace')"
   ]
  },
  {
   "cell_type": "code",
   "execution_count": 17,
   "metadata": {},
   "outputs": [
    {
     "data": {
      "text/html": [
       "<div>\n",
       "<style scoped>\n",
       "    .dataframe tbody tr th:only-of-type {\n",
       "        vertical-align: middle;\n",
       "    }\n",
       "\n",
       "    .dataframe tbody tr th {\n",
       "        vertical-align: top;\n",
       "    }\n",
       "\n",
       "    .dataframe thead th {\n",
       "        text-align: right;\n",
       "    }\n",
       "</style>\n",
       "<table border=\"1\" class=\"dataframe\">\n",
       "  <thead>\n",
       "    <tr style=\"text-align: right;\">\n",
       "      <th></th>\n",
       "      <th>id</th>\n",
       "      <th>message</th>\n",
       "      <th>original</th>\n",
       "      <th>genre</th>\n",
       "      <th>related</th>\n",
       "      <th>request</th>\n",
       "      <th>offer</th>\n",
       "      <th>aid_related</th>\n",
       "      <th>medical_help</th>\n",
       "      <th>medical_products</th>\n",
       "      <th>...</th>\n",
       "      <th>aid_centers</th>\n",
       "      <th>other_infrastructure</th>\n",
       "      <th>weather_related</th>\n",
       "      <th>floods</th>\n",
       "      <th>storm</th>\n",
       "      <th>fire</th>\n",
       "      <th>earthquake</th>\n",
       "      <th>cold</th>\n",
       "      <th>other_weather</th>\n",
       "      <th>direct_report</th>\n",
       "    </tr>\n",
       "  </thead>\n",
       "  <tbody>\n",
       "    <tr>\n",
       "      <th>0</th>\n",
       "      <td>2</td>\n",
       "      <td>Weather update - a cold front from Cuba that c...</td>\n",
       "      <td>Un front froid se retrouve sur Cuba ce matin. ...</td>\n",
       "      <td>direct</td>\n",
       "      <td>1</td>\n",
       "      <td>0</td>\n",
       "      <td>0</td>\n",
       "      <td>0</td>\n",
       "      <td>0</td>\n",
       "      <td>0</td>\n",
       "      <td>...</td>\n",
       "      <td>0</td>\n",
       "      <td>0</td>\n",
       "      <td>0</td>\n",
       "      <td>0</td>\n",
       "      <td>0</td>\n",
       "      <td>0</td>\n",
       "      <td>0</td>\n",
       "      <td>0</td>\n",
       "      <td>0</td>\n",
       "      <td>0</td>\n",
       "    </tr>\n",
       "    <tr>\n",
       "      <th>1</th>\n",
       "      <td>7</td>\n",
       "      <td>Is the Hurricane over or is it not over</td>\n",
       "      <td>Cyclone nan fini osinon li pa fini</td>\n",
       "      <td>direct</td>\n",
       "      <td>1</td>\n",
       "      <td>0</td>\n",
       "      <td>0</td>\n",
       "      <td>1</td>\n",
       "      <td>0</td>\n",
       "      <td>0</td>\n",
       "      <td>...</td>\n",
       "      <td>0</td>\n",
       "      <td>0</td>\n",
       "      <td>1</td>\n",
       "      <td>0</td>\n",
       "      <td>1</td>\n",
       "      <td>0</td>\n",
       "      <td>0</td>\n",
       "      <td>0</td>\n",
       "      <td>0</td>\n",
       "      <td>0</td>\n",
       "    </tr>\n",
       "    <tr>\n",
       "      <th>2</th>\n",
       "      <td>8</td>\n",
       "      <td>Looking for someone but no name</td>\n",
       "      <td>Patnm, di Maryani relem pou li banm nouvel li ...</td>\n",
       "      <td>direct</td>\n",
       "      <td>1</td>\n",
       "      <td>0</td>\n",
       "      <td>0</td>\n",
       "      <td>0</td>\n",
       "      <td>0</td>\n",
       "      <td>0</td>\n",
       "      <td>...</td>\n",
       "      <td>0</td>\n",
       "      <td>0</td>\n",
       "      <td>0</td>\n",
       "      <td>0</td>\n",
       "      <td>0</td>\n",
       "      <td>0</td>\n",
       "      <td>0</td>\n",
       "      <td>0</td>\n",
       "      <td>0</td>\n",
       "      <td>0</td>\n",
       "    </tr>\n",
       "    <tr>\n",
       "      <th>3</th>\n",
       "      <td>9</td>\n",
       "      <td>UN reports Leogane 80-90 destroyed. Only Hospi...</td>\n",
       "      <td>UN reports Leogane 80-90 destroyed. Only Hospi...</td>\n",
       "      <td>direct</td>\n",
       "      <td>1</td>\n",
       "      <td>1</td>\n",
       "      <td>0</td>\n",
       "      <td>1</td>\n",
       "      <td>0</td>\n",
       "      <td>1</td>\n",
       "      <td>...</td>\n",
       "      <td>0</td>\n",
       "      <td>0</td>\n",
       "      <td>0</td>\n",
       "      <td>0</td>\n",
       "      <td>0</td>\n",
       "      <td>0</td>\n",
       "      <td>0</td>\n",
       "      <td>0</td>\n",
       "      <td>0</td>\n",
       "      <td>0</td>\n",
       "    </tr>\n",
       "    <tr>\n",
       "      <th>4</th>\n",
       "      <td>12</td>\n",
       "      <td>says: west side of Haiti, rest of the country ...</td>\n",
       "      <td>facade ouest d Haiti et le reste du pays aujou...</td>\n",
       "      <td>direct</td>\n",
       "      <td>1</td>\n",
       "      <td>0</td>\n",
       "      <td>0</td>\n",
       "      <td>0</td>\n",
       "      <td>0</td>\n",
       "      <td>0</td>\n",
       "      <td>...</td>\n",
       "      <td>0</td>\n",
       "      <td>0</td>\n",
       "      <td>0</td>\n",
       "      <td>0</td>\n",
       "      <td>0</td>\n",
       "      <td>0</td>\n",
       "      <td>0</td>\n",
       "      <td>0</td>\n",
       "      <td>0</td>\n",
       "      <td>0</td>\n",
       "    </tr>\n",
       "  </tbody>\n",
       "</table>\n",
       "<p>5 rows × 40 columns</p>\n",
       "</div>"
      ],
      "text/plain": [
       "   id                                            message  \\\n",
       "0   2  Weather update - a cold front from Cuba that c...   \n",
       "1   7            Is the Hurricane over or is it not over   \n",
       "2   8                    Looking for someone but no name   \n",
       "3   9  UN reports Leogane 80-90 destroyed. Only Hospi...   \n",
       "4  12  says: west side of Haiti, rest of the country ...   \n",
       "\n",
       "                                            original   genre  related  \\\n",
       "0  Un front froid se retrouve sur Cuba ce matin. ...  direct        1   \n",
       "1                 Cyclone nan fini osinon li pa fini  direct        1   \n",
       "2  Patnm, di Maryani relem pou li banm nouvel li ...  direct        1   \n",
       "3  UN reports Leogane 80-90 destroyed. Only Hospi...  direct        1   \n",
       "4  facade ouest d Haiti et le reste du pays aujou...  direct        1   \n",
       "\n",
       "   request  offer  aid_related  medical_help  medical_products  ...  \\\n",
       "0        0      0            0             0                 0  ...   \n",
       "1        0      0            1             0                 0  ...   \n",
       "2        0      0            0             0                 0  ...   \n",
       "3        1      0            1             0                 1  ...   \n",
       "4        0      0            0             0                 0  ...   \n",
       "\n",
       "   aid_centers  other_infrastructure  weather_related  floods  storm  fire  \\\n",
       "0            0                     0                0       0      0     0   \n",
       "1            0                     0                1       0      1     0   \n",
       "2            0                     0                0       0      0     0   \n",
       "3            0                     0                0       0      0     0   \n",
       "4            0                     0                0       0      0     0   \n",
       "\n",
       "   earthquake  cold  other_weather  direct_report  \n",
       "0           0     0              0              0  \n",
       "1           0     0              0              0  \n",
       "2           0     0              0              0  \n",
       "3           0     0              0              0  \n",
       "4           0     0              0              0  \n",
       "\n",
       "[5 rows x 40 columns]"
      ]
     },
     "execution_count": 17,
     "metadata": {},
     "output_type": "execute_result"
    }
   ],
   "source": [
    "df.head()"
   ]
  },
  {
   "cell_type": "code",
   "execution_count": null,
   "metadata": {},
   "outputs": [],
   "source": []
  },
  {
   "cell_type": "code",
   "execution_count": null,
   "metadata": {},
   "outputs": [],
   "source": []
  },
  {
   "cell_type": "code",
   "execution_count": 44,
   "metadata": {},
   "outputs": [
    {
     "name": "stderr",
     "output_type": "stream",
     "text": [
      "[nltk_data] Downloading package punkt to\n",
      "[nltk_data]     C:\\Users\\erika.gintautas\\AppData\\Roaming\\nltk_data...\n",
      "[nltk_data]   Package punkt is already up-to-date!\n",
      "[nltk_data] Downloading package stopwords to\n",
      "[nltk_data]     C:\\Users\\erika.gintautas\\AppData\\Roaming\\nltk_data...\n",
      "[nltk_data]   Package stopwords is already up-to-date!\n",
      "[nltk_data] Downloading package wordnet to\n",
      "[nltk_data]     C:\\Users\\erika.gintautas\\AppData\\Roaming\\nltk_data...\n",
      "[nltk_data]   Package wordnet is already up-to-date!\n"
     ]
    },
    {
     "name": "stdout",
     "output_type": "stream",
     "text": [
      "Building model...\n",
      "Training model...\n",
      "Evaluating model...\n",
      "related\n",
      "              precision    recall  f1-score   support\n",
      "\n",
      "           0       0.74      0.28      0.41      1250\n",
      "           1       0.81      0.97      0.88      3994\n",
      "\n",
      "    accuracy                           0.81      5244\n",
      "   macro avg       0.78      0.63      0.65      5244\n",
      "weighted avg       0.80      0.81      0.77      5244\n",
      "\n",
      "\n",
      "\n",
      "request\n",
      "              precision    recall  f1-score   support\n",
      "\n",
      "           0       0.89      0.99      0.93      4336\n",
      "           1       0.86      0.41      0.55       908\n",
      "\n",
      "    accuracy                           0.89      5244\n",
      "   macro avg       0.87      0.70      0.74      5244\n",
      "weighted avg       0.88      0.89      0.87      5244\n",
      "\n",
      "\n",
      "\n",
      "offer\n",
      "              precision    recall  f1-score   support\n",
      "\n",
      "           0       1.00      1.00      1.00      5224\n",
      "           1       0.00      0.00      0.00        20\n",
      "\n",
      "    accuracy                           1.00      5244\n",
      "   macro avg       0.50      0.50      0.50      5244\n",
      "weighted avg       0.99      1.00      0.99      5244\n",
      "\n",
      "\n",
      "\n",
      "aid_related\n",
      "              precision    recall  f1-score   support\n",
      "\n",
      "           0       0.77      0.88      0.82      3092\n",
      "           1       0.79      0.62      0.70      2152\n",
      "\n",
      "    accuracy                           0.78      5244\n",
      "   macro avg       0.78      0.75      0.76      5244\n",
      "weighted avg       0.78      0.78      0.77      5244\n"
     ]
    },
    {
     "name": "stderr",
     "output_type": "stream",
     "text": [
      "c:\\users\\erika.gintautas\\appdata\\local\\programs\\python\\python37\\lib\\site-packages\\sklearn\\metrics\\_classification.py:1245: UndefinedMetricWarning: Precision and F-score are ill-defined and being set to 0.0 in labels with no predicted samples. Use `zero_division` parameter to control this behavior.\n",
      "  _warn_prf(average, modifier, msg_start, len(result))\n",
      "c:\\users\\erika.gintautas\\appdata\\local\\programs\\python\\python37\\lib\\site-packages\\sklearn\\metrics\\_classification.py:1245: UndefinedMetricWarning: Precision and F-score are ill-defined and being set to 0.0 in labels with no predicted samples. Use `zero_division` parameter to control this behavior.\n",
      "  _warn_prf(average, modifier, msg_start, len(result))\n",
      "c:\\users\\erika.gintautas\\appdata\\local\\programs\\python\\python37\\lib\\site-packages\\sklearn\\metrics\\_classification.py:1245: UndefinedMetricWarning: Precision and F-score are ill-defined and being set to 0.0 in labels with no predicted samples. Use `zero_division` parameter to control this behavior.\n",
      "  _warn_prf(average, modifier, msg_start, len(result))\n",
      "c:\\users\\erika.gintautas\\appdata\\local\\programs\\python\\python37\\lib\\site-packages\\sklearn\\metrics\\_classification.py:1245: UndefinedMetricWarning: Precision and F-score are ill-defined and being set to 0.0 in labels with no predicted samples. Use `zero_division` parameter to control this behavior.\n",
      "  _warn_prf(average, modifier, msg_start, len(result))\n",
      "c:\\users\\erika.gintautas\\appdata\\local\\programs\\python\\python37\\lib\\site-packages\\sklearn\\metrics\\_classification.py:1245: UndefinedMetricWarning: Precision and F-score are ill-defined and being set to 0.0 in labels with no predicted samples. Use `zero_division` parameter to control this behavior.\n",
      "  _warn_prf(average, modifier, msg_start, len(result))\n",
      "c:\\users\\erika.gintautas\\appdata\\local\\programs\\python\\python37\\lib\\site-packages\\sklearn\\metrics\\_classification.py:1245: UndefinedMetricWarning: Precision and F-score are ill-defined and being set to 0.0 in labels with no predicted samples. Use `zero_division` parameter to control this behavior.\n",
      "  _warn_prf(average, modifier, msg_start, len(result))\n"
     ]
    },
    {
     "name": "stdout",
     "output_type": "stream",
     "text": [
      "\n",
      "\n",
      "\n",
      "medical_help\n",
      "              precision    recall  f1-score   support\n",
      "\n",
      "           0       0.93      1.00      0.96      4846\n",
      "           1       0.43      0.03      0.06       398\n",
      "\n",
      "    accuracy                           0.92      5244\n",
      "   macro avg       0.68      0.51      0.51      5244\n",
      "weighted avg       0.89      0.92      0.89      5244\n",
      "\n",
      "\n",
      "\n",
      "medical_products\n",
      "              precision    recall  f1-score   support\n",
      "\n",
      "           0       0.95      1.00      0.98      4983\n",
      "           1       0.72      0.05      0.09       261\n",
      "\n",
      "    accuracy                           0.95      5244\n",
      "   macro avg       0.84      0.52      0.53      5244\n",
      "weighted avg       0.94      0.95      0.93      5244\n",
      "\n",
      "\n",
      "\n",
      "search_and_rescue\n",
      "              precision    recall  f1-score   support\n",
      "\n",
      "           0       0.97      1.00      0.99      5108\n",
      "           1       1.00      0.01      0.03       136\n",
      "\n",
      "    accuracy                           0.97      5244\n",
      "   macro avg       0.99      0.51      0.51      5244\n",
      "weighted avg       0.98      0.97      0.96      5244\n",
      "\n",
      "\n",
      "\n",
      "security\n",
      "              precision    recall  f1-score   support\n",
      "\n",
      "           0       0.98      1.00      0.99      5152\n",
      "           1       0.00      0.00      0.00        92\n",
      "\n",
      "    accuracy                           0.98      5244\n",
      "   macro avg       0.49      0.50      0.50      5244\n",
      "weighted avg       0.97      0.98      0.97      5244\n",
      "\n",
      "\n",
      "\n",
      "military\n",
      "              precision    recall  f1-score   support\n",
      "\n",
      "           0       0.97      1.00      0.98      5075\n",
      "           1       0.80      0.05      0.09       169\n",
      "\n",
      "    accuracy                           0.97      5244\n",
      "   macro avg       0.88      0.52      0.54      5244\n",
      "weighted avg       0.96      0.97      0.96      5244\n",
      "\n",
      "\n",
      "\n",
      "child_alone\n",
      "              precision    recall  f1-score   support\n",
      "\n",
      "           0       1.00      1.00      1.00      5244\n",
      "\n",
      "    accuracy                           1.00      5244\n",
      "   macro avg       1.00      1.00      1.00      5244\n",
      "weighted avg       1.00      1.00      1.00      5244\n",
      "\n",
      "\n",
      "\n",
      "water\n",
      "              precision    recall  f1-score   support\n",
      "\n",
      "           0       0.96      1.00      0.98      4909\n",
      "           1       0.94      0.32      0.48       335\n",
      "\n",
      "    accuracy                           0.96      5244\n",
      "   macro avg       0.95      0.66      0.73      5244\n",
      "weighted avg       0.95      0.96      0.94      5244\n",
      "\n",
      "\n",
      "\n",
      "food\n",
      "              precision    recall  f1-score   support\n",
      "\n",
      "           0       0.94      0.99      0.96      4655\n",
      "           1       0.87      0.47      0.61       589\n",
      "\n",
      "    accuracy                           0.93      5244\n",
      "   macro avg       0.90      0.73      0.79      5244\n",
      "weighted avg       0.93      0.93      0.92      5244\n",
      "\n",
      "\n",
      "\n",
      "shelter\n",
      "              precision    recall  f1-score   support\n",
      "\n",
      "           0       0.94      1.00      0.97      4802\n",
      "           1       0.90      0.28      0.43       442\n",
      "\n",
      "    accuracy                           0.94      5244\n",
      "   macro avg       0.92      0.64      0.70      5244\n",
      "weighted avg       0.93      0.94      0.92      5244\n",
      "\n",
      "\n",
      "\n",
      "clothing\n",
      "              precision    recall  f1-score   support\n",
      "\n",
      "           0       0.99      1.00      0.99      5163\n",
      "           1       0.71      0.06      0.11        81\n",
      "\n",
      "    accuracy                           0.99      5244\n",
      "   macro avg       0.85      0.53      0.55      5244\n",
      "weighted avg       0.98      0.99      0.98      5244\n",
      "\n",
      "\n",
      "\n",
      "money\n",
      "              precision    recall  f1-score   support\n",
      "\n",
      "           0       0.98      1.00      0.99      5140\n",
      "           1       0.75      0.03      0.06       104\n",
      "\n",
      "    accuracy                           0.98      5244\n",
      "   macro avg       0.87      0.51      0.52      5244\n",
      "weighted avg       0.98      0.98      0.97      5244\n",
      "\n",
      "\n",
      "\n",
      "missing_people\n",
      "              precision    recall  f1-score   support\n",
      "\n",
      "           0       0.99      1.00      0.99      5183\n",
      "           1       0.00      0.00      0.00        61\n",
      "\n",
      "    accuracy                           0.99      5244\n",
      "   macro avg       0.49      0.50      0.50      5244\n",
      "weighted avg       0.98      0.99      0.98      5244\n",
      "\n",
      "\n",
      "\n",
      "refugees\n",
      "              precision    recall  f1-score   support\n",
      "\n",
      "           0       0.97      1.00      0.98      5072\n",
      "           1       0.61      0.06      0.12       172\n",
      "\n",
      "    accuracy                           0.97      5244\n",
      "   macro avg       0.79      0.53      0.55      5244\n",
      "weighted avg       0.96      0.97      0.96      5244\n",
      "\n",
      "\n",
      "\n",
      "death\n",
      "              precision    recall  f1-score   support\n",
      "\n",
      "           0       0.96      1.00      0.98      5026\n",
      "           1       0.97      0.13      0.23       218\n",
      "\n",
      "    accuracy                           0.96      5244\n",
      "   macro avg       0.96      0.56      0.60      5244\n",
      "weighted avg       0.96      0.96      0.95      5244\n",
      "\n",
      "\n",
      "\n",
      "other_aid\n",
      "              precision    recall  f1-score   support\n",
      "\n",
      "           0       0.87      1.00      0.93      4528\n",
      "           1       0.93      0.02      0.04       716\n",
      "\n",
      "    accuracy                           0.87      5244\n",
      "   macro avg       0.90      0.51      0.48      5244\n",
      "weighted avg       0.87      0.87      0.81      5244\n",
      "\n",
      "\n",
      "\n",
      "infrastructure_related\n",
      "              precision    recall  f1-score   support\n",
      "\n",
      "           0       0.94      1.00      0.97      4908\n",
      "           1       0.00      0.00      0.00       336\n",
      "\n",
      "    accuracy                           0.94      5244\n",
      "   macro avg       0.47      0.50      0.48      5244\n",
      "weighted avg       0.88      0.94      0.90      5244\n",
      "\n",
      "\n",
      "\n",
      "transport\n",
      "              precision    recall  f1-score   support\n",
      "\n",
      "           0       0.96      1.00      0.98      5005\n",
      "           1       0.82      0.11      0.20       239\n",
      "\n",
      "    accuracy                           0.96      5244\n",
      "   macro avg       0.89      0.56      0.59      5244\n",
      "weighted avg       0.95      0.96      0.94      5244\n"
     ]
    },
    {
     "name": "stderr",
     "output_type": "stream",
     "text": [
      "c:\\users\\erika.gintautas\\appdata\\local\\programs\\python\\python37\\lib\\site-packages\\sklearn\\metrics\\_classification.py:1245: UndefinedMetricWarning: Precision and F-score are ill-defined and being set to 0.0 in labels with no predicted samples. Use `zero_division` parameter to control this behavior.\n",
      "  _warn_prf(average, modifier, msg_start, len(result))\n",
      "c:\\users\\erika.gintautas\\appdata\\local\\programs\\python\\python37\\lib\\site-packages\\sklearn\\metrics\\_classification.py:1245: UndefinedMetricWarning: Precision and F-score are ill-defined and being set to 0.0 in labels with no predicted samples. Use `zero_division` parameter to control this behavior.\n",
      "  _warn_prf(average, modifier, msg_start, len(result))\n",
      "c:\\users\\erika.gintautas\\appdata\\local\\programs\\python\\python37\\lib\\site-packages\\sklearn\\metrics\\_classification.py:1245: UndefinedMetricWarning: Precision and F-score are ill-defined and being set to 0.0 in labels with no predicted samples. Use `zero_division` parameter to control this behavior.\n",
      "  _warn_prf(average, modifier, msg_start, len(result))\n",
      "c:\\users\\erika.gintautas\\appdata\\local\\programs\\python\\python37\\lib\\site-packages\\sklearn\\metrics\\_classification.py:1245: UndefinedMetricWarning: Precision and F-score are ill-defined and being set to 0.0 in labels with no predicted samples. Use `zero_division` parameter to control this behavior.\n",
      "  _warn_prf(average, modifier, msg_start, len(result))\n",
      "c:\\users\\erika.gintautas\\appdata\\local\\programs\\python\\python37\\lib\\site-packages\\sklearn\\metrics\\_classification.py:1245: UndefinedMetricWarning: Precision and F-score are ill-defined and being set to 0.0 in labels with no predicted samples. Use `zero_division` parameter to control this behavior.\n",
      "  _warn_prf(average, modifier, msg_start, len(result))\n"
     ]
    },
    {
     "name": "stdout",
     "output_type": "stream",
     "text": [
      "\n",
      "\n",
      "\n",
      "buildings\n",
      "              precision    recall  f1-score   support\n",
      "\n",
      "           0       0.95      1.00      0.97      4976\n",
      "           1       0.79      0.04      0.08       268\n",
      "\n",
      "    accuracy                           0.95      5244\n",
      "   macro avg       0.87      0.52      0.53      5244\n",
      "weighted avg       0.94      0.95      0.93      5244\n",
      "\n",
      "\n",
      "\n",
      "electricity\n",
      "              precision    recall  f1-score   support\n",
      "\n",
      "           0       0.98      1.00      0.99      5129\n",
      "           1       0.00      0.00      0.00       115\n",
      "\n",
      "    accuracy                           0.98      5244\n",
      "   macro avg       0.49      0.50      0.49      5244\n",
      "weighted avg       0.96      0.98      0.97      5244\n",
      "\n",
      "\n",
      "\n",
      "tools\n",
      "              precision    recall  f1-score   support\n",
      "\n",
      "           0       0.99      1.00      1.00      5215\n",
      "           1       0.00      0.00      0.00        29\n",
      "\n",
      "    accuracy                           0.99      5244\n",
      "   macro avg       0.50      0.50      0.50      5244\n",
      "weighted avg       0.99      0.99      0.99      5244\n",
      "\n",
      "\n",
      "\n",
      "hospitals\n",
      "              precision    recall  f1-score   support\n",
      "\n",
      "           0       0.99      1.00      0.99      5184\n",
      "           1       0.00      0.00      0.00        60\n",
      "\n",
      "    accuracy                           0.99      5244\n",
      "   macro avg       0.49      0.50      0.50      5244\n",
      "weighted avg       0.98      0.99      0.98      5244\n",
      "\n",
      "\n",
      "\n",
      "shops\n",
      "              precision    recall  f1-score   support\n",
      "\n",
      "           0       1.00      1.00      1.00      5220\n",
      "           1       0.00      0.00      0.00        24\n",
      "\n",
      "    accuracy                           1.00      5244\n",
      "   macro avg       0.50      0.50      0.50      5244\n",
      "weighted avg       0.99      1.00      0.99      5244\n",
      "\n",
      "\n",
      "\n",
      "aid_centers\n",
      "              precision    recall  f1-score   support\n",
      "\n",
      "           0       0.99      1.00      0.99      5181\n",
      "           1       0.00      0.00      0.00        63\n",
      "\n",
      "    accuracy                           0.99      5244\n",
      "   macro avg       0.49      0.50      0.50      5244\n",
      "weighted avg       0.98      0.99      0.98      5244\n",
      "\n",
      "\n",
      "\n",
      "other_infrastructure\n",
      "              precision    recall  f1-score   support\n",
      "\n",
      "           0       0.96      1.00      0.98      5019\n",
      "           1       0.00      0.00      0.00       225\n",
      "\n",
      "    accuracy                           0.96      5244\n",
      "   macro avg       0.48      0.50      0.49      5244\n",
      "weighted avg       0.92      0.96      0.94      5244\n",
      "\n",
      "\n",
      "\n",
      "weather_related\n",
      "              precision    recall  f1-score   support\n",
      "\n",
      "           0       0.88      0.96      0.92      3807\n",
      "           1       0.87      0.64      0.74      1437\n",
      "\n",
      "    accuracy                           0.87      5244\n",
      "   macro avg       0.87      0.80      0.83      5244\n",
      "weighted avg       0.87      0.87      0.87      5244\n"
     ]
    },
    {
     "name": "stderr",
     "output_type": "stream",
     "text": [
      "c:\\users\\erika.gintautas\\appdata\\local\\programs\\python\\python37\\lib\\site-packages\\sklearn\\metrics\\_classification.py:1245: UndefinedMetricWarning: Precision and F-score are ill-defined and being set to 0.0 in labels with no predicted samples. Use `zero_division` parameter to control this behavior.\n",
      "  _warn_prf(average, modifier, msg_start, len(result))\n",
      "c:\\users\\erika.gintautas\\appdata\\local\\programs\\python\\python37\\lib\\site-packages\\sklearn\\metrics\\_classification.py:1245: UndefinedMetricWarning: Precision and F-score are ill-defined and being set to 0.0 in labels with no predicted samples. Use `zero_division` parameter to control this behavior.\n",
      "  _warn_prf(average, modifier, msg_start, len(result))\n",
      "c:\\users\\erika.gintautas\\appdata\\local\\programs\\python\\python37\\lib\\site-packages\\sklearn\\metrics\\_classification.py:1245: UndefinedMetricWarning: Precision and F-score are ill-defined and being set to 0.0 in labels with no predicted samples. Use `zero_division` parameter to control this behavior.\n",
      "  _warn_prf(average, modifier, msg_start, len(result))\n",
      "c:\\users\\erika.gintautas\\appdata\\local\\programs\\python\\python37\\lib\\site-packages\\sklearn\\metrics\\_classification.py:1245: UndefinedMetricWarning: Precision and F-score are ill-defined and being set to 0.0 in labels with no predicted samples. Use `zero_division` parameter to control this behavior.\n",
      "  _warn_prf(average, modifier, msg_start, len(result))\n",
      "c:\\users\\erika.gintautas\\appdata\\local\\programs\\python\\python37\\lib\\site-packages\\sklearn\\metrics\\_classification.py:1245: UndefinedMetricWarning: Precision and F-score are ill-defined and being set to 0.0 in labels with no predicted samples. Use `zero_division` parameter to control this behavior.\n",
      "  _warn_prf(average, modifier, msg_start, len(result))\n",
      "c:\\users\\erika.gintautas\\appdata\\local\\programs\\python\\python37\\lib\\site-packages\\sklearn\\metrics\\_classification.py:1245: UndefinedMetricWarning: Precision and F-score are ill-defined and being set to 0.0 in labels with no predicted samples. Use `zero_division` parameter to control this behavior.\n",
      "  _warn_prf(average, modifier, msg_start, len(result))\n",
      "c:\\users\\erika.gintautas\\appdata\\local\\programs\\python\\python37\\lib\\site-packages\\sklearn\\metrics\\_classification.py:1245: UndefinedMetricWarning: Precision and F-score are ill-defined and being set to 0.0 in labels with no predicted samples. Use `zero_division` parameter to control this behavior.\n",
      "  _warn_prf(average, modifier, msg_start, len(result))\n",
      "c:\\users\\erika.gintautas\\appdata\\local\\programs\\python\\python37\\lib\\site-packages\\sklearn\\metrics\\_classification.py:1245: UndefinedMetricWarning: Precision and F-score are ill-defined and being set to 0.0 in labels with no predicted samples. Use `zero_division` parameter to control this behavior.\n",
      "  _warn_prf(average, modifier, msg_start, len(result))\n",
      "c:\\users\\erika.gintautas\\appdata\\local\\programs\\python\\python37\\lib\\site-packages\\sklearn\\metrics\\_classification.py:1245: UndefinedMetricWarning: Precision and F-score are ill-defined and being set to 0.0 in labels with no predicted samples. Use `zero_division` parameter to control this behavior.\n",
      "  _warn_prf(average, modifier, msg_start, len(result))\n",
      "c:\\users\\erika.gintautas\\appdata\\local\\programs\\python\\python37\\lib\\site-packages\\sklearn\\metrics\\_classification.py:1245: UndefinedMetricWarning: Precision and F-score are ill-defined and being set to 0.0 in labels with no predicted samples. Use `zero_division` parameter to control this behavior.\n",
      "  _warn_prf(average, modifier, msg_start, len(result))\n"
     ]
    },
    {
     "name": "stdout",
     "output_type": "stream",
     "text": [
      "\n",
      "\n",
      "\n",
      "floods\n",
      "              precision    recall  f1-score   support\n",
      "\n",
      "           0       0.94      1.00      0.97      4797\n",
      "           1       0.91      0.36      0.51       447\n",
      "\n",
      "    accuracy                           0.94      5244\n",
      "   macro avg       0.93      0.68      0.74      5244\n",
      "weighted avg       0.94      0.94      0.93      5244\n",
      "\n",
      "\n",
      "\n",
      "storm\n",
      "              precision    recall  f1-score   support\n",
      "\n",
      "           0       0.95      0.99      0.97      4784\n",
      "           1       0.78      0.46      0.58       460\n",
      "\n",
      "    accuracy                           0.94      5244\n",
      "   macro avg       0.86      0.72      0.77      5244\n",
      "weighted avg       0.93      0.94      0.93      5244\n",
      "\n",
      "\n",
      "\n",
      "fire\n",
      "              precision    recall  f1-score   support\n",
      "\n",
      "           0       0.99      1.00      1.00      5193\n",
      "           1       1.00      0.02      0.04        51\n",
      "\n",
      "    accuracy                           0.99      5244\n",
      "   macro avg       1.00      0.51      0.52      5244\n",
      "weighted avg       0.99      0.99      0.99      5244\n",
      "\n",
      "\n",
      "\n",
      "earthquake\n",
      "              precision    recall  f1-score   support\n",
      "\n",
      "           0       0.97      0.99      0.98      4743\n",
      "           1       0.91      0.75      0.82       501\n",
      "\n",
      "    accuracy                           0.97      5244\n",
      "   macro avg       0.94      0.87      0.90      5244\n",
      "weighted avg       0.97      0.97      0.97      5244\n",
      "\n",
      "\n",
      "\n",
      "cold\n",
      "              precision    recall  f1-score   support\n",
      "\n",
      "           0       0.98      1.00      0.99      5157\n",
      "           1       1.00      0.06      0.11        87\n",
      "\n",
      "    accuracy                           0.98      5244\n",
      "   macro avg       0.99      0.53      0.55      5244\n",
      "weighted avg       0.98      0.98      0.98      5244\n",
      "\n",
      "\n",
      "\n",
      "other_weather\n",
      "              precision    recall  f1-score   support\n",
      "\n",
      "           0       0.95      1.00      0.97      4988\n",
      "           1       0.43      0.01      0.02       256\n",
      "\n",
      "    accuracy                           0.95      5244\n",
      "   macro avg       0.69      0.51      0.50      5244\n",
      "weighted avg       0.93      0.95      0.93      5244\n",
      "\n",
      "\n",
      "\n",
      "direct_report\n",
      "              precision    recall  f1-score   support\n",
      "\n",
      "           0       0.87      0.99      0.93      4278\n",
      "           1       0.86      0.36      0.51       966\n",
      "\n",
      "    accuracy                           0.87      5244\n",
      "   macro avg       0.87      0.67      0.72      5244\n",
      "weighted avg       0.87      0.87      0.85      5244\n",
      "\n",
      "\n",
      "\n",
      "Trained model saved!\n"
     ]
    }
   ],
   "source": [
    "import sys\n",
    "import pandas as pd\n",
    "import numpy as np\n",
    "import sqlalchemy as db\n",
    "from sqlalchemy import create_engine\n",
    "\n",
    "import re\n",
    "import nltk\n",
    "from nltk.corpus import stopwords\n",
    "from nltk.stem.wordnet import WordNetLemmatizer\n",
    "from nltk.tokenize import word_tokenize\n",
    "\n",
    "nltk.download('punkt')\n",
    "nltk.download('stopwords')\n",
    "nltk.download('wordnet')\n",
    "stop_words = stopwords.words(\"english\")\n",
    "\n",
    "from sklearn.model_selection import train_test_split\n",
    "from sklearn.metrics import confusion_matrix\n",
    "from sklearn.metrics import classification_report\n",
    "from sklearn.ensemble import RandomForestClassifier\n",
    "from sklearn.model_selection import train_test_split\n",
    "from sklearn.pipeline import Pipeline, FeatureUnion\n",
    "from sklearn.base import BaseEstimator, TransformerMixin\n",
    "from sklearn.feature_extraction.text import CountVectorizer, TfidfTransformer\n",
    "from sklearn.model_selection import GridSearchCV\n",
    "\n",
    "from joblib import dump, load\n",
    "#import pickle\n",
    "#from sklearn.externals import joblib\n",
    "\n",
    "#from sklearn.datasets import make_multilabel_classification\n",
    "from sklearn.multioutput import MultiOutputClassifier\n",
    "\n",
    "\n",
    "def load_data():\n",
    "    \"\"\"\n",
    "    Load Data from database\n",
    "    Split into Features X and Target Y (Last 36 columns)\n",
    "    \"\"\"\n",
    "    engine = create_engine('sqlite:///web_app/data/DisasterResponse.db')\n",
    "    df = pd.read_sql_table('DisasterResponse', engine)\n",
    "\n",
    "    X = df.iloc[:,1]\n",
    "    Y = df.iloc[:,4:40]\n",
    "    category_names = Y.columns\n",
    "    return X, Y, category_names\n",
    "\n",
    "\n",
    "def tokenize(text):\n",
    "     # normalize case and remove punctuation\n",
    "    #text = re.sub(r\"[^a-zA-Z0-9]\", \" \", text.lower().strip())\n",
    "    \n",
    "    # tokenize text\n",
    "    #tokens = word_tokenize(text)\n",
    "    \n",
    "    # lemmatize and remove stop words\n",
    "    #lemmatizer = WordNetLemmatizer()\n",
    "    #clean_tokens = [lemmatizer.lemmatize(word) for word in tokens if word not in stop_words]\n",
    "\n",
    "    tokens = word_tokenize(text)\n",
    "    lemmatizer = WordNetLemmatizer()\n",
    "\n",
    "    clean_tokens = []\n",
    "    for tok in tokens:\n",
    "        clean_tok = lemmatizer.lemmatize(tok).lower().strip()\n",
    "        clean_tokens.append(clean_tok)\n",
    "    return clean_tokens\n",
    "\n",
    "\n",
    "def build_model():\n",
    "    \"\"\"Create pipeline with CountVectorizer, TfidfTransformer, MultioutputClassifier and RandomForestClassifier\"\"\"\n",
    "    pipeline = Pipeline([\n",
    "        ('vect', CountVectorizer(tokenizer = tokenize)),\n",
    "        ('tfidf', TfidfTransformer()),\n",
    "        ('clf', MultiOutputClassifier(RandomForestClassifier()))\n",
    "    ])\n",
    "    return pipeline\n",
    "\n",
    "\n",
    "def evaluate_model(model, X_test, Y_test, category_names):\n",
    "    Y_pred = model.predict(X_test)\n",
    "    for i, cat in enumerate(category_names):\n",
    "        print(cat)\n",
    "        print(classification_report(Y_test.iloc[:,i], Y_pred[:,i]))\n",
    "        print('\\n')\n",
    "    return Y_pred\n",
    "\n",
    "\n",
    "def save_model(model, model_filepath):\n",
    "    #outfile = open(model_filepath,'wb')\n",
    "    #pickle.dump(model, outfile)\n",
    "    #outfile.close()\n",
    "    dump(model, model_filepath)\n",
    "\n",
    "\n",
    "\n",
    "def main():\n",
    " \n",
    "\n",
    "    X, Y, category_names = load_data()\n",
    "    X_train, X_test, Y_train, Y_test = train_test_split(X, Y, test_size=0.2)\n",
    "        \n",
    "    print('Building model...')\n",
    "    model = build_model()\n",
    "        \n",
    "    print('Training model...')\n",
    "    model.fit(X_train, Y_train)\n",
    "        \n",
    "    print('Evaluating model...')\n",
    "    evaluate_model(model, X_test, Y_test, category_names)\n",
    "\n",
    "    save_model(model, 'web_app/models/classifier.pkl')\n",
    "\n",
    "    print('Trained model saved!')\n",
    "\n",
    "\n",
    "main()        \n"
   ]
  },
  {
   "cell_type": "code",
   "execution_count": 45,
   "metadata": {},
   "outputs": [],
   "source": [
    "X,Y, category_names = load_data()"
   ]
  },
  {
   "cell_type": "code",
   "execution_count": 48,
   "metadata": {},
   "outputs": [
    {
     "data": {
      "text/plain": [
       "26216"
      ]
     },
     "execution_count": 48,
     "metadata": {},
     "output_type": "execute_result"
    }
   ],
   "source": [
    "X[X.isna()]\n",
    "len(X)"
   ]
  },
  {
   "cell_type": "code",
   "execution_count": 57,
   "metadata": {},
   "outputs": [
    {
     "data": {
      "text/plain": [
       "656    there was a cold front over cuba this morning....\n",
       "657    We thank you for choosing to help Haitians in ...\n",
       "Name: message, dtype: object"
      ]
     },
     "execution_count": 57,
     "metadata": {},
     "output_type": "execute_result"
    }
   ],
   "source": [
    "X.iloc[656:658]"
   ]
  },
  {
   "cell_type": "markdown",
   "metadata": {},
   "source": [
    "### 8. Use this notebook to complete `etl_pipeline.py`\n",
    "Use the template file attached in the Resources folder to write a script that runs the steps above to create a database based on new datasets specified by the user. Alternatively, you can complete `etl_pipeline.py` in the classroom on the `Project Workspace IDE` coming later."
   ]
  },
  {
   "cell_type": "code",
   "execution_count": 25,
   "metadata": {},
   "outputs": [
    {
     "data": {
      "application/vnd.plotly.v1+json": {
       "config": {
        "plotlyServerURL": "https://plot.ly"
       },
       "data": [
        {
         "alignmentgroup": "True",
         "hovertemplate": "genre=direct<br>cluster by genre=%{x}<br>Number of messages=%{y}<extra></extra>",
         "legendgroup": "direct",
         "marker": {
          "color": "#636efa"
         },
         "name": "direct",
         "offsetgroup": "direct",
         "orientation": "v",
         "showlegend": true,
         "textposition": "auto",
         "type": "bar",
         "x": [
          "request",
          "direct_report",
          "food",
          "other_aid",
          "shelter",
          "water",
          "earthquake",
          "medical_help",
          "medical_products",
          "buildings",
          "storm",
          "floods",
          "death",
          "clothing",
          "search_and_rescue",
          "transport",
          "other_weather",
          "other_infrastructure",
          "refugees",
          "money",
          "security",
          "missing_people",
          "electricity",
          "aid_centers",
          "cold",
          "hospitals",
          "offer",
          "military",
          "fire",
          "shops",
          "tools",
          "child_alone"
         ],
         "xaxis": "x",
         "y": [
          3696,
          3613,
          1807,
          1575,
          1152,
          836,
          796,
          592,
          471,
          391,
          315,
          304,
          254,
          247,
          216,
          210,
          207,
          186,
          174,
          148,
          131,
          86,
          81,
          78,
          63,
          54,
          46,
          46,
          41,
          33,
          33,
          0
         ],
         "yaxis": "y"
        },
        {
         "alignmentgroup": "True",
         "hovertemplate": "genre=news<br>cluster by genre=%{x}<br>Number of messages=%{y}<extra></extra>",
         "legendgroup": "news",
         "marker": {
          "color": "#EF553B"
         },
         "name": "news",
         "offsetgroup": "news",
         "orientation": "v",
         "showlegend": true,
         "textposition": "auto",
         "type": "bar",
         "x": [
          "floods",
          "other_aid",
          "storm",
          "medical_help",
          "shelter",
          "other_weather",
          "food",
          "earthquake",
          "transport",
          "other_infrastructure",
          "death",
          "direct_report",
          "buildings",
          "military",
          "medical_products",
          "water",
          "refugees",
          "request",
          "search_and_rescue",
          "cold",
          "money",
          "electricity",
          "security",
          "fire",
          "aid_centers",
          "hospitals",
          "missing_people",
          "clothing",
          "tools",
          "shops",
          "offer",
          "child_alone"
         ],
         "xaxis": "x",
         "y": [
          1747,
          1563,
          1445,
          1415,
          1113,
          1052,
          1007,
          910,
          872,
          866,
          858,
          852,
          829,
          801,
          793,
          790,
          666,
          604,
          441,
          415,
          381,
          327,
          292,
          225,
          218,
          202,
          165,
          135,
          114,
          68,
          65,
          0
         ],
         "yaxis": "y"
        },
        {
         "alignmentgroup": "True",
         "hovertemplate": "genre=social<br>cluster by genre=%{x}<br>Number of messages=%{y}<extra></extra>",
         "legendgroup": "social",
         "marker": {
          "color": "#00cc96"
         },
         "name": "social",
         "offsetgroup": "social",
         "orientation": "v",
         "showlegend": true,
         "textposition": "auto",
         "type": "bar",
         "x": [
          "earthquake",
          "storm",
          "direct_report",
          "other_aid",
          "request",
          "electricity",
          "transport",
          "other_weather",
          "buildings",
          "food",
          "floods",
          "other_infrastructure",
          "death",
          "medical_help",
          "money",
          "search_and_rescue",
          "cold",
          "medical_products",
          "shelter",
          "security",
          "missing_people",
          "water",
          "refugees",
          "hospitals",
          "clothing",
          "shops",
          "fire",
          "aid_centers",
          "military",
          "tools",
          "offer",
          "child_alone"
         ],
         "xaxis": "x",
         "y": [
          749,
          683,
          610,
          308,
          174,
          124,
          119,
          117,
          113,
          109,
          104,
          99,
          82,
          77,
          75,
          67,
          52,
          49,
          49,
          48,
          47,
          46,
          35,
          27,
          23,
          19,
          16,
          13,
          13,
          12,
          7,
          0
         ],
         "yaxis": "y"
        }
       ],
       "layout": {
        "barmode": "relative",
        "legend": {
         "title": {
          "text": "genre"
         },
         "tracegroupgap": 0
        },
        "template": {
         "data": {
          "bar": [
           {
            "error_x": {
             "color": "#2a3f5f"
            },
            "error_y": {
             "color": "#2a3f5f"
            },
            "marker": {
             "line": {
              "color": "#E5ECF6",
              "width": 0.5
             }
            },
            "type": "bar"
           }
          ],
          "barpolar": [
           {
            "marker": {
             "line": {
              "color": "#E5ECF6",
              "width": 0.5
             }
            },
            "type": "barpolar"
           }
          ],
          "carpet": [
           {
            "aaxis": {
             "endlinecolor": "#2a3f5f",
             "gridcolor": "white",
             "linecolor": "white",
             "minorgridcolor": "white",
             "startlinecolor": "#2a3f5f"
            },
            "baxis": {
             "endlinecolor": "#2a3f5f",
             "gridcolor": "white",
             "linecolor": "white",
             "minorgridcolor": "white",
             "startlinecolor": "#2a3f5f"
            },
            "type": "carpet"
           }
          ],
          "choropleth": [
           {
            "colorbar": {
             "outlinewidth": 0,
             "ticks": ""
            },
            "type": "choropleth"
           }
          ],
          "contour": [
           {
            "colorbar": {
             "outlinewidth": 0,
             "ticks": ""
            },
            "colorscale": [
             [
              0,
              "#0d0887"
             ],
             [
              0.1111111111111111,
              "#46039f"
             ],
             [
              0.2222222222222222,
              "#7201a8"
             ],
             [
              0.3333333333333333,
              "#9c179e"
             ],
             [
              0.4444444444444444,
              "#bd3786"
             ],
             [
              0.5555555555555556,
              "#d8576b"
             ],
             [
              0.6666666666666666,
              "#ed7953"
             ],
             [
              0.7777777777777778,
              "#fb9f3a"
             ],
             [
              0.8888888888888888,
              "#fdca26"
             ],
             [
              1,
              "#f0f921"
             ]
            ],
            "type": "contour"
           }
          ],
          "contourcarpet": [
           {
            "colorbar": {
             "outlinewidth": 0,
             "ticks": ""
            },
            "type": "contourcarpet"
           }
          ],
          "heatmap": [
           {
            "colorbar": {
             "outlinewidth": 0,
             "ticks": ""
            },
            "colorscale": [
             [
              0,
              "#0d0887"
             ],
             [
              0.1111111111111111,
              "#46039f"
             ],
             [
              0.2222222222222222,
              "#7201a8"
             ],
             [
              0.3333333333333333,
              "#9c179e"
             ],
             [
              0.4444444444444444,
              "#bd3786"
             ],
             [
              0.5555555555555556,
              "#d8576b"
             ],
             [
              0.6666666666666666,
              "#ed7953"
             ],
             [
              0.7777777777777778,
              "#fb9f3a"
             ],
             [
              0.8888888888888888,
              "#fdca26"
             ],
             [
              1,
              "#f0f921"
             ]
            ],
            "type": "heatmap"
           }
          ],
          "heatmapgl": [
           {
            "colorbar": {
             "outlinewidth": 0,
             "ticks": ""
            },
            "colorscale": [
             [
              0,
              "#0d0887"
             ],
             [
              0.1111111111111111,
              "#46039f"
             ],
             [
              0.2222222222222222,
              "#7201a8"
             ],
             [
              0.3333333333333333,
              "#9c179e"
             ],
             [
              0.4444444444444444,
              "#bd3786"
             ],
             [
              0.5555555555555556,
              "#d8576b"
             ],
             [
              0.6666666666666666,
              "#ed7953"
             ],
             [
              0.7777777777777778,
              "#fb9f3a"
             ],
             [
              0.8888888888888888,
              "#fdca26"
             ],
             [
              1,
              "#f0f921"
             ]
            ],
            "type": "heatmapgl"
           }
          ],
          "histogram": [
           {
            "marker": {
             "colorbar": {
              "outlinewidth": 0,
              "ticks": ""
             }
            },
            "type": "histogram"
           }
          ],
          "histogram2d": [
           {
            "colorbar": {
             "outlinewidth": 0,
             "ticks": ""
            },
            "colorscale": [
             [
              0,
              "#0d0887"
             ],
             [
              0.1111111111111111,
              "#46039f"
             ],
             [
              0.2222222222222222,
              "#7201a8"
             ],
             [
              0.3333333333333333,
              "#9c179e"
             ],
             [
              0.4444444444444444,
              "#bd3786"
             ],
             [
              0.5555555555555556,
              "#d8576b"
             ],
             [
              0.6666666666666666,
              "#ed7953"
             ],
             [
              0.7777777777777778,
              "#fb9f3a"
             ],
             [
              0.8888888888888888,
              "#fdca26"
             ],
             [
              1,
              "#f0f921"
             ]
            ],
            "type": "histogram2d"
           }
          ],
          "histogram2dcontour": [
           {
            "colorbar": {
             "outlinewidth": 0,
             "ticks": ""
            },
            "colorscale": [
             [
              0,
              "#0d0887"
             ],
             [
              0.1111111111111111,
              "#46039f"
             ],
             [
              0.2222222222222222,
              "#7201a8"
             ],
             [
              0.3333333333333333,
              "#9c179e"
             ],
             [
              0.4444444444444444,
              "#bd3786"
             ],
             [
              0.5555555555555556,
              "#d8576b"
             ],
             [
              0.6666666666666666,
              "#ed7953"
             ],
             [
              0.7777777777777778,
              "#fb9f3a"
             ],
             [
              0.8888888888888888,
              "#fdca26"
             ],
             [
              1,
              "#f0f921"
             ]
            ],
            "type": "histogram2dcontour"
           }
          ],
          "mesh3d": [
           {
            "colorbar": {
             "outlinewidth": 0,
             "ticks": ""
            },
            "type": "mesh3d"
           }
          ],
          "parcoords": [
           {
            "line": {
             "colorbar": {
              "outlinewidth": 0,
              "ticks": ""
             }
            },
            "type": "parcoords"
           }
          ],
          "pie": [
           {
            "automargin": true,
            "type": "pie"
           }
          ],
          "scatter": [
           {
            "marker": {
             "colorbar": {
              "outlinewidth": 0,
              "ticks": ""
             }
            },
            "type": "scatter"
           }
          ],
          "scatter3d": [
           {
            "line": {
             "colorbar": {
              "outlinewidth": 0,
              "ticks": ""
             }
            },
            "marker": {
             "colorbar": {
              "outlinewidth": 0,
              "ticks": ""
             }
            },
            "type": "scatter3d"
           }
          ],
          "scattercarpet": [
           {
            "marker": {
             "colorbar": {
              "outlinewidth": 0,
              "ticks": ""
             }
            },
            "type": "scattercarpet"
           }
          ],
          "scattergeo": [
           {
            "marker": {
             "colorbar": {
              "outlinewidth": 0,
              "ticks": ""
             }
            },
            "type": "scattergeo"
           }
          ],
          "scattergl": [
           {
            "marker": {
             "colorbar": {
              "outlinewidth": 0,
              "ticks": ""
             }
            },
            "type": "scattergl"
           }
          ],
          "scattermapbox": [
           {
            "marker": {
             "colorbar": {
              "outlinewidth": 0,
              "ticks": ""
             }
            },
            "type": "scattermapbox"
           }
          ],
          "scatterpolar": [
           {
            "marker": {
             "colorbar": {
              "outlinewidth": 0,
              "ticks": ""
             }
            },
            "type": "scatterpolar"
           }
          ],
          "scatterpolargl": [
           {
            "marker": {
             "colorbar": {
              "outlinewidth": 0,
              "ticks": ""
             }
            },
            "type": "scatterpolargl"
           }
          ],
          "scatterternary": [
           {
            "marker": {
             "colorbar": {
              "outlinewidth": 0,
              "ticks": ""
             }
            },
            "type": "scatterternary"
           }
          ],
          "surface": [
           {
            "colorbar": {
             "outlinewidth": 0,
             "ticks": ""
            },
            "colorscale": [
             [
              0,
              "#0d0887"
             ],
             [
              0.1111111111111111,
              "#46039f"
             ],
             [
              0.2222222222222222,
              "#7201a8"
             ],
             [
              0.3333333333333333,
              "#9c179e"
             ],
             [
              0.4444444444444444,
              "#bd3786"
             ],
             [
              0.5555555555555556,
              "#d8576b"
             ],
             [
              0.6666666666666666,
              "#ed7953"
             ],
             [
              0.7777777777777778,
              "#fb9f3a"
             ],
             [
              0.8888888888888888,
              "#fdca26"
             ],
             [
              1,
              "#f0f921"
             ]
            ],
            "type": "surface"
           }
          ],
          "table": [
           {
            "cells": {
             "fill": {
              "color": "#EBF0F8"
             },
             "line": {
              "color": "white"
             }
            },
            "header": {
             "fill": {
              "color": "#C8D4E3"
             },
             "line": {
              "color": "white"
             }
            },
            "type": "table"
           }
          ]
         },
         "layout": {
          "annotationdefaults": {
           "arrowcolor": "#2a3f5f",
           "arrowhead": 0,
           "arrowwidth": 1
          },
          "coloraxis": {
           "colorbar": {
            "outlinewidth": 0,
            "ticks": ""
           }
          },
          "colorscale": {
           "diverging": [
            [
             0,
             "#8e0152"
            ],
            [
             0.1,
             "#c51b7d"
            ],
            [
             0.2,
             "#de77ae"
            ],
            [
             0.3,
             "#f1b6da"
            ],
            [
             0.4,
             "#fde0ef"
            ],
            [
             0.5,
             "#f7f7f7"
            ],
            [
             0.6,
             "#e6f5d0"
            ],
            [
             0.7,
             "#b8e186"
            ],
            [
             0.8,
             "#7fbc41"
            ],
            [
             0.9,
             "#4d9221"
            ],
            [
             1,
             "#276419"
            ]
           ],
           "sequential": [
            [
             0,
             "#0d0887"
            ],
            [
             0.1111111111111111,
             "#46039f"
            ],
            [
             0.2222222222222222,
             "#7201a8"
            ],
            [
             0.3333333333333333,
             "#9c179e"
            ],
            [
             0.4444444444444444,
             "#bd3786"
            ],
            [
             0.5555555555555556,
             "#d8576b"
            ],
            [
             0.6666666666666666,
             "#ed7953"
            ],
            [
             0.7777777777777778,
             "#fb9f3a"
            ],
            [
             0.8888888888888888,
             "#fdca26"
            ],
            [
             1,
             "#f0f921"
            ]
           ],
           "sequentialminus": [
            [
             0,
             "#0d0887"
            ],
            [
             0.1111111111111111,
             "#46039f"
            ],
            [
             0.2222222222222222,
             "#7201a8"
            ],
            [
             0.3333333333333333,
             "#9c179e"
            ],
            [
             0.4444444444444444,
             "#bd3786"
            ],
            [
             0.5555555555555556,
             "#d8576b"
            ],
            [
             0.6666666666666666,
             "#ed7953"
            ],
            [
             0.7777777777777778,
             "#fb9f3a"
            ],
            [
             0.8888888888888888,
             "#fdca26"
            ],
            [
             1,
             "#f0f921"
            ]
           ]
          },
          "colorway": [
           "#636efa",
           "#EF553B",
           "#00cc96",
           "#ab63fa",
           "#FFA15A",
           "#19d3f3",
           "#FF6692",
           "#B6E880",
           "#FF97FF",
           "#FECB52"
          ],
          "font": {
           "color": "#2a3f5f"
          },
          "geo": {
           "bgcolor": "white",
           "lakecolor": "white",
           "landcolor": "#E5ECF6",
           "showlakes": true,
           "showland": true,
           "subunitcolor": "white"
          },
          "hoverlabel": {
           "align": "left"
          },
          "hovermode": "closest",
          "mapbox": {
           "style": "light"
          },
          "paper_bgcolor": "white",
          "plot_bgcolor": "#E5ECF6",
          "polar": {
           "angularaxis": {
            "gridcolor": "white",
            "linecolor": "white",
            "ticks": ""
           },
           "bgcolor": "#E5ECF6",
           "radialaxis": {
            "gridcolor": "white",
            "linecolor": "white",
            "ticks": ""
           }
          },
          "scene": {
           "xaxis": {
            "backgroundcolor": "#E5ECF6",
            "gridcolor": "white",
            "gridwidth": 2,
            "linecolor": "white",
            "showbackground": true,
            "ticks": "",
            "zerolinecolor": "white"
           },
           "yaxis": {
            "backgroundcolor": "#E5ECF6",
            "gridcolor": "white",
            "gridwidth": 2,
            "linecolor": "white",
            "showbackground": true,
            "ticks": "",
            "zerolinecolor": "white"
           },
           "zaxis": {
            "backgroundcolor": "#E5ECF6",
            "gridcolor": "white",
            "gridwidth": 2,
            "linecolor": "white",
            "showbackground": true,
            "ticks": "",
            "zerolinecolor": "white"
           }
          },
          "shapedefaults": {
           "line": {
            "color": "#2a3f5f"
           }
          },
          "ternary": {
           "aaxis": {
            "gridcolor": "white",
            "linecolor": "white",
            "ticks": ""
           },
           "baxis": {
            "gridcolor": "white",
            "linecolor": "white",
            "ticks": ""
           },
           "bgcolor": "#E5ECF6",
           "caxis": {
            "gridcolor": "white",
            "linecolor": "white",
            "ticks": ""
           }
          },
          "title": {
           "x": 0.05
          },
          "xaxis": {
           "automargin": true,
           "gridcolor": "white",
           "linecolor": "white",
           "ticks": "",
           "title": {
            "standoff": 15
           },
           "zerolinecolor": "white",
           "zerolinewidth": 2
          },
          "yaxis": {
           "automargin": true,
           "gridcolor": "white",
           "linecolor": "white",
           "ticks": "",
           "title": {
            "standoff": 15
           },
           "zerolinecolor": "white",
           "zerolinewidth": 2
          }
         }
        },
        "title": {
         "text": "Messages by cluster and genre"
        },
        "xaxis": {
         "anchor": "y",
         "domain": [
          0,
          1
         ],
         "title": {
          "text": "cluster by genre"
         }
        },
        "yaxis": {
         "anchor": "x",
         "domain": [
          0,
          1
         ],
         "title": {
          "text": "Number of messages"
         }
        }
       }
      },
      "text/html": [
       "<div>                            <div id=\"e26e86e5-3a03-423c-8f79-68bc89c631b4\" class=\"plotly-graph-div\" style=\"height:525px; width:100%;\"></div>            <script type=\"text/javascript\">                require([\"plotly\"], function(Plotly) {                    window.PLOTLYENV=window.PLOTLYENV || {};                                    if (document.getElementById(\"e26e86e5-3a03-423c-8f79-68bc89c631b4\")) {                    Plotly.newPlot(                        \"e26e86e5-3a03-423c-8f79-68bc89c631b4\",                        [{\"alignmentgroup\": \"True\", \"hovertemplate\": \"genre=direct<br>cluster by genre=%{x}<br>Number of messages=%{y}<extra></extra>\", \"legendgroup\": \"direct\", \"marker\": {\"color\": \"#636efa\"}, \"name\": \"direct\", \"offsetgroup\": \"direct\", \"orientation\": \"v\", \"showlegend\": true, \"textposition\": \"auto\", \"type\": \"bar\", \"x\": [\"request\", \"direct_report\", \"food\", \"other_aid\", \"shelter\", \"water\", \"earthquake\", \"medical_help\", \"medical_products\", \"buildings\", \"storm\", \"floods\", \"death\", \"clothing\", \"search_and_rescue\", \"transport\", \"other_weather\", \"other_infrastructure\", \"refugees\", \"money\", \"security\", \"missing_people\", \"electricity\", \"aid_centers\", \"cold\", \"hospitals\", \"offer\", \"military\", \"fire\", \"shops\", \"tools\", \"child_alone\"], \"xaxis\": \"x\", \"y\": [3696, 3613, 1807, 1575, 1152, 836, 796, 592, 471, 391, 315, 304, 254, 247, 216, 210, 207, 186, 174, 148, 131, 86, 81, 78, 63, 54, 46, 46, 41, 33, 33, 0], \"yaxis\": \"y\"}, {\"alignmentgroup\": \"True\", \"hovertemplate\": \"genre=news<br>cluster by genre=%{x}<br>Number of messages=%{y}<extra></extra>\", \"legendgroup\": \"news\", \"marker\": {\"color\": \"#EF553B\"}, \"name\": \"news\", \"offsetgroup\": \"news\", \"orientation\": \"v\", \"showlegend\": true, \"textposition\": \"auto\", \"type\": \"bar\", \"x\": [\"floods\", \"other_aid\", \"storm\", \"medical_help\", \"shelter\", \"other_weather\", \"food\", \"earthquake\", \"transport\", \"other_infrastructure\", \"death\", \"direct_report\", \"buildings\", \"military\", \"medical_products\", \"water\", \"refugees\", \"request\", \"search_and_rescue\", \"cold\", \"money\", \"electricity\", \"security\", \"fire\", \"aid_centers\", \"hospitals\", \"missing_people\", \"clothing\", \"tools\", \"shops\", \"offer\", \"child_alone\"], \"xaxis\": \"x\", \"y\": [1747, 1563, 1445, 1415, 1113, 1052, 1007, 910, 872, 866, 858, 852, 829, 801, 793, 790, 666, 604, 441, 415, 381, 327, 292, 225, 218, 202, 165, 135, 114, 68, 65, 0], \"yaxis\": \"y\"}, {\"alignmentgroup\": \"True\", \"hovertemplate\": \"genre=social<br>cluster by genre=%{x}<br>Number of messages=%{y}<extra></extra>\", \"legendgroup\": \"social\", \"marker\": {\"color\": \"#00cc96\"}, \"name\": \"social\", \"offsetgroup\": \"social\", \"orientation\": \"v\", \"showlegend\": true, \"textposition\": \"auto\", \"type\": \"bar\", \"x\": [\"earthquake\", \"storm\", \"direct_report\", \"other_aid\", \"request\", \"electricity\", \"transport\", \"other_weather\", \"buildings\", \"food\", \"floods\", \"other_infrastructure\", \"death\", \"medical_help\", \"money\", \"search_and_rescue\", \"cold\", \"medical_products\", \"shelter\", \"security\", \"missing_people\", \"water\", \"refugees\", \"hospitals\", \"clothing\", \"shops\", \"fire\", \"aid_centers\", \"military\", \"tools\", \"offer\", \"child_alone\"], \"xaxis\": \"x\", \"y\": [749, 683, 610, 308, 174, 124, 119, 117, 113, 109, 104, 99, 82, 77, 75, 67, 52, 49, 49, 48, 47, 46, 35, 27, 23, 19, 16, 13, 13, 12, 7, 0], \"yaxis\": \"y\"}],                        {\"barmode\": \"relative\", \"legend\": {\"title\": {\"text\": \"genre\"}, \"tracegroupgap\": 0}, \"template\": {\"data\": {\"bar\": [{\"error_x\": {\"color\": \"#2a3f5f\"}, \"error_y\": {\"color\": \"#2a3f5f\"}, \"marker\": {\"line\": {\"color\": \"#E5ECF6\", \"width\": 0.5}}, \"type\": \"bar\"}], \"barpolar\": [{\"marker\": {\"line\": {\"color\": \"#E5ECF6\", \"width\": 0.5}}, \"type\": \"barpolar\"}], \"carpet\": [{\"aaxis\": {\"endlinecolor\": \"#2a3f5f\", \"gridcolor\": \"white\", \"linecolor\": \"white\", \"minorgridcolor\": \"white\", \"startlinecolor\": \"#2a3f5f\"}, \"baxis\": {\"endlinecolor\": \"#2a3f5f\", \"gridcolor\": \"white\", \"linecolor\": \"white\", \"minorgridcolor\": \"white\", \"startlinecolor\": \"#2a3f5f\"}, \"type\": \"carpet\"}], \"choropleth\": [{\"colorbar\": {\"outlinewidth\": 0, \"ticks\": \"\"}, \"type\": \"choropleth\"}], \"contour\": [{\"colorbar\": {\"outlinewidth\": 0, \"ticks\": \"\"}, \"colorscale\": [[0.0, \"#0d0887\"], [0.1111111111111111, \"#46039f\"], [0.2222222222222222, \"#7201a8\"], [0.3333333333333333, \"#9c179e\"], [0.4444444444444444, \"#bd3786\"], [0.5555555555555556, \"#d8576b\"], [0.6666666666666666, \"#ed7953\"], [0.7777777777777778, \"#fb9f3a\"], [0.8888888888888888, \"#fdca26\"], [1.0, \"#f0f921\"]], \"type\": \"contour\"}], \"contourcarpet\": [{\"colorbar\": {\"outlinewidth\": 0, \"ticks\": \"\"}, \"type\": \"contourcarpet\"}], \"heatmap\": [{\"colorbar\": {\"outlinewidth\": 0, \"ticks\": \"\"}, \"colorscale\": [[0.0, \"#0d0887\"], [0.1111111111111111, \"#46039f\"], [0.2222222222222222, \"#7201a8\"], [0.3333333333333333, \"#9c179e\"], [0.4444444444444444, \"#bd3786\"], [0.5555555555555556, \"#d8576b\"], [0.6666666666666666, \"#ed7953\"], [0.7777777777777778, \"#fb9f3a\"], [0.8888888888888888, \"#fdca26\"], [1.0, \"#f0f921\"]], \"type\": \"heatmap\"}], \"heatmapgl\": [{\"colorbar\": {\"outlinewidth\": 0, \"ticks\": \"\"}, \"colorscale\": [[0.0, \"#0d0887\"], [0.1111111111111111, \"#46039f\"], [0.2222222222222222, \"#7201a8\"], [0.3333333333333333, \"#9c179e\"], [0.4444444444444444, \"#bd3786\"], [0.5555555555555556, \"#d8576b\"], [0.6666666666666666, \"#ed7953\"], [0.7777777777777778, \"#fb9f3a\"], [0.8888888888888888, \"#fdca26\"], [1.0, \"#f0f921\"]], \"type\": \"heatmapgl\"}], \"histogram\": [{\"marker\": {\"colorbar\": {\"outlinewidth\": 0, \"ticks\": \"\"}}, \"type\": \"histogram\"}], \"histogram2d\": [{\"colorbar\": {\"outlinewidth\": 0, \"ticks\": \"\"}, \"colorscale\": [[0.0, \"#0d0887\"], [0.1111111111111111, \"#46039f\"], [0.2222222222222222, \"#7201a8\"], [0.3333333333333333, \"#9c179e\"], [0.4444444444444444, \"#bd3786\"], [0.5555555555555556, \"#d8576b\"], [0.6666666666666666, \"#ed7953\"], [0.7777777777777778, \"#fb9f3a\"], [0.8888888888888888, \"#fdca26\"], [1.0, \"#f0f921\"]], \"type\": \"histogram2d\"}], \"histogram2dcontour\": [{\"colorbar\": {\"outlinewidth\": 0, \"ticks\": \"\"}, \"colorscale\": [[0.0, \"#0d0887\"], [0.1111111111111111, \"#46039f\"], [0.2222222222222222, \"#7201a8\"], [0.3333333333333333, \"#9c179e\"], [0.4444444444444444, \"#bd3786\"], [0.5555555555555556, \"#d8576b\"], [0.6666666666666666, \"#ed7953\"], [0.7777777777777778, \"#fb9f3a\"], [0.8888888888888888, \"#fdca26\"], [1.0, \"#f0f921\"]], \"type\": \"histogram2dcontour\"}], \"mesh3d\": [{\"colorbar\": {\"outlinewidth\": 0, \"ticks\": \"\"}, \"type\": \"mesh3d\"}], \"parcoords\": [{\"line\": {\"colorbar\": {\"outlinewidth\": 0, \"ticks\": \"\"}}, \"type\": \"parcoords\"}], \"pie\": [{\"automargin\": true, \"type\": \"pie\"}], \"scatter\": [{\"marker\": {\"colorbar\": {\"outlinewidth\": 0, \"ticks\": \"\"}}, \"type\": \"scatter\"}], \"scatter3d\": [{\"line\": {\"colorbar\": {\"outlinewidth\": 0, \"ticks\": \"\"}}, \"marker\": {\"colorbar\": {\"outlinewidth\": 0, \"ticks\": \"\"}}, \"type\": \"scatter3d\"}], \"scattercarpet\": [{\"marker\": {\"colorbar\": {\"outlinewidth\": 0, \"ticks\": \"\"}}, \"type\": \"scattercarpet\"}], \"scattergeo\": [{\"marker\": {\"colorbar\": {\"outlinewidth\": 0, \"ticks\": \"\"}}, \"type\": \"scattergeo\"}], \"scattergl\": [{\"marker\": {\"colorbar\": {\"outlinewidth\": 0, \"ticks\": \"\"}}, \"type\": \"scattergl\"}], \"scattermapbox\": [{\"marker\": {\"colorbar\": {\"outlinewidth\": 0, \"ticks\": \"\"}}, \"type\": \"scattermapbox\"}], \"scatterpolar\": [{\"marker\": {\"colorbar\": {\"outlinewidth\": 0, \"ticks\": \"\"}}, \"type\": \"scatterpolar\"}], \"scatterpolargl\": [{\"marker\": {\"colorbar\": {\"outlinewidth\": 0, \"ticks\": \"\"}}, \"type\": \"scatterpolargl\"}], \"scatterternary\": [{\"marker\": {\"colorbar\": {\"outlinewidth\": 0, \"ticks\": \"\"}}, \"type\": \"scatterternary\"}], \"surface\": [{\"colorbar\": {\"outlinewidth\": 0, \"ticks\": \"\"}, \"colorscale\": [[0.0, \"#0d0887\"], [0.1111111111111111, \"#46039f\"], [0.2222222222222222, \"#7201a8\"], [0.3333333333333333, \"#9c179e\"], [0.4444444444444444, \"#bd3786\"], [0.5555555555555556, \"#d8576b\"], [0.6666666666666666, \"#ed7953\"], [0.7777777777777778, \"#fb9f3a\"], [0.8888888888888888, \"#fdca26\"], [1.0, \"#f0f921\"]], \"type\": \"surface\"}], \"table\": [{\"cells\": {\"fill\": {\"color\": \"#EBF0F8\"}, \"line\": {\"color\": \"white\"}}, \"header\": {\"fill\": {\"color\": \"#C8D4E3\"}, \"line\": {\"color\": \"white\"}}, \"type\": \"table\"}]}, \"layout\": {\"annotationdefaults\": {\"arrowcolor\": \"#2a3f5f\", \"arrowhead\": 0, \"arrowwidth\": 1}, \"coloraxis\": {\"colorbar\": {\"outlinewidth\": 0, \"ticks\": \"\"}}, \"colorscale\": {\"diverging\": [[0, \"#8e0152\"], [0.1, \"#c51b7d\"], [0.2, \"#de77ae\"], [0.3, \"#f1b6da\"], [0.4, \"#fde0ef\"], [0.5, \"#f7f7f7\"], [0.6, \"#e6f5d0\"], [0.7, \"#b8e186\"], [0.8, \"#7fbc41\"], [0.9, \"#4d9221\"], [1, \"#276419\"]], \"sequential\": [[0.0, \"#0d0887\"], [0.1111111111111111, \"#46039f\"], [0.2222222222222222, \"#7201a8\"], [0.3333333333333333, \"#9c179e\"], [0.4444444444444444, \"#bd3786\"], [0.5555555555555556, \"#d8576b\"], [0.6666666666666666, \"#ed7953\"], [0.7777777777777778, \"#fb9f3a\"], [0.8888888888888888, \"#fdca26\"], [1.0, \"#f0f921\"]], \"sequentialminus\": [[0.0, \"#0d0887\"], [0.1111111111111111, \"#46039f\"], [0.2222222222222222, \"#7201a8\"], [0.3333333333333333, \"#9c179e\"], [0.4444444444444444, \"#bd3786\"], [0.5555555555555556, \"#d8576b\"], [0.6666666666666666, \"#ed7953\"], [0.7777777777777778, \"#fb9f3a\"], [0.8888888888888888, \"#fdca26\"], [1.0, \"#f0f921\"]]}, \"colorway\": [\"#636efa\", \"#EF553B\", \"#00cc96\", \"#ab63fa\", \"#FFA15A\", \"#19d3f3\", \"#FF6692\", \"#B6E880\", \"#FF97FF\", \"#FECB52\"], \"font\": {\"color\": \"#2a3f5f\"}, \"geo\": {\"bgcolor\": \"white\", \"lakecolor\": \"white\", \"landcolor\": \"#E5ECF6\", \"showlakes\": true, \"showland\": true, \"subunitcolor\": \"white\"}, \"hoverlabel\": {\"align\": \"left\"}, \"hovermode\": \"closest\", \"mapbox\": {\"style\": \"light\"}, \"paper_bgcolor\": \"white\", \"plot_bgcolor\": \"#E5ECF6\", \"polar\": {\"angularaxis\": {\"gridcolor\": \"white\", \"linecolor\": \"white\", \"ticks\": \"\"}, \"bgcolor\": \"#E5ECF6\", \"radialaxis\": {\"gridcolor\": \"white\", \"linecolor\": \"white\", \"ticks\": \"\"}}, \"scene\": {\"xaxis\": {\"backgroundcolor\": \"#E5ECF6\", \"gridcolor\": \"white\", \"gridwidth\": 2, \"linecolor\": \"white\", \"showbackground\": true, \"ticks\": \"\", \"zerolinecolor\": \"white\"}, \"yaxis\": {\"backgroundcolor\": \"#E5ECF6\", \"gridcolor\": \"white\", \"gridwidth\": 2, \"linecolor\": \"white\", \"showbackground\": true, \"ticks\": \"\", \"zerolinecolor\": \"white\"}, \"zaxis\": {\"backgroundcolor\": \"#E5ECF6\", \"gridcolor\": \"white\", \"gridwidth\": 2, \"linecolor\": \"white\", \"showbackground\": true, \"ticks\": \"\", \"zerolinecolor\": \"white\"}}, \"shapedefaults\": {\"line\": {\"color\": \"#2a3f5f\"}}, \"ternary\": {\"aaxis\": {\"gridcolor\": \"white\", \"linecolor\": \"white\", \"ticks\": \"\"}, \"baxis\": {\"gridcolor\": \"white\", \"linecolor\": \"white\", \"ticks\": \"\"}, \"bgcolor\": \"#E5ECF6\", \"caxis\": {\"gridcolor\": \"white\", \"linecolor\": \"white\", \"ticks\": \"\"}}, \"title\": {\"x\": 0.05}, \"xaxis\": {\"automargin\": true, \"gridcolor\": \"white\", \"linecolor\": \"white\", \"ticks\": \"\", \"title\": {\"standoff\": 15}, \"zerolinecolor\": \"white\", \"zerolinewidth\": 2}, \"yaxis\": {\"automargin\": true, \"gridcolor\": \"white\", \"linecolor\": \"white\", \"ticks\": \"\", \"title\": {\"standoff\": 15}, \"zerolinecolor\": \"white\", \"zerolinewidth\": 2}}}, \"title\": {\"text\": \"Messages by cluster and genre\"}, \"xaxis\": {\"anchor\": \"y\", \"domain\": [0.0, 1.0], \"title\": {\"text\": \"cluster by genre\"}}, \"yaxis\": {\"anchor\": \"x\", \"domain\": [0.0, 1.0], \"title\": {\"text\": \"Number of messages\"}}},                        {\"responsive\": true}                    ).then(function(){\n",
       "                            \n",
       "var gd = document.getElementById('e26e86e5-3a03-423c-8f79-68bc89c631b4');\n",
       "var x = new MutationObserver(function (mutations, observer) {{\n",
       "        var display = window.getComputedStyle(gd).display;\n",
       "        if (!display || display === 'none') {{\n",
       "            console.log([gd, 'removed!']);\n",
       "            Plotly.purge(gd);\n",
       "            observer.disconnect();\n",
       "        }}\n",
       "}});\n",
       "\n",
       "// Listen for the removal of the full notebook cells\n",
       "var notebookContainer = gd.closest('#notebook-container');\n",
       "if (notebookContainer) {{\n",
       "    x.observe(notebookContainer, {childList: true});\n",
       "}}\n",
       "\n",
       "// Listen for the clearing of the current output cell\n",
       "var outputEl = gd.closest('.output');\n",
       "if (outputEl) {{\n",
       "    x.observe(outputEl, {childList: true});\n",
       "}}\n",
       "\n",
       "                        })                };                });            </script>        </div>"
      ]
     },
     "metadata": {},
     "output_type": "display_data"
    }
   ],
   "source": [
    "import plotly.express as px\n",
    "\n",
    "correlation = df.iloc[:,4:40].corr()\n",
    "melt = pd.melt(df, id_vars=['id', 'message', 'genre'], value_vars=df.iloc[:,4:40].columns)\n",
    "grouped = melt.groupby(['genre','variable'], as_index = False)['value'].sum().sort_values(by='value', ascending= False)\n",
    "grouped_new = grouped[~grouped.variable.str.contains('related')].sort_values(by='value', ascending= False)\n",
    "\n",
    "\n",
    "fig = px.bar(grouped_new, x='variable', y='value', color = 'genre' ,labels={\n",
    "                     \"value\": \"Number of messages\",\n",
    "                     \"variable\": \"cluster by genre\"\n",
    "                 }, title=\"Messages by cluster and genre\")\n",
    "fig.show()\n",
    "\n"
   ]
  },
  {
   "cell_type": "code",
   "execution_count": 26,
   "metadata": {},
   "outputs": [],
   "source": [
    "fig.write_html('pictures/cluster_by_genre.html')"
   ]
  },
  {
   "cell_type": "code",
   "execution_count": 34,
   "metadata": {},
   "outputs": [
    {
     "data": {
      "application/vnd.plotly.v1+json": {
       "config": {
        "plotlyServerURL": "https://plot.ly"
       },
       "data": [
        {
         "coloraxis": "coloraxis",
         "hovertemplate": "x: %{x}<br>y: %{y}<br>color: %{z}<extra></extra>",
         "type": "heatmap",
         "x": [
          "related",
          "request",
          "offer",
          "aid_related",
          "medical_help",
          "medical_products",
          "search_and_rescue",
          "security",
          "military",
          "child_alone",
          "water",
          "food",
          "shelter",
          "clothing",
          "money",
          "missing_people",
          "refugees",
          "death",
          "other_aid",
          "infrastructure_related",
          "transport",
          "buildings",
          "electricity",
          "tools",
          "hospitals",
          "shops",
          "aid_centers",
          "other_infrastructure",
          "weather_related",
          "floods",
          "storm",
          "fire",
          "earthquake",
          "cold",
          "other_weather",
          "direct_report"
         ],
         "y": [
          "related",
          "request",
          "offer",
          "aid_related",
          "medical_help",
          "medical_products",
          "search_and_rescue",
          "security",
          "military",
          "child_alone",
          "water",
          "food",
          "shelter",
          "clothing",
          "money",
          "missing_people",
          "refugees",
          "death",
          "other_aid",
          "infrastructure_related",
          "transport",
          "buildings",
          "electricity",
          "tools",
          "hospitals",
          "shops",
          "aid_centers",
          "other_infrastructure",
          "weather_related",
          "floods",
          "storm",
          "fire",
          "earthquake",
          "cold",
          "other_weather",
          "direct_report"
         ],
         "z": [
          [
           1,
           0.25540001823336156,
           0.03785820948344893,
           0.4734766221795398,
           0.1654530885891109,
           0.12927936448225844,
           0.09488334961470227,
           0.07615294186638952,
           0.10368872490062755,
           null,
           0.1469495109836397,
           0.1994455606783989,
           0.17518109475145274,
           0.07052576017153507,
           0.08646083043113363,
           0.060371236226862475,
           0.10462002797385302,
           0.12298830983753237,
           0.21902757811669493,
           0.14849244440545778,
           0.12336555867879544,
           0.13031259242572255,
           0.08103024747312654,
           0.043980385872638715,
           0.05881519178328302,
           0.03817915665166772,
           0.06148842330036846,
           0.12064976687883038,
           0.3496598478688615,
           0.16849595539323015,
           0.18048554203333564,
           0.0587100541121695,
           0.18097395219675985,
           0.08087464278499402,
           0.1325122722072962,
           0.2758531451453605
          ],
          [
           0.25540001823336156,
           1,
           -0.030502513951224122,
           0.44802441623368144,
           0.1286932048726693,
           0.10641500368643428,
           0.07142730146855562,
           0.056959266704403634,
           -0.04426634444263236,
           null,
           0.23927435013298834,
           0.3511827241873839,
           0.2806027793519199,
           0.08211652349910498,
           0.06279809416526093,
           0.02787421621441627,
           0.024088432608565642,
           0.008866727335075276,
           0.2439333959631058,
           0.02180299841637816,
           0.025720957565404833,
           0.06300442672055871,
           0.010217752651644391,
           0.0194123712394372,
           0.016389119742165618,
           0.03232597206538858,
           0.02279737885748897,
           -0.0026865231055606654,
           -0.01454643772585888,
           -0.005452325994158855,
           -0.0456637824024884,
           -0.008969825863597859,
           0.006971573923630554,
           -0.0017645431682823288,
           -0.015379664229208218,
           0.6479372165815576
          ],
          [
           0.03785820948344893,
           -0.030502513951224122,
           1,
           0.06723284729831573,
           0.005518742793414205,
           0.03942354412099708,
           -0.0008998497165607362,
           -0.009094972615013307,
           0.0004129487350798301,
           null,
           0.0057699002119678605,
           0.06308337841744778,
           0.005191637299302505,
           0.056264517070669866,
           0.05424391254850804,
           -0.00721015796318367,
           -0.009322275452671334,
           -0.014688537074531775,
           0.03286845836455775,
           -0.013112726624634478,
           -0.0038314949470347496,
           -0.01556327871853921,
           -0.0015946183156422863,
           -0.005252592943962303,
           -0.0015098688981668685,
           -0.004559750098958095,
           -0.0020635829561363814,
           -0.014409244066971395,
           -0.013788017160649832,
           -0.0014518317787369302,
           -0.013714332201579525,
           -0.0014876500342342492,
           -0.011833898573593286,
           -0.00965888701540943,
           -0.005604907190527344,
           0.018975818974061854
          ],
          [
           0.4734766221795398,
           0.44802441623368144,
           0.06723284729831573,
           1,
           0.349442994307699,
           0.2730427616196788,
           0.2003971160770918,
           0.16083780761093852,
           0.21899439178923574,
           null,
           0.3103627594266288,
           0.4212363426948045,
           0.36998890028624576,
           0.14895299338515555,
           0.18260844650181843,
           0.12750626619949726,
           0.2209613380535237,
           0.2597558233633284,
           0.46259428207554526,
           0.19805881912242432,
           0.15536631873245862,
           0.14973876267321984,
           0.07008726859641765,
           0.085906672834802,
           0.1084831977577233,
           0.06457513768982533,
           0.11623321977114841,
           0.13160316290389043,
           0.20927205225035625,
           0.16754443398628713,
           0.06019892456826209,
           0.0534341429978988,
           0.08054105704722953,
           0.08112643530422987,
           0.12604427468684998,
           0.3748636340919613
          ],
          [
           0.1654530885891109,
           0.1286932048726693,
           0.005518742793414205,
           0.349442994307699,
           1,
           0.3411050701459915,
           0.10364414207816476,
           0.06110463566672341,
           0.006044729818293903,
           null,
           0.1368162841373912,
           0.08899425655874796,
           0.0820433498052405,
           0.03979555673404315,
           0.021604459012666086,
           0.08554546624764389,
           0.08120955483932664,
           0.12044386252854525,
           0.08265913077788066,
           0.10948752091964867,
           0.2343901898781046,
           0.03981924071987844,
           0.020711100592645245,
           0.053324185433560975,
           0.16443734637624458,
           0.03647599436798624,
           0.060672633322877915,
           0.034758979466670704,
           0.09657128500957747,
           0.18568589194253854,
           0.007178048049518929,
           0.026769330299517974,
           0.01589694433853123,
           0.030927865299602793,
           0.03896158762377522,
           0.09942044718295413
          ],
          [
           0.12927936448225844,
           0.10641500368643428,
           0.03942354412099708,
           0.2730427616196788,
           0.3411050701459915,
           1,
           0.08082727817422959,
           0.05978708364819361,
           -0.0049798057968896475,
           null,
           0.2485259799924823,
           0.19147069571701497,
           0.16466176744748834,
           0.17826615758794137,
           0.04400247167251289,
           0.10075411152048037,
           0.08195653020809761,
           0.05972055588417734,
           0.10734961299324629,
           0.09759010762288645,
           0.12199458876424363,
           0.03203167516943867,
           0.04757152751288414,
           0.07666450935261375,
           0.09955425024384694,
           0.04401718053783271,
           0.08024846818295456,
           0.04383348522591446,
           0.04625335904989874,
           0.09172733373264867,
           0.0003880216857663189,
           0.033696534066154596,
           0.004228324286633822,
           0.040328370434503436,
           0.03221821875112759,
           0.06277367100907251
          ],
          [
           0.09488334961470227,
           0.07142730146855562,
           -0.0008998497165607362,
           0.2003971160770918,
           0.10364414207816476,
           0.08082727817422959,
           1,
           0.1016272788117614,
           0.0460638268355786,
           null,
           0.023647805087248546,
           0.010558065146409244,
           0.03700188572462641,
           0.012863098963781853,
           0.0144593098986132,
           0.22785524972618085,
           0.12808305325868322,
           0.11390461380522034,
           0.08324166989420932,
           0.09525805308065849,
           0.18017257391714947,
           0.09344000764497594,
           0.05663725862560237,
           0.09176619563449859,
           0.07474987068047259,
           0.0230559770768819,
           0.0441417493206914,
           0.06159257124655629,
           0.14359485088024954,
           0.14363108834688648,
           0.038861785715282524,
           0.05237813379202332,
           0.06567708978247165,
           0.0651026577216155,
           0.04488202766598441,
           0.05705480202425409
          ],
          [
           0.07615294186638952,
           0.056959266704403634,
           -0.009094972615013307,
           0.16083780761093852,
           0.06110463566672341,
           0.05978708364819361,
           0.1016272788117614,
           1,
           0.16049348213046502,
           null,
           -0.004747137886461516,
           0.0022673073647064427,
           0.020677696335766417,
           0.048255551207209355,
           -0.001629952304512669,
           0.14803342135073705,
           0.10756655859183187,
           0.09854771185529865,
           0.0612685660298805,
           0.06564437823301818,
           0.14754814563085156,
           0.04320456961799953,
           0.03348710129275036,
           0.0671068867964749,
           0.04145054513948005,
           0.046134310226742734,
           0.03312360388094989,
           0.03268774344804468,
           0.08003035842960608,
           0.10693810644254897,
           0.0030710836764071274,
           0.058276457690314025,
           0.019608985629749446,
           0.037703111873733305,
           0.013236063375543481,
           0.048567704522271424
          ],
          [
           0.10368872490062755,
           -0.04426634444263236,
           0.0004129487350798301,
           0.21899439178923574,
           0.006044729818293903,
           -0.0049798057968896475,
           0.0460638268355786,
           0.16049348213046502,
           1,
           null,
           -0.017394962633181268,
           -0.028499123362376377,
           -0.023332870067328225,
           -0.003969001574193293,
           -0.0011616711120100223,
           0.024694009946555427,
           0.05758024216756734,
           0.09842879882590931,
           -0.0012954074224699084,
           0.05477049678670432,
           0.020077227562388316,
           0.006113622268104235,
           0.012982470987357475,
           0.03526032137237351,
           0.03049702888703225,
           0.022408743555511666,
           0.031476501690536826,
           0.033699945925283116,
           -0.015468472764677407,
           -0.0005406594619970089,
           -0.03178078872367073,
           0.0430742833431409,
           -0.01950447866799392,
           0.011584699311426265,
           0.006588536462076194,
           -0.03820112193107859
          ],
          [
           null,
           null,
           null,
           null,
           null,
           null,
           null,
           null,
           null,
           null,
           null,
           null,
           null,
           null,
           null,
           null,
           null,
           null,
           null,
           null,
           null,
           null,
           null,
           null,
           null,
           null,
           null,
           null,
           null,
           null,
           null,
           null,
           null,
           null,
           null,
           null
          ],
          [
           0.1469495109836397,
           0.23927435013298834,
           0.0057699002119678605,
           0.3103627594266288,
           0.1368162841373912,
           0.2485259799924823,
           0.023647805087248546,
           -0.004747137886461516,
           -0.017394962633181268,
           null,
           1,
           0.3519234839128919,
           0.20823258158323166,
           0.1002088753290878,
           0.026509639865004448,
           0.004409078630843959,
           0.03319397346126999,
           0.0073742135946731424,
           0.04491578384892705,
           0.07929413541401865,
           0.023446193215171097,
           0.031964544454115396,
           0.06207553508548344,
           0.03389650893204554,
           0.036180728815656114,
           0.04705341214108647,
           0.05972560097209378,
           0.05607030754558802,
           0.00021352948584319644,
           0.02134549316059686,
           -0.0041935585160496345,
           0.013641592259210777,
           -0.017989889836907365,
           0.006874212113901247,
           0.04846834968726383,
           0.19332784012423926
          ],
          [
           0.1994455606783989,
           0.3511827241873839,
           0.06308337841744778,
           0.4212363426948045,
           0.08899425655874796,
           0.19147069571701497,
           0.010558065146409244,
           0.0022673073647064427,
           -0.028499123362376377,
           null,
           0.3519234839128919,
           1,
           0.22940976227928286,
           0.1973639393590783,
           0.0538440747163522,
           -0.012833857642432386,
           0.024586991629666353,
           0.0005073453531589357,
           0.03650659375364465,
           0.04025035369710065,
           0.014544836888734564,
           0.015101613804051617,
           0.0005876526074042093,
           0.02696009423613572,
           0.001696329273658256,
           0.0424080863348366,
           0.03879430768215971,
           0.02582991736309024,
           -0.015032502211727928,
           0.013115111970390518,
           -0.0009950121050657636,
           0.007704510055258433,
           -0.0564598708734461,
           0.002502955192824092,
           0.045421219075304234,
           0.29788354761021213
          ],
          [
           0.17518109475145274,
           0.2806027793519199,
           0.005191637299302505,
           0.36998890028624576,
           0.0820433498052405,
           0.16466176744748834,
           0.03700188572462641,
           0.020677696335766417,
           -0.023332870067328225,
           null,
           0.20823258158323166,
           0.22940976227928286,
           1,
           0.16599716169060355,
           0.03825798741377934,
           0.004688694727175139,
           0.18847332729934926,
           0.020385566723112997,
           0.0671870583084953,
           0.14804821568350993,
           0.02636280624789383,
           0.2168812230034481,
           0.023880940767862065,
           0.04669999620025072,
           0.027352153503916274,
           0.04862080476188785,
           0.15664029819375377,
           0.09739680376979397,
           0.09148064075291064,
           0.06794076844913693,
           0.054750126486040024,
           0.017087199105770837,
           0.021371726249360956,
           0.07186326791057074,
           0.05338837619299885,
           0.2344959517414568
          ],
          [
           0.07052576017153507,
           0.08211652349910498,
           0.056264517070669866,
           0.14895299338515555,
           0.03979555673404315,
           0.17826615758794137,
           0.012863098963781853,
           0.048255551207209355,
           -0.003969001574193293,
           null,
           0.1002088753290878,
           0.1973639393590783,
           0.16599716169060355,
           1,
           0.05291833861243978,
           0.0069915417704416016,
           0.016328378817368278,
           -0.006594840134969147,
           0.047383460023826644,
           0.029676429216396693,
           0.021370761446224514,
           0.014652014619530201,
           0.019262421598559856,
           0.030050986815399687,
           0.04677585550710566,
           0.0144158790663403,
           0.035038611638918575,
           0.004858958889320013,
           0.011919291299059366,
           0.00980595291884226,
           -0.002916240506712834,
           0.007926045000866218,
           -0.0031066494939326265,
           0.04134196514998338,
           0.002417058754272749,
           0.0670072234021736
          ],
          [
           0.08646083043113363,
           0.06279809416526093,
           0.05424391254850804,
           0.18260844650181843,
           0.021604459012666086,
           0.04400247167251289,
           0.0144593098986132,
           -0.001629952304512669,
           -0.0011616711120100223,
           null,
           0.026509639865004448,
           0.0538440747163522,
           0.03825798741377934,
           0.05291833861243978,
           1,
           0.0027204043297995796,
           0.01676032304545238,
           -0.0018401485922485727,
           0.0892472805725168,
           0.06260371723145591,
           0.027154247830203242,
           0.0362113631077072,
           0.02117484595646432,
           0.024025289369592417,
           0.028245104923807114,
           0.027252335711329886,
           0.03505627317321424,
           0.052717704024014704,
           0.06914227064319689,
           0.0456808706489816,
           0.02336549086035821,
           0.0037042193709844666,
           0.062344704734080145,
           0.005038598962782725,
           0.03226223014515502,
           0.016779284124225108
          ],
          [
           0.060371236226862475,
           0.02787421621441627,
           -0.00721015796318367,
           0.12750626619949726,
           0.08554546624764389,
           0.10075411152048037,
           0.22785524972618085,
           0.14803342135073705,
           0.024694009946555427,
           null,
           0.004409078630843959,
           -0.012833857642432386,
           0.004688694727175139,
           0.0069915417704416016,
           0.0027204043297995796,
           1,
           0.1363307834915619,
           0.19230362008943402,
           0.06690803395167486,
           0.04176097509135103,
           0.20367940410818453,
           0.03578457343419998,
           0.022846752114574258,
           0.03796821240858933,
           0.02013721352616443,
           0.024712601669548483,
           0.03163184388343108,
           0.029709518024814047,
           0.12288012990429727,
           0.172272391267502,
           0.031230138620146567,
           0.009747623181558545,
           0.05322477474867419,
           0.028060352068917955,
           0.031235785225116813,
           0.008480417979260024
          ],
          [
           0.10462002797385302,
           0.024088432608565642,
           -0.009322275452671334,
           0.2209613380535237,
           0.08120955483932664,
           0.08195653020809761,
           0.12808305325868322,
           0.10756655859183187,
           0.05758024216756734,
           null,
           0.03319397346126999,
           0.024586991629666353,
           0.18847332729934926,
           0.016328378817368278,
           0.01676032304545238,
           0.1363307834915619,
           1,
           0.10098874807335058,
           0.07541122877449431,
           0.12064911140570041,
           0.14211576615900992,
           0.08846023393782049,
           0.01693446160018651,
           0.023777475887434577,
           0.023745403069615076,
           0.044029120613681395,
           0.1253173128666433,
           0.08041717237298401,
           0.10540568717880221,
           0.14773062094025904,
           0.037594600868284166,
           0.03209048603575822,
           0.017538712613487984,
           0.03215558280888988,
           0.04577985375505288,
           0.005704877057247076
          ],
          [
           0.12298830983753237,
           0.008866727335075276,
           -0.014688537074531775,
           0.2597558233633284,
           0.12044386252854525,
           0.05972055588417734,
           0.11390461380522034,
           0.09854771185529865,
           0.09842879882590931,
           null,
           0.0073742135946731424,
           0.0005073453531589357,
           0.020385566723112997,
           -0.006594840134969147,
           -0.0018401485922485727,
           0.19230362008943402,
           0.10098874807335058,
           1,
           0.02276986815945225,
           0.07890106028997185,
           0.13502049627472476,
           0.12016272149162464,
           0.01397463740769445,
           0.022994328872818427,
           0.02852345085590399,
           0.03668362281418466,
           0.0354744695823221,
           0.0674881287270522,
           0.16763499904873472,
           0.15842658266592113,
           0.07976156072662223,
           0.035748412947271005,
           0.0936867789778382,
           0.05311648470239316,
           0.08477088380853766,
           0.011048521962686447
          ],
          [
           0.21902757811669493,
           0.2439333959631058,
           0.03286845836455775,
           0.46259428207554526,
           0.08265913077788066,
           0.10734961299324629,
           0.08324166989420932,
           0.0612685660298805,
           -0.0012954074224699084,
           null,
           0.04491578384892705,
           0.03650659375364465,
           0.0671870583084953,
           0.047383460023826644,
           0.0892472805725168,
           0.06690803395167486,
           0.07541122877449431,
           0.02276986815945225,
           1,
           0.138205203374946,
           0.11778135123791779,
           0.08262242901192231,
           0.08812741568068722,
           0.05830570429747544,
           0.028186323269669425,
           0.0254652342312788,
           0.06629985792702714,
           0.13593583570419474,
           0.16998233914222946,
           0.10675145080612378,
           0.05859285687884334,
           0.0349458400035821,
           0.10435274458128704,
           0.033154468294746955,
           0.09675433298213268,
           0.19283767985383318
          ],
          [
           0.14849244440545778,
           0.02180299841637816,
           -0.013112726624634478,
           0.19805881912242432,
           0.10948752091964867,
           0.09759010762288645,
           0.09525805308065849,
           0.06564437823301818,
           0.05477049678670432,
           null,
           0.07929413541401865,
           0.04025035369710065,
           0.14804821568350993,
           0.029676429216396693,
           0.06260371723145591,
           0.04176097509135103,
           0.12064911140570041,
           0.07890106028997185,
           0.138205203374946,
           1,
           0.12495640582946685,
           0.24736774822065163,
           0.1013703589815354,
           0.06108343540200587,
           0.39608204995729196,
           0.25711177969041743,
           0.41408452495047654,
           0.8124976820328719,
           0.23346614001838484,
           0.17224482217469053,
           0.11925921999023441,
           0.07596731914569739,
           0.09362770681520342,
           0.07752023435289672,
           0.1578114316300163,
           0.03129698573017676
          ],
          [
           0.12336555867879544,
           0.025720957565404833,
           -0.0038314949470347496,
           0.15536631873245862,
           0.2343901898781046,
           0.12199458876424363,
           0.18017257391714947,
           0.14754814563085156,
           0.020077227562388316,
           null,
           0.023446193215171097,
           0.014544836888734564,
           0.02636280624789383,
           0.021370761446224514,
           0.027154247830203242,
           0.20367940410818453,
           0.14211576615900992,
           0.13502049627472476,
           0.11778135123791779,
           0.12495640582946685,
           1,
           0.12534654650259447,
           0.11985346374855722,
           0.03927937996724247,
           0.03184183252995062,
           0.04460353577102741,
           0.04368874921666727,
           0.13381275137651585,
           0.25674643973290073,
           0.39738877495027597,
           0.09419318286395599,
           0.03905314194910424,
           0.034149931835923256,
           0.07093374914453926,
           0.05969154131456609,
           0.03948281354138768
          ],
          [
           0.13031259242572255,
           0.06300442672055871,
           -0.01556327871853921,
           0.14973876267321984,
           0.03981924071987844,
           0.03203167516943867,
           0.09344000764497594,
           0.04320456961799953,
           0.006113622268104235,
           null,
           0.031964544454115396,
           0.015101613804051617,
           0.2168812230034481,
           0.014652014619530201,
           0.0362113631077072,
           0.03578457343419998,
           0.08846023393782049,
           0.12016272149162464,
           0.08262242901192231,
           0.24736774822065163,
           0.12534654650259447,
           1,
           0.09106428004890216,
           0.02441052730761512,
           0.06319573793146421,
           0.08976926916001915,
           0.08090575994772219,
           0.24956137547151663,
           0.21810449020359926,
           0.1627310540296853,
           0.11335731124373102,
           0.07180814971855737,
           0.11810877141559407,
           0.05434648447851131,
           0.09968801712294834,
           0.07556618970547621
          ],
          [
           0.08103024747312654,
           0.010217752651644391,
           -0.0015946183156422863,
           0.07008726859641765,
           0.020711100592645245,
           0.04757152751288414,
           0.05663725862560237,
           0.03348710129275036,
           0.012982470987357475,
           null,
           0.06207553508548344,
           0.0005876526074042093,
           0.023880940767862065,
           0.019262421598559856,
           0.02117484595646432,
           0.022846752114574258,
           0.01693446160018651,
           0.01397463740769445,
           0.08812741568068722,
           0.1013703589815354,
           0.11985346374855722,
           0.09106428004890216,
           1,
           0.041022410864837267,
           0.02947039869291255,
           0.03432584523041021,
           0.036921457840812015,
           0.10780172942442313,
           0.13274780929365407,
           0.05640479996152787,
           0.12696012868529405,
           0.08727084935637666,
           0.015953820464606455,
           0.08312398556435718,
           0.058321773496497614,
           0.049307280867573564
          ],
          [
           0.043980385872638715,
           0.0194123712394372,
           -0.005252592943962303,
           0.085906672834802,
           0.053324185433560975,
           0.07666450935261375,
           0.09176619563449859,
           0.0671068867964749,
           0.03526032137237351,
           null,
           0.03389650893204554,
           0.02696009423613572,
           0.04669999620025072,
           0.030050986815399687,
           0.024025289369592417,
           0.03796821240858933,
           0.023777475887434577,
           0.022994328872818427,
           0.05830570429747544,
           0.06108343540200587,
           0.03927937996724247,
           0.02441052730761512,
           0.041022410864837267,
           1,
           0.03938269809268574,
           0.03109421943897856,
           0.023334005595093164,
           0.05040226487904091,
           0.07316354098991674,
           0.03207035287056968,
           0.01890028538544134,
           0.06329371152844294,
           0.03897225692243552,
           0.09699257655716666,
           0.03889355105775022,
           0.016438443347034058
          ],
          [
           0.05881519178328302,
           0.016389119742165618,
           -0.0015098688981668685,
           0.1084831977577233,
           0.16443734637624458,
           0.09955425024384694,
           0.07474987068047259,
           0.04145054513948005,
           0.03049702888703225,
           null,
           0.036180728815656114,
           0.001696329273658256,
           0.027352153503916274,
           0.04677585550710566,
           0.028245104923807114,
           0.02013721352616443,
           0.023745403069615076,
           0.02852345085590399,
           0.028186323269669425,
           0.39608204995729196,
           0.03184183252995062,
           0.06319573793146421,
           0.02947039869291255,
           0.03938269809268574,
           1,
           0.0421327470372159,
           0.135662412912876,
           0.04607777236193386,
           0.06607830845977167,
           0.023836609157389475,
           0.010955999258094944,
           0.03562582498431354,
           0.04497777268995727,
           0.05843192650446441,
           0.03665729822090184,
           0.020755165558178405
          ],
          [
           0.03817915665166772,
           0.03232597206538858,
           -0.004559750098958095,
           0.06457513768982533,
           0.03647599436798624,
           0.04401718053783271,
           0.0230559770768819,
           0.046134310226742734,
           0.022408743555511666,
           null,
           0.04705341214108647,
           0.0424080863348366,
           0.04862080476188785,
           0.0144158790663403,
           0.027252335711329886,
           0.024712601669548483,
           0.044029120613681395,
           0.03668362281418466,
           0.0254652342312788,
           0.25711177969041743,
           0.04460353577102741,
           0.08976926916001915,
           0.03432584523041021,
           0.03109421943897856,
           0.0421327470372159,
           1,
           0.029246277535935897,
           0.04890596757641757,
           0.08018959485736238,
           0.04348374560862565,
           0.032692411361069006,
           0.04223164582255824,
           0.05385061556751706,
           0.05851691780660527,
           0.027117569474198605,
           0.035426847030181736
          ],
          [
           0.06148842330036846,
           0.02279737885748897,
           -0.0020635829561363814,
           0.11623321977114841,
           0.060672633322877915,
           0.08024846818295456,
           0.0441417493206914,
           0.03312360388094989,
           0.031476501690536826,
           null,
           0.05972560097209378,
           0.03879430768215971,
           0.15664029819375377,
           0.035038611638918575,
           0.03505627317321424,
           0.03163184388343108,
           0.1253173128666433,
           0.0354744695823221,
           0.06629985792702714,
           0.41408452495047654,
           0.04368874921666727,
           0.08090575994772219,
           0.036921457840812015,
           0.023334005595093164,
           0.135662412912876,
           0.029246277535935897,
           1,
           0.08527634783031611,
           0.07017956967509777,
           0.039374488308452874,
           0.039156115426721205,
           0.05371044909091687,
           0.04132490591746625,
           0.034537549766788335,
           0.04403007457871639,
           0.02163213743554766
          ],
          [
           0.12064976687883038,
           -0.0026865231055606654,
           -0.014409244066971395,
           0.13160316290389043,
           0.034758979466670704,
           0.04383348522591446,
           0.06159257124655629,
           0.03268774344804468,
           0.033699945925283116,
           null,
           0.05607030754558802,
           0.02582991736309024,
           0.09739680376979397,
           0.004858958889320013,
           0.052717704024014704,
           0.029709518024814047,
           0.08041717237298401,
           0.0674881287270522,
           0.13593583570419474,
           0.8124976820328719,
           0.13381275137651585,
           0.24956137547151663,
           0.10780172942442313,
           0.05040226487904091,
           0.04607777236193386,
           0.04890596757641757,
           0.08527634783031611,
           1,
           0.21294958277223325,
           0.18191731015204035,
           0.12408334290687592,
           0.053457056719159644,
           0.06659856984784582,
           0.030069074979846334,
           0.16412156102807932,
           0.002914306248526264
          ],
          [
           0.3496598478688615,
           -0.01454643772585888,
           -0.013788017160649832,
           0.20927205225035625,
           0.09657128500957747,
           0.04625335904989874,
           0.14359485088024954,
           0.08003035842960608,
           -0.015468472764677407,
           null,
           0.00021352948584319644,
           -0.015032502211727928,
           0.09148064075291064,
           0.011919291299059366,
           0.06914227064319689,
           0.12288012990429727,
           0.10540568717880221,
           0.16763499904873472,
           0.16998233914222946,
           0.23346614001838484,
           0.25674643973290073,
           0.21810449020359926,
           0.13274780929365407,
           0.07316354098991674,
           0.06607830845977167,
           0.08018959485736238,
           0.07017956967509777,
           0.21294958277223325,
           1,
           0.48188534205512634,
           0.5161746283806254,
           0.16790619360501516,
           0.5175714435036586,
           0.23129519525308978,
           0.3789748036983484,
           0.07914503379434565
          ],
          [
           0.16849595539323015,
           -0.005452325994158855,
           -0.0014518317787369302,
           0.16754443398628713,
           0.18568589194253854,
           0.09172733373264867,
           0.14363108834688648,
           0.10693810644254897,
           -0.0005406594619970089,
           null,
           0.02134549316059686,
           0.013115111970390518,
           0.06794076844913693,
           0.00980595291884226,
           0.0456808706489816,
           0.172272391267502,
           0.14773062094025904,
           0.15842658266592113,
           0.10675145080612378,
           0.17224482217469053,
           0.39738877495027597,
           0.1627310540296853,
           0.05640479996152787,
           0.03207035287056968,
           0.023836609157389475,
           0.04348374560862565,
           0.039374488308452874,
           0.18191731015204035,
           0.48188534205512634,
           1,
           0.20598806982587323,
           0.041490326665422295,
           0.0034296267576293662,
           0.044830346624336916,
           0.10268250177753067,
           0.0027508263887788785
          ],
          [
           0.18048554203333564,
           -0.0456637824024884,
           -0.013714332201579525,
           0.06019892456826209,
           0.007178048049518929,
           0.0003880216857663189,
           0.038861785715282524,
           0.0030710836764071274,
           -0.03178078872367073,
           null,
           -0.0041935585160496345,
           -0.0009950121050657636,
           0.054750126486040024,
           -0.002916240506712834,
           0.02336549086035821,
           0.031230138620146567,
           0.037594600868284166,
           0.07976156072662223,
           0.05859285687884334,
           0.11925921999023441,
           0.09419318286395599,
           0.11335731124373102,
           0.12696012868529405,
           0.01890028538544134,
           0.010955999258094944,
           0.032692411361069006,
           0.039156115426721205,
           0.12408334290687592,
           0.5161746283806254,
           0.20598806982587323,
           1,
           0.02763035468598167,
           -0.018365315837392114,
           0.08075102676410979,
           0.15579493156929364,
           0.0707640379411314
          ],
          [
           0.0587100541121695,
           -0.008969825863597859,
           -0.0014876500342342492,
           0.0534341429978988,
           0.026769330299517974,
           0.033696534066154596,
           0.05237813379202332,
           0.058276457690314025,
           0.0430742833431409,
           null,
           0.013641592259210777,
           0.007704510055258433,
           0.017087199105770837,
           0.007926045000866218,
           0.0037042193709844666,
           0.009747623181558545,
           0.03209048603575822,
           0.035748412947271005,
           0.0349458400035821,
           0.07596731914569739,
           0.03905314194910424,
           0.07180814971855737,
           0.08727084935637666,
           0.06329371152844294,
           0.03562582498431354,
           0.04223164582255824,
           0.05371044909091687,
           0.053457056719159644,
           0.16790619360501516,
           0.041490326665422295,
           0.02763035468598167,
           1,
           0.017251822257883354,
           0.04019584785150628,
           0.06997142859285352,
           0.004126626839066042
          ],
          [
           0.18097395219675985,
           0.006971573923630554,
           -0.011833898573593286,
           0.08054105704722953,
           0.01589694433853123,
           0.004228324286633822,
           0.06567708978247165,
           0.019608985629749446,
           -0.01950447866799392,
           null,
           -0.017989889836907365,
           -0.0564598708734461,
           0.021371726249360956,
           -0.0031066494939326265,
           0.062344704734080145,
           0.05322477474867419,
           0.017538712613487984,
           0.0936867789778382,
           0.10435274458128704,
           0.09362770681520342,
           0.034149931835923256,
           0.11810877141559407,
           0.015953820464606455,
           0.03897225692243552,
           0.04497777268995727,
           0.05385061556751706,
           0.04132490591746625,
           0.06659856984784582,
           0.5175714435036586,
           0.0034296267576293662,
           -0.018365315837392114,
           0.017251822257883354,
           1,
           0.037554364147573356,
           0.016523968891751856,
           0.028416282900024615
          ],
          [
           0.08087464278499402,
           -0.0017645431682823288,
           -0.00965888701540943,
           0.08112643530422987,
           0.030927865299602793,
           0.040328370434503436,
           0.0651026577216155,
           0.037703111873733305,
           0.011584699311426265,
           null,
           0.006874212113901247,
           0.002502955192824092,
           0.07186326791057074,
           0.04134196514998338,
           0.005038598962782725,
           0.028060352068917955,
           0.03215558280888988,
           0.05311648470239316,
           0.033154468294746955,
           0.07752023435289672,
           0.07093374914453926,
           0.05434648447851131,
           0.08312398556435718,
           0.09699257655716666,
           0.05843192650446441,
           0.05851691780660527,
           0.034537549766788335,
           0.030069074979846334,
           0.23129519525308978,
           0.044830346624336916,
           0.08075102676410979,
           0.04019584785150628,
           0.037554364147573356,
           1,
           0.07435634172521463,
           0.003704493291656156
          ],
          [
           0.1325122722072962,
           -0.015379664229208218,
           -0.005604907190527344,
           0.12604427468684998,
           0.03896158762377522,
           0.03221821875112759,
           0.04488202766598441,
           0.013236063375543481,
           0.006588536462076194,
           null,
           0.04846834968726383,
           0.045421219075304234,
           0.05338837619299885,
           0.002417058754272749,
           0.03226223014515502,
           0.031235785225116813,
           0.04577985375505288,
           0.08477088380853766,
           0.09675433298213268,
           0.1578114316300163,
           0.05969154131456609,
           0.09968801712294834,
           0.058321773496497614,
           0.03889355105775022,
           0.03665729822090184,
           0.027117569474198605,
           0.04403007457871639,
           0.16412156102807932,
           0.3789748036983484,
           0.10268250177753067,
           0.15579493156929364,
           0.06997142859285352,
           0.016523968891751856,
           0.07435634172521463,
           1,
           0.0033023982967026375
          ],
          [
           0.2758531451453605,
           0.6479372165815576,
           0.018975818974061854,
           0.3748636340919613,
           0.09942044718295413,
           0.06277367100907251,
           0.05705480202425409,
           0.048567704522271424,
           -0.03820112193107859,
           null,
           0.19332784012423926,
           0.29788354761021213,
           0.2344959517414568,
           0.0670072234021736,
           0.016779284124225108,
           0.008480417979260024,
           0.005704877057247076,
           0.011048521962686447,
           0.19283767985383318,
           0.03129698573017676,
           0.03948281354138768,
           0.07556618970547621,
           0.049307280867573564,
           0.016438443347034058,
           0.020755165558178405,
           0.035426847030181736,
           0.02163213743554766,
           0.002914306248526264,
           0.07914503379434565,
           0.0027508263887788785,
           0.0707640379411314,
           0.004126626839066042,
           0.028416282900024615,
           0.003704493291656156,
           0.0033023982967026375,
           1
          ]
         ]
        }
       ],
       "layout": {
        "coloraxis": {
         "colorscale": [
          [
           0,
           "#0d0887"
          ],
          [
           0.1111111111111111,
           "#46039f"
          ],
          [
           0.2222222222222222,
           "#7201a8"
          ],
          [
           0.3333333333333333,
           "#9c179e"
          ],
          [
           0.4444444444444444,
           "#bd3786"
          ],
          [
           0.5555555555555556,
           "#d8576b"
          ],
          [
           0.6666666666666666,
           "#ed7953"
          ],
          [
           0.7777777777777778,
           "#fb9f3a"
          ],
          [
           0.8888888888888888,
           "#fdca26"
          ],
          [
           1,
           "#f0f921"
          ]
         ]
        },
        "template": {
         "data": {
          "bar": [
           {
            "error_x": {
             "color": "#2a3f5f"
            },
            "error_y": {
             "color": "#2a3f5f"
            },
            "marker": {
             "line": {
              "color": "#E5ECF6",
              "width": 0.5
             }
            },
            "type": "bar"
           }
          ],
          "barpolar": [
           {
            "marker": {
             "line": {
              "color": "#E5ECF6",
              "width": 0.5
             }
            },
            "type": "barpolar"
           }
          ],
          "carpet": [
           {
            "aaxis": {
             "endlinecolor": "#2a3f5f",
             "gridcolor": "white",
             "linecolor": "white",
             "minorgridcolor": "white",
             "startlinecolor": "#2a3f5f"
            },
            "baxis": {
             "endlinecolor": "#2a3f5f",
             "gridcolor": "white",
             "linecolor": "white",
             "minorgridcolor": "white",
             "startlinecolor": "#2a3f5f"
            },
            "type": "carpet"
           }
          ],
          "choropleth": [
           {
            "colorbar": {
             "outlinewidth": 0,
             "ticks": ""
            },
            "type": "choropleth"
           }
          ],
          "contour": [
           {
            "colorbar": {
             "outlinewidth": 0,
             "ticks": ""
            },
            "colorscale": [
             [
              0,
              "#0d0887"
             ],
             [
              0.1111111111111111,
              "#46039f"
             ],
             [
              0.2222222222222222,
              "#7201a8"
             ],
             [
              0.3333333333333333,
              "#9c179e"
             ],
             [
              0.4444444444444444,
              "#bd3786"
             ],
             [
              0.5555555555555556,
              "#d8576b"
             ],
             [
              0.6666666666666666,
              "#ed7953"
             ],
             [
              0.7777777777777778,
              "#fb9f3a"
             ],
             [
              0.8888888888888888,
              "#fdca26"
             ],
             [
              1,
              "#f0f921"
             ]
            ],
            "type": "contour"
           }
          ],
          "contourcarpet": [
           {
            "colorbar": {
             "outlinewidth": 0,
             "ticks": ""
            },
            "type": "contourcarpet"
           }
          ],
          "heatmap": [
           {
            "colorbar": {
             "outlinewidth": 0,
             "ticks": ""
            },
            "colorscale": [
             [
              0,
              "#0d0887"
             ],
             [
              0.1111111111111111,
              "#46039f"
             ],
             [
              0.2222222222222222,
              "#7201a8"
             ],
             [
              0.3333333333333333,
              "#9c179e"
             ],
             [
              0.4444444444444444,
              "#bd3786"
             ],
             [
              0.5555555555555556,
              "#d8576b"
             ],
             [
              0.6666666666666666,
              "#ed7953"
             ],
             [
              0.7777777777777778,
              "#fb9f3a"
             ],
             [
              0.8888888888888888,
              "#fdca26"
             ],
             [
              1,
              "#f0f921"
             ]
            ],
            "type": "heatmap"
           }
          ],
          "heatmapgl": [
           {
            "colorbar": {
             "outlinewidth": 0,
             "ticks": ""
            },
            "colorscale": [
             [
              0,
              "#0d0887"
             ],
             [
              0.1111111111111111,
              "#46039f"
             ],
             [
              0.2222222222222222,
              "#7201a8"
             ],
             [
              0.3333333333333333,
              "#9c179e"
             ],
             [
              0.4444444444444444,
              "#bd3786"
             ],
             [
              0.5555555555555556,
              "#d8576b"
             ],
             [
              0.6666666666666666,
              "#ed7953"
             ],
             [
              0.7777777777777778,
              "#fb9f3a"
             ],
             [
              0.8888888888888888,
              "#fdca26"
             ],
             [
              1,
              "#f0f921"
             ]
            ],
            "type": "heatmapgl"
           }
          ],
          "histogram": [
           {
            "marker": {
             "colorbar": {
              "outlinewidth": 0,
              "ticks": ""
             }
            },
            "type": "histogram"
           }
          ],
          "histogram2d": [
           {
            "colorbar": {
             "outlinewidth": 0,
             "ticks": ""
            },
            "colorscale": [
             [
              0,
              "#0d0887"
             ],
             [
              0.1111111111111111,
              "#46039f"
             ],
             [
              0.2222222222222222,
              "#7201a8"
             ],
             [
              0.3333333333333333,
              "#9c179e"
             ],
             [
              0.4444444444444444,
              "#bd3786"
             ],
             [
              0.5555555555555556,
              "#d8576b"
             ],
             [
              0.6666666666666666,
              "#ed7953"
             ],
             [
              0.7777777777777778,
              "#fb9f3a"
             ],
             [
              0.8888888888888888,
              "#fdca26"
             ],
             [
              1,
              "#f0f921"
             ]
            ],
            "type": "histogram2d"
           }
          ],
          "histogram2dcontour": [
           {
            "colorbar": {
             "outlinewidth": 0,
             "ticks": ""
            },
            "colorscale": [
             [
              0,
              "#0d0887"
             ],
             [
              0.1111111111111111,
              "#46039f"
             ],
             [
              0.2222222222222222,
              "#7201a8"
             ],
             [
              0.3333333333333333,
              "#9c179e"
             ],
             [
              0.4444444444444444,
              "#bd3786"
             ],
             [
              0.5555555555555556,
              "#d8576b"
             ],
             [
              0.6666666666666666,
              "#ed7953"
             ],
             [
              0.7777777777777778,
              "#fb9f3a"
             ],
             [
              0.8888888888888888,
              "#fdca26"
             ],
             [
              1,
              "#f0f921"
             ]
            ],
            "type": "histogram2dcontour"
           }
          ],
          "mesh3d": [
           {
            "colorbar": {
             "outlinewidth": 0,
             "ticks": ""
            },
            "type": "mesh3d"
           }
          ],
          "parcoords": [
           {
            "line": {
             "colorbar": {
              "outlinewidth": 0,
              "ticks": ""
             }
            },
            "type": "parcoords"
           }
          ],
          "pie": [
           {
            "automargin": true,
            "type": "pie"
           }
          ],
          "scatter": [
           {
            "marker": {
             "colorbar": {
              "outlinewidth": 0,
              "ticks": ""
             }
            },
            "type": "scatter"
           }
          ],
          "scatter3d": [
           {
            "line": {
             "colorbar": {
              "outlinewidth": 0,
              "ticks": ""
             }
            },
            "marker": {
             "colorbar": {
              "outlinewidth": 0,
              "ticks": ""
             }
            },
            "type": "scatter3d"
           }
          ],
          "scattercarpet": [
           {
            "marker": {
             "colorbar": {
              "outlinewidth": 0,
              "ticks": ""
             }
            },
            "type": "scattercarpet"
           }
          ],
          "scattergeo": [
           {
            "marker": {
             "colorbar": {
              "outlinewidth": 0,
              "ticks": ""
             }
            },
            "type": "scattergeo"
           }
          ],
          "scattergl": [
           {
            "marker": {
             "colorbar": {
              "outlinewidth": 0,
              "ticks": ""
             }
            },
            "type": "scattergl"
           }
          ],
          "scattermapbox": [
           {
            "marker": {
             "colorbar": {
              "outlinewidth": 0,
              "ticks": ""
             }
            },
            "type": "scattermapbox"
           }
          ],
          "scatterpolar": [
           {
            "marker": {
             "colorbar": {
              "outlinewidth": 0,
              "ticks": ""
             }
            },
            "type": "scatterpolar"
           }
          ],
          "scatterpolargl": [
           {
            "marker": {
             "colorbar": {
              "outlinewidth": 0,
              "ticks": ""
             }
            },
            "type": "scatterpolargl"
           }
          ],
          "scatterternary": [
           {
            "marker": {
             "colorbar": {
              "outlinewidth": 0,
              "ticks": ""
             }
            },
            "type": "scatterternary"
           }
          ],
          "surface": [
           {
            "colorbar": {
             "outlinewidth": 0,
             "ticks": ""
            },
            "colorscale": [
             [
              0,
              "#0d0887"
             ],
             [
              0.1111111111111111,
              "#46039f"
             ],
             [
              0.2222222222222222,
              "#7201a8"
             ],
             [
              0.3333333333333333,
              "#9c179e"
             ],
             [
              0.4444444444444444,
              "#bd3786"
             ],
             [
              0.5555555555555556,
              "#d8576b"
             ],
             [
              0.6666666666666666,
              "#ed7953"
             ],
             [
              0.7777777777777778,
              "#fb9f3a"
             ],
             [
              0.8888888888888888,
              "#fdca26"
             ],
             [
              1,
              "#f0f921"
             ]
            ],
            "type": "surface"
           }
          ],
          "table": [
           {
            "cells": {
             "fill": {
              "color": "#EBF0F8"
             },
             "line": {
              "color": "white"
             }
            },
            "header": {
             "fill": {
              "color": "#C8D4E3"
             },
             "line": {
              "color": "white"
             }
            },
            "type": "table"
           }
          ]
         },
         "layout": {
          "annotationdefaults": {
           "arrowcolor": "#2a3f5f",
           "arrowhead": 0,
           "arrowwidth": 1
          },
          "coloraxis": {
           "colorbar": {
            "outlinewidth": 0,
            "ticks": ""
           }
          },
          "colorscale": {
           "diverging": [
            [
             0,
             "#8e0152"
            ],
            [
             0.1,
             "#c51b7d"
            ],
            [
             0.2,
             "#de77ae"
            ],
            [
             0.3,
             "#f1b6da"
            ],
            [
             0.4,
             "#fde0ef"
            ],
            [
             0.5,
             "#f7f7f7"
            ],
            [
             0.6,
             "#e6f5d0"
            ],
            [
             0.7,
             "#b8e186"
            ],
            [
             0.8,
             "#7fbc41"
            ],
            [
             0.9,
             "#4d9221"
            ],
            [
             1,
             "#276419"
            ]
           ],
           "sequential": [
            [
             0,
             "#0d0887"
            ],
            [
             0.1111111111111111,
             "#46039f"
            ],
            [
             0.2222222222222222,
             "#7201a8"
            ],
            [
             0.3333333333333333,
             "#9c179e"
            ],
            [
             0.4444444444444444,
             "#bd3786"
            ],
            [
             0.5555555555555556,
             "#d8576b"
            ],
            [
             0.6666666666666666,
             "#ed7953"
            ],
            [
             0.7777777777777778,
             "#fb9f3a"
            ],
            [
             0.8888888888888888,
             "#fdca26"
            ],
            [
             1,
             "#f0f921"
            ]
           ],
           "sequentialminus": [
            [
             0,
             "#0d0887"
            ],
            [
             0.1111111111111111,
             "#46039f"
            ],
            [
             0.2222222222222222,
             "#7201a8"
            ],
            [
             0.3333333333333333,
             "#9c179e"
            ],
            [
             0.4444444444444444,
             "#bd3786"
            ],
            [
             0.5555555555555556,
             "#d8576b"
            ],
            [
             0.6666666666666666,
             "#ed7953"
            ],
            [
             0.7777777777777778,
             "#fb9f3a"
            ],
            [
             0.8888888888888888,
             "#fdca26"
            ],
            [
             1,
             "#f0f921"
            ]
           ]
          },
          "colorway": [
           "#636efa",
           "#EF553B",
           "#00cc96",
           "#ab63fa",
           "#FFA15A",
           "#19d3f3",
           "#FF6692",
           "#B6E880",
           "#FF97FF",
           "#FECB52"
          ],
          "font": {
           "color": "#2a3f5f"
          },
          "geo": {
           "bgcolor": "white",
           "lakecolor": "white",
           "landcolor": "#E5ECF6",
           "showlakes": true,
           "showland": true,
           "subunitcolor": "white"
          },
          "hoverlabel": {
           "align": "left"
          },
          "hovermode": "closest",
          "mapbox": {
           "style": "light"
          },
          "paper_bgcolor": "white",
          "plot_bgcolor": "#E5ECF6",
          "polar": {
           "angularaxis": {
            "gridcolor": "white",
            "linecolor": "white",
            "ticks": ""
           },
           "bgcolor": "#E5ECF6",
           "radialaxis": {
            "gridcolor": "white",
            "linecolor": "white",
            "ticks": ""
           }
          },
          "scene": {
           "xaxis": {
            "backgroundcolor": "#E5ECF6",
            "gridcolor": "white",
            "gridwidth": 2,
            "linecolor": "white",
            "showbackground": true,
            "ticks": "",
            "zerolinecolor": "white"
           },
           "yaxis": {
            "backgroundcolor": "#E5ECF6",
            "gridcolor": "white",
            "gridwidth": 2,
            "linecolor": "white",
            "showbackground": true,
            "ticks": "",
            "zerolinecolor": "white"
           },
           "zaxis": {
            "backgroundcolor": "#E5ECF6",
            "gridcolor": "white",
            "gridwidth": 2,
            "linecolor": "white",
            "showbackground": true,
            "ticks": "",
            "zerolinecolor": "white"
           }
          },
          "shapedefaults": {
           "line": {
            "color": "#2a3f5f"
           }
          },
          "ternary": {
           "aaxis": {
            "gridcolor": "white",
            "linecolor": "white",
            "ticks": ""
           },
           "baxis": {
            "gridcolor": "white",
            "linecolor": "white",
            "ticks": ""
           },
           "bgcolor": "#E5ECF6",
           "caxis": {
            "gridcolor": "white",
            "linecolor": "white",
            "ticks": ""
           }
          },
          "title": {
           "x": 0.05
          },
          "xaxis": {
           "automargin": true,
           "gridcolor": "white",
           "linecolor": "white",
           "ticks": "",
           "title": {
            "standoff": 15
           },
           "zerolinecolor": "white",
           "zerolinewidth": 2
          },
          "yaxis": {
           "automargin": true,
           "gridcolor": "white",
           "linecolor": "white",
           "ticks": "",
           "title": {
            "standoff": 15
           },
           "zerolinecolor": "white",
           "zerolinewidth": 2
          }
         }
        },
        "title": {
         "text": "Correleation by cluster"
        },
        "xaxis": {
         "constrain": "domain",
         "scaleanchor": "y"
        },
        "yaxis": {
         "autorange": "reversed",
         "constrain": "domain"
        }
       }
      },
      "text/html": [
       "<div>                            <div id=\"c403deb4-70de-4a25-aa2b-bb1c1038e560\" class=\"plotly-graph-div\" style=\"height:525px; width:100%;\"></div>            <script type=\"text/javascript\">                require([\"plotly\"], function(Plotly) {                    window.PLOTLYENV=window.PLOTLYENV || {};                                    if (document.getElementById(\"c403deb4-70de-4a25-aa2b-bb1c1038e560\")) {                    Plotly.newPlot(                        \"c403deb4-70de-4a25-aa2b-bb1c1038e560\",                        [{\"coloraxis\": \"coloraxis\", \"hovertemplate\": \"x: %{x}<br>y: %{y}<br>color: %{z}<extra></extra>\", \"type\": \"heatmap\", \"x\": [\"related\", \"request\", \"offer\", \"aid_related\", \"medical_help\", \"medical_products\", \"search_and_rescue\", \"security\", \"military\", \"child_alone\", \"water\", \"food\", \"shelter\", \"clothing\", \"money\", \"missing_people\", \"refugees\", \"death\", \"other_aid\", \"infrastructure_related\", \"transport\", \"buildings\", \"electricity\", \"tools\", \"hospitals\", \"shops\", \"aid_centers\", \"other_infrastructure\", \"weather_related\", \"floods\", \"storm\", \"fire\", \"earthquake\", \"cold\", \"other_weather\", \"direct_report\"], \"y\": [\"related\", \"request\", \"offer\", \"aid_related\", \"medical_help\", \"medical_products\", \"search_and_rescue\", \"security\", \"military\", \"child_alone\", \"water\", \"food\", \"shelter\", \"clothing\", \"money\", \"missing_people\", \"refugees\", \"death\", \"other_aid\", \"infrastructure_related\", \"transport\", \"buildings\", \"electricity\", \"tools\", \"hospitals\", \"shops\", \"aid_centers\", \"other_infrastructure\", \"weather_related\", \"floods\", \"storm\", \"fire\", \"earthquake\", \"cold\", \"other_weather\", \"direct_report\"], \"z\": [[1.0, 0.25540001823336156, 0.03785820948344893, 0.4734766221795398, 0.1654530885891109, 0.12927936448225844, 0.09488334961470227, 0.07615294186638952, 0.10368872490062755, null, 0.1469495109836397, 0.1994455606783989, 0.17518109475145274, 0.07052576017153507, 0.08646083043113363, 0.060371236226862475, 0.10462002797385302, 0.12298830983753237, 0.21902757811669493, 0.14849244440545778, 0.12336555867879544, 0.13031259242572255, 0.08103024747312654, 0.043980385872638715, 0.05881519178328302, 0.03817915665166772, 0.06148842330036846, 0.12064976687883038, 0.3496598478688615, 0.16849595539323015, 0.18048554203333564, 0.0587100541121695, 0.18097395219675985, 0.08087464278499402, 0.1325122722072962, 0.2758531451453605], [0.25540001823336156, 1.0, -0.030502513951224122, 0.44802441623368144, 0.1286932048726693, 0.10641500368643428, 0.07142730146855562, 0.056959266704403634, -0.04426634444263236, null, 0.23927435013298834, 0.3511827241873839, 0.2806027793519199, 0.08211652349910498, 0.06279809416526093, 0.02787421621441627, 0.024088432608565642, 0.008866727335075276, 0.2439333959631058, 0.02180299841637816, 0.025720957565404833, 0.06300442672055871, 0.010217752651644391, 0.0194123712394372, 0.016389119742165618, 0.03232597206538858, 0.02279737885748897, -0.0026865231055606654, -0.01454643772585888, -0.005452325994158855, -0.0456637824024884, -0.008969825863597859, 0.006971573923630554, -0.0017645431682823288, -0.015379664229208218, 0.6479372165815576], [0.03785820948344893, -0.030502513951224122, 1.0, 0.06723284729831573, 0.005518742793414205, 0.03942354412099708, -0.0008998497165607362, -0.009094972615013307, 0.0004129487350798301, null, 0.0057699002119678605, 0.06308337841744778, 0.005191637299302505, 0.056264517070669866, 0.05424391254850804, -0.00721015796318367, -0.009322275452671334, -0.014688537074531775, 0.03286845836455775, -0.013112726624634478, -0.0038314949470347496, -0.01556327871853921, -0.0015946183156422863, -0.005252592943962303, -0.0015098688981668685, -0.004559750098958095, -0.0020635829561363814, -0.014409244066971395, -0.013788017160649832, -0.0014518317787369302, -0.013714332201579525, -0.0014876500342342492, -0.011833898573593286, -0.00965888701540943, -0.005604907190527344, 0.018975818974061854], [0.4734766221795398, 0.44802441623368144, 0.06723284729831573, 1.0, 0.349442994307699, 0.2730427616196788, 0.2003971160770918, 0.16083780761093852, 0.21899439178923574, null, 0.3103627594266288, 0.4212363426948045, 0.36998890028624576, 0.14895299338515555, 0.18260844650181843, 0.12750626619949726, 0.2209613380535237, 0.2597558233633284, 0.46259428207554526, 0.19805881912242432, 0.15536631873245862, 0.14973876267321984, 0.07008726859641765, 0.085906672834802, 0.1084831977577233, 0.06457513768982533, 0.11623321977114841, 0.13160316290389043, 0.20927205225035625, 0.16754443398628713, 0.06019892456826209, 0.0534341429978988, 0.08054105704722953, 0.08112643530422987, 0.12604427468684998, 0.3748636340919613], [0.1654530885891109, 0.1286932048726693, 0.005518742793414205, 0.349442994307699, 1.0, 0.3411050701459915, 0.10364414207816476, 0.06110463566672341, 0.006044729818293903, null, 0.1368162841373912, 0.08899425655874796, 0.0820433498052405, 0.03979555673404315, 0.021604459012666086, 0.08554546624764389, 0.08120955483932664, 0.12044386252854525, 0.08265913077788066, 0.10948752091964867, 0.2343901898781046, 0.03981924071987844, 0.020711100592645245, 0.053324185433560975, 0.16443734637624458, 0.03647599436798624, 0.060672633322877915, 0.034758979466670704, 0.09657128500957747, 0.18568589194253854, 0.007178048049518929, 0.026769330299517974, 0.01589694433853123, 0.030927865299602793, 0.03896158762377522, 0.09942044718295413], [0.12927936448225844, 0.10641500368643428, 0.03942354412099708, 0.2730427616196788, 0.3411050701459915, 1.0, 0.08082727817422959, 0.05978708364819361, -0.0049798057968896475, null, 0.2485259799924823, 0.19147069571701497, 0.16466176744748834, 0.17826615758794137, 0.04400247167251289, 0.10075411152048037, 0.08195653020809761, 0.05972055588417734, 0.10734961299324629, 0.09759010762288645, 0.12199458876424363, 0.03203167516943867, 0.04757152751288414, 0.07666450935261375, 0.09955425024384694, 0.04401718053783271, 0.08024846818295456, 0.04383348522591446, 0.04625335904989874, 0.09172733373264867, 0.0003880216857663189, 0.033696534066154596, 0.004228324286633822, 0.040328370434503436, 0.03221821875112759, 0.06277367100907251], [0.09488334961470227, 0.07142730146855562, -0.0008998497165607362, 0.2003971160770918, 0.10364414207816476, 0.08082727817422959, 1.0, 0.1016272788117614, 0.0460638268355786, null, 0.023647805087248546, 0.010558065146409244, 0.03700188572462641, 0.012863098963781853, 0.0144593098986132, 0.22785524972618085, 0.12808305325868322, 0.11390461380522034, 0.08324166989420932, 0.09525805308065849, 0.18017257391714947, 0.09344000764497594, 0.05663725862560237, 0.09176619563449859, 0.07474987068047259, 0.0230559770768819, 0.0441417493206914, 0.06159257124655629, 0.14359485088024954, 0.14363108834688648, 0.038861785715282524, 0.05237813379202332, 0.06567708978247165, 0.0651026577216155, 0.04488202766598441, 0.05705480202425409], [0.07615294186638952, 0.056959266704403634, -0.009094972615013307, 0.16083780761093852, 0.06110463566672341, 0.05978708364819361, 0.1016272788117614, 1.0, 0.16049348213046502, null, -0.004747137886461516, 0.0022673073647064427, 0.020677696335766417, 0.048255551207209355, -0.001629952304512669, 0.14803342135073705, 0.10756655859183187, 0.09854771185529865, 0.0612685660298805, 0.06564437823301818, 0.14754814563085156, 0.04320456961799953, 0.03348710129275036, 0.0671068867964749, 0.04145054513948005, 0.046134310226742734, 0.03312360388094989, 0.03268774344804468, 0.08003035842960608, 0.10693810644254897, 0.0030710836764071274, 0.058276457690314025, 0.019608985629749446, 0.037703111873733305, 0.013236063375543481, 0.048567704522271424], [0.10368872490062755, -0.04426634444263236, 0.0004129487350798301, 0.21899439178923574, 0.006044729818293903, -0.0049798057968896475, 0.0460638268355786, 0.16049348213046502, 1.0, null, -0.017394962633181268, -0.028499123362376377, -0.023332870067328225, -0.003969001574193293, -0.0011616711120100223, 0.024694009946555427, 0.05758024216756734, 0.09842879882590931, -0.0012954074224699084, 0.05477049678670432, 0.020077227562388316, 0.006113622268104235, 0.012982470987357475, 0.03526032137237351, 0.03049702888703225, 0.022408743555511666, 0.031476501690536826, 0.033699945925283116, -0.015468472764677407, -0.0005406594619970089, -0.03178078872367073, 0.0430742833431409, -0.01950447866799392, 0.011584699311426265, 0.006588536462076194, -0.03820112193107859], [null, null, null, null, null, null, null, null, null, null, null, null, null, null, null, null, null, null, null, null, null, null, null, null, null, null, null, null, null, null, null, null, null, null, null, null], [0.1469495109836397, 0.23927435013298834, 0.0057699002119678605, 0.3103627594266288, 0.1368162841373912, 0.2485259799924823, 0.023647805087248546, -0.004747137886461516, -0.017394962633181268, null, 1.0, 0.3519234839128919, 0.20823258158323166, 0.1002088753290878, 0.026509639865004448, 0.004409078630843959, 0.03319397346126999, 0.0073742135946731424, 0.04491578384892705, 0.07929413541401865, 0.023446193215171097, 0.031964544454115396, 0.06207553508548344, 0.03389650893204554, 0.036180728815656114, 0.04705341214108647, 0.05972560097209378, 0.05607030754558802, 0.00021352948584319644, 0.02134549316059686, -0.0041935585160496345, 0.013641592259210777, -0.017989889836907365, 0.006874212113901247, 0.04846834968726383, 0.19332784012423926], [0.1994455606783989, 0.3511827241873839, 0.06308337841744778, 0.4212363426948045, 0.08899425655874796, 0.19147069571701497, 0.010558065146409244, 0.0022673073647064427, -0.028499123362376377, null, 0.3519234839128919, 1.0, 0.22940976227928286, 0.1973639393590783, 0.0538440747163522, -0.012833857642432386, 0.024586991629666353, 0.0005073453531589357, 0.03650659375364465, 0.04025035369710065, 0.014544836888734564, 0.015101613804051617, 0.0005876526074042093, 0.02696009423613572, 0.001696329273658256, 0.0424080863348366, 0.03879430768215971, 0.02582991736309024, -0.015032502211727928, 0.013115111970390518, -0.0009950121050657636, 0.007704510055258433, -0.0564598708734461, 0.002502955192824092, 0.045421219075304234, 0.29788354761021213], [0.17518109475145274, 0.2806027793519199, 0.005191637299302505, 0.36998890028624576, 0.0820433498052405, 0.16466176744748834, 0.03700188572462641, 0.020677696335766417, -0.023332870067328225, null, 0.20823258158323166, 0.22940976227928286, 1.0, 0.16599716169060355, 0.03825798741377934, 0.004688694727175139, 0.18847332729934926, 0.020385566723112997, 0.0671870583084953, 0.14804821568350993, 0.02636280624789383, 0.2168812230034481, 0.023880940767862065, 0.04669999620025072, 0.027352153503916274, 0.04862080476188785, 0.15664029819375377, 0.09739680376979397, 0.09148064075291064, 0.06794076844913693, 0.054750126486040024, 0.017087199105770837, 0.021371726249360956, 0.07186326791057074, 0.05338837619299885, 0.2344959517414568], [0.07052576017153507, 0.08211652349910498, 0.056264517070669866, 0.14895299338515555, 0.03979555673404315, 0.17826615758794137, 0.012863098963781853, 0.048255551207209355, -0.003969001574193293, null, 0.1002088753290878, 0.1973639393590783, 0.16599716169060355, 1.0, 0.05291833861243978, 0.0069915417704416016, 0.016328378817368278, -0.006594840134969147, 0.047383460023826644, 0.029676429216396693, 0.021370761446224514, 0.014652014619530201, 0.019262421598559856, 0.030050986815399687, 0.04677585550710566, 0.0144158790663403, 0.035038611638918575, 0.004858958889320013, 0.011919291299059366, 0.00980595291884226, -0.002916240506712834, 0.007926045000866218, -0.0031066494939326265, 0.04134196514998338, 0.002417058754272749, 0.0670072234021736], [0.08646083043113363, 0.06279809416526093, 0.05424391254850804, 0.18260844650181843, 0.021604459012666086, 0.04400247167251289, 0.0144593098986132, -0.001629952304512669, -0.0011616711120100223, null, 0.026509639865004448, 0.0538440747163522, 0.03825798741377934, 0.05291833861243978, 1.0, 0.0027204043297995796, 0.01676032304545238, -0.0018401485922485727, 0.0892472805725168, 0.06260371723145591, 0.027154247830203242, 0.0362113631077072, 0.02117484595646432, 0.024025289369592417, 0.028245104923807114, 0.027252335711329886, 0.03505627317321424, 0.052717704024014704, 0.06914227064319689, 0.0456808706489816, 0.02336549086035821, 0.0037042193709844666, 0.062344704734080145, 0.005038598962782725, 0.03226223014515502, 0.016779284124225108], [0.060371236226862475, 0.02787421621441627, -0.00721015796318367, 0.12750626619949726, 0.08554546624764389, 0.10075411152048037, 0.22785524972618085, 0.14803342135073705, 0.024694009946555427, null, 0.004409078630843959, -0.012833857642432386, 0.004688694727175139, 0.0069915417704416016, 0.0027204043297995796, 1.0, 0.1363307834915619, 0.19230362008943402, 0.06690803395167486, 0.04176097509135103, 0.20367940410818453, 0.03578457343419998, 0.022846752114574258, 0.03796821240858933, 0.02013721352616443, 0.024712601669548483, 0.03163184388343108, 0.029709518024814047, 0.12288012990429727, 0.172272391267502, 0.031230138620146567, 0.009747623181558545, 0.05322477474867419, 0.028060352068917955, 0.031235785225116813, 0.008480417979260024], [0.10462002797385302, 0.024088432608565642, -0.009322275452671334, 0.2209613380535237, 0.08120955483932664, 0.08195653020809761, 0.12808305325868322, 0.10756655859183187, 0.05758024216756734, null, 0.03319397346126999, 0.024586991629666353, 0.18847332729934926, 0.016328378817368278, 0.01676032304545238, 0.1363307834915619, 1.0, 0.10098874807335058, 0.07541122877449431, 0.12064911140570041, 0.14211576615900992, 0.08846023393782049, 0.01693446160018651, 0.023777475887434577, 0.023745403069615076, 0.044029120613681395, 0.1253173128666433, 0.08041717237298401, 0.10540568717880221, 0.14773062094025904, 0.037594600868284166, 0.03209048603575822, 0.017538712613487984, 0.03215558280888988, 0.04577985375505288, 0.005704877057247076], [0.12298830983753237, 0.008866727335075276, -0.014688537074531775, 0.2597558233633284, 0.12044386252854525, 0.05972055588417734, 0.11390461380522034, 0.09854771185529865, 0.09842879882590931, null, 0.0073742135946731424, 0.0005073453531589357, 0.020385566723112997, -0.006594840134969147, -0.0018401485922485727, 0.19230362008943402, 0.10098874807335058, 1.0, 0.02276986815945225, 0.07890106028997185, 0.13502049627472476, 0.12016272149162464, 0.01397463740769445, 0.022994328872818427, 0.02852345085590399, 0.03668362281418466, 0.0354744695823221, 0.0674881287270522, 0.16763499904873472, 0.15842658266592113, 0.07976156072662223, 0.035748412947271005, 0.0936867789778382, 0.05311648470239316, 0.08477088380853766, 0.011048521962686447], [0.21902757811669493, 0.2439333959631058, 0.03286845836455775, 0.46259428207554526, 0.08265913077788066, 0.10734961299324629, 0.08324166989420932, 0.0612685660298805, -0.0012954074224699084, null, 0.04491578384892705, 0.03650659375364465, 0.0671870583084953, 0.047383460023826644, 0.0892472805725168, 0.06690803395167486, 0.07541122877449431, 0.02276986815945225, 1.0, 0.138205203374946, 0.11778135123791779, 0.08262242901192231, 0.08812741568068722, 0.05830570429747544, 0.028186323269669425, 0.0254652342312788, 0.06629985792702714, 0.13593583570419474, 0.16998233914222946, 0.10675145080612378, 0.05859285687884334, 0.0349458400035821, 0.10435274458128704, 0.033154468294746955, 0.09675433298213268, 0.19283767985383318], [0.14849244440545778, 0.02180299841637816, -0.013112726624634478, 0.19805881912242432, 0.10948752091964867, 0.09759010762288645, 0.09525805308065849, 0.06564437823301818, 0.05477049678670432, null, 0.07929413541401865, 0.04025035369710065, 0.14804821568350993, 0.029676429216396693, 0.06260371723145591, 0.04176097509135103, 0.12064911140570041, 0.07890106028997185, 0.138205203374946, 1.0, 0.12495640582946685, 0.24736774822065163, 0.1013703589815354, 0.06108343540200587, 0.39608204995729196, 0.25711177969041743, 0.41408452495047654, 0.8124976820328719, 0.23346614001838484, 0.17224482217469053, 0.11925921999023441, 0.07596731914569739, 0.09362770681520342, 0.07752023435289672, 0.1578114316300163, 0.03129698573017676], [0.12336555867879544, 0.025720957565404833, -0.0038314949470347496, 0.15536631873245862, 0.2343901898781046, 0.12199458876424363, 0.18017257391714947, 0.14754814563085156, 0.020077227562388316, null, 0.023446193215171097, 0.014544836888734564, 0.02636280624789383, 0.021370761446224514, 0.027154247830203242, 0.20367940410818453, 0.14211576615900992, 0.13502049627472476, 0.11778135123791779, 0.12495640582946685, 1.0, 0.12534654650259447, 0.11985346374855722, 0.03927937996724247, 0.03184183252995062, 0.04460353577102741, 0.04368874921666727, 0.13381275137651585, 0.25674643973290073, 0.39738877495027597, 0.09419318286395599, 0.03905314194910424, 0.034149931835923256, 0.07093374914453926, 0.05969154131456609, 0.03948281354138768], [0.13031259242572255, 0.06300442672055871, -0.01556327871853921, 0.14973876267321984, 0.03981924071987844, 0.03203167516943867, 0.09344000764497594, 0.04320456961799953, 0.006113622268104235, null, 0.031964544454115396, 0.015101613804051617, 0.2168812230034481, 0.014652014619530201, 0.0362113631077072, 0.03578457343419998, 0.08846023393782049, 0.12016272149162464, 0.08262242901192231, 0.24736774822065163, 0.12534654650259447, 1.0, 0.09106428004890216, 0.02441052730761512, 0.06319573793146421, 0.08976926916001915, 0.08090575994772219, 0.24956137547151663, 0.21810449020359926, 0.1627310540296853, 0.11335731124373102, 0.07180814971855737, 0.11810877141559407, 0.05434648447851131, 0.09968801712294834, 0.07556618970547621], [0.08103024747312654, 0.010217752651644391, -0.0015946183156422863, 0.07008726859641765, 0.020711100592645245, 0.04757152751288414, 0.05663725862560237, 0.03348710129275036, 0.012982470987357475, null, 0.06207553508548344, 0.0005876526074042093, 0.023880940767862065, 0.019262421598559856, 0.02117484595646432, 0.022846752114574258, 0.01693446160018651, 0.01397463740769445, 0.08812741568068722, 0.1013703589815354, 0.11985346374855722, 0.09106428004890216, 1.0, 0.041022410864837267, 0.02947039869291255, 0.03432584523041021, 0.036921457840812015, 0.10780172942442313, 0.13274780929365407, 0.05640479996152787, 0.12696012868529405, 0.08727084935637666, 0.015953820464606455, 0.08312398556435718, 0.058321773496497614, 0.049307280867573564], [0.043980385872638715, 0.0194123712394372, -0.005252592943962303, 0.085906672834802, 0.053324185433560975, 0.07666450935261375, 0.09176619563449859, 0.0671068867964749, 0.03526032137237351, null, 0.03389650893204554, 0.02696009423613572, 0.04669999620025072, 0.030050986815399687, 0.024025289369592417, 0.03796821240858933, 0.023777475887434577, 0.022994328872818427, 0.05830570429747544, 0.06108343540200587, 0.03927937996724247, 0.02441052730761512, 0.041022410864837267, 1.0, 0.03938269809268574, 0.03109421943897856, 0.023334005595093164, 0.05040226487904091, 0.07316354098991674, 0.03207035287056968, 0.01890028538544134, 0.06329371152844294, 0.03897225692243552, 0.09699257655716666, 0.03889355105775022, 0.016438443347034058], [0.05881519178328302, 0.016389119742165618, -0.0015098688981668685, 0.1084831977577233, 0.16443734637624458, 0.09955425024384694, 0.07474987068047259, 0.04145054513948005, 0.03049702888703225, null, 0.036180728815656114, 0.001696329273658256, 0.027352153503916274, 0.04677585550710566, 0.028245104923807114, 0.02013721352616443, 0.023745403069615076, 0.02852345085590399, 0.028186323269669425, 0.39608204995729196, 0.03184183252995062, 0.06319573793146421, 0.02947039869291255, 0.03938269809268574, 1.0, 0.0421327470372159, 0.135662412912876, 0.04607777236193386, 0.06607830845977167, 0.023836609157389475, 0.010955999258094944, 0.03562582498431354, 0.04497777268995727, 0.05843192650446441, 0.03665729822090184, 0.020755165558178405], [0.03817915665166772, 0.03232597206538858, -0.004559750098958095, 0.06457513768982533, 0.03647599436798624, 0.04401718053783271, 0.0230559770768819, 0.046134310226742734, 0.022408743555511666, null, 0.04705341214108647, 0.0424080863348366, 0.04862080476188785, 0.0144158790663403, 0.027252335711329886, 0.024712601669548483, 0.044029120613681395, 0.03668362281418466, 0.0254652342312788, 0.25711177969041743, 0.04460353577102741, 0.08976926916001915, 0.03432584523041021, 0.03109421943897856, 0.0421327470372159, 1.0, 0.029246277535935897, 0.04890596757641757, 0.08018959485736238, 0.04348374560862565, 0.032692411361069006, 0.04223164582255824, 0.05385061556751706, 0.05851691780660527, 0.027117569474198605, 0.035426847030181736], [0.06148842330036846, 0.02279737885748897, -0.0020635829561363814, 0.11623321977114841, 0.060672633322877915, 0.08024846818295456, 0.0441417493206914, 0.03312360388094989, 0.031476501690536826, null, 0.05972560097209378, 0.03879430768215971, 0.15664029819375377, 0.035038611638918575, 0.03505627317321424, 0.03163184388343108, 0.1253173128666433, 0.0354744695823221, 0.06629985792702714, 0.41408452495047654, 0.04368874921666727, 0.08090575994772219, 0.036921457840812015, 0.023334005595093164, 0.135662412912876, 0.029246277535935897, 1.0, 0.08527634783031611, 0.07017956967509777, 0.039374488308452874, 0.039156115426721205, 0.05371044909091687, 0.04132490591746625, 0.034537549766788335, 0.04403007457871639, 0.02163213743554766], [0.12064976687883038, -0.0026865231055606654, -0.014409244066971395, 0.13160316290389043, 0.034758979466670704, 0.04383348522591446, 0.06159257124655629, 0.03268774344804468, 0.033699945925283116, null, 0.05607030754558802, 0.02582991736309024, 0.09739680376979397, 0.004858958889320013, 0.052717704024014704, 0.029709518024814047, 0.08041717237298401, 0.0674881287270522, 0.13593583570419474, 0.8124976820328719, 0.13381275137651585, 0.24956137547151663, 0.10780172942442313, 0.05040226487904091, 0.04607777236193386, 0.04890596757641757, 0.08527634783031611, 1.0, 0.21294958277223325, 0.18191731015204035, 0.12408334290687592, 0.053457056719159644, 0.06659856984784582, 0.030069074979846334, 0.16412156102807932, 0.002914306248526264], [0.3496598478688615, -0.01454643772585888, -0.013788017160649832, 0.20927205225035625, 0.09657128500957747, 0.04625335904989874, 0.14359485088024954, 0.08003035842960608, -0.015468472764677407, null, 0.00021352948584319644, -0.015032502211727928, 0.09148064075291064, 0.011919291299059366, 0.06914227064319689, 0.12288012990429727, 0.10540568717880221, 0.16763499904873472, 0.16998233914222946, 0.23346614001838484, 0.25674643973290073, 0.21810449020359926, 0.13274780929365407, 0.07316354098991674, 0.06607830845977167, 0.08018959485736238, 0.07017956967509777, 0.21294958277223325, 1.0, 0.48188534205512634, 0.5161746283806254, 0.16790619360501516, 0.5175714435036586, 0.23129519525308978, 0.3789748036983484, 0.07914503379434565], [0.16849595539323015, -0.005452325994158855, -0.0014518317787369302, 0.16754443398628713, 0.18568589194253854, 0.09172733373264867, 0.14363108834688648, 0.10693810644254897, -0.0005406594619970089, null, 0.02134549316059686, 0.013115111970390518, 0.06794076844913693, 0.00980595291884226, 0.0456808706489816, 0.172272391267502, 0.14773062094025904, 0.15842658266592113, 0.10675145080612378, 0.17224482217469053, 0.39738877495027597, 0.1627310540296853, 0.05640479996152787, 0.03207035287056968, 0.023836609157389475, 0.04348374560862565, 0.039374488308452874, 0.18191731015204035, 0.48188534205512634, 1.0, 0.20598806982587323, 0.041490326665422295, 0.0034296267576293662, 0.044830346624336916, 0.10268250177753067, 0.0027508263887788785], [0.18048554203333564, -0.0456637824024884, -0.013714332201579525, 0.06019892456826209, 0.007178048049518929, 0.0003880216857663189, 0.038861785715282524, 0.0030710836764071274, -0.03178078872367073, null, -0.0041935585160496345, -0.0009950121050657636, 0.054750126486040024, -0.002916240506712834, 0.02336549086035821, 0.031230138620146567, 0.037594600868284166, 0.07976156072662223, 0.05859285687884334, 0.11925921999023441, 0.09419318286395599, 0.11335731124373102, 0.12696012868529405, 0.01890028538544134, 0.010955999258094944, 0.032692411361069006, 0.039156115426721205, 0.12408334290687592, 0.5161746283806254, 0.20598806982587323, 1.0, 0.02763035468598167, -0.018365315837392114, 0.08075102676410979, 0.15579493156929364, 0.0707640379411314], [0.0587100541121695, -0.008969825863597859, -0.0014876500342342492, 0.0534341429978988, 0.026769330299517974, 0.033696534066154596, 0.05237813379202332, 0.058276457690314025, 0.0430742833431409, null, 0.013641592259210777, 0.007704510055258433, 0.017087199105770837, 0.007926045000866218, 0.0037042193709844666, 0.009747623181558545, 0.03209048603575822, 0.035748412947271005, 0.0349458400035821, 0.07596731914569739, 0.03905314194910424, 0.07180814971855737, 0.08727084935637666, 0.06329371152844294, 0.03562582498431354, 0.04223164582255824, 0.05371044909091687, 0.053457056719159644, 0.16790619360501516, 0.041490326665422295, 0.02763035468598167, 1.0, 0.017251822257883354, 0.04019584785150628, 0.06997142859285352, 0.004126626839066042], [0.18097395219675985, 0.006971573923630554, -0.011833898573593286, 0.08054105704722953, 0.01589694433853123, 0.004228324286633822, 0.06567708978247165, 0.019608985629749446, -0.01950447866799392, null, -0.017989889836907365, -0.0564598708734461, 0.021371726249360956, -0.0031066494939326265, 0.062344704734080145, 0.05322477474867419, 0.017538712613487984, 0.0936867789778382, 0.10435274458128704, 0.09362770681520342, 0.034149931835923256, 0.11810877141559407, 0.015953820464606455, 0.03897225692243552, 0.04497777268995727, 0.05385061556751706, 0.04132490591746625, 0.06659856984784582, 0.5175714435036586, 0.0034296267576293662, -0.018365315837392114, 0.017251822257883354, 1.0, 0.037554364147573356, 0.016523968891751856, 0.028416282900024615], [0.08087464278499402, -0.0017645431682823288, -0.00965888701540943, 0.08112643530422987, 0.030927865299602793, 0.040328370434503436, 0.0651026577216155, 0.037703111873733305, 0.011584699311426265, null, 0.006874212113901247, 0.002502955192824092, 0.07186326791057074, 0.04134196514998338, 0.005038598962782725, 0.028060352068917955, 0.03215558280888988, 0.05311648470239316, 0.033154468294746955, 0.07752023435289672, 0.07093374914453926, 0.05434648447851131, 0.08312398556435718, 0.09699257655716666, 0.05843192650446441, 0.05851691780660527, 0.034537549766788335, 0.030069074979846334, 0.23129519525308978, 0.044830346624336916, 0.08075102676410979, 0.04019584785150628, 0.037554364147573356, 1.0, 0.07435634172521463, 0.003704493291656156], [0.1325122722072962, -0.015379664229208218, -0.005604907190527344, 0.12604427468684998, 0.03896158762377522, 0.03221821875112759, 0.04488202766598441, 0.013236063375543481, 0.006588536462076194, null, 0.04846834968726383, 0.045421219075304234, 0.05338837619299885, 0.002417058754272749, 0.03226223014515502, 0.031235785225116813, 0.04577985375505288, 0.08477088380853766, 0.09675433298213268, 0.1578114316300163, 0.05969154131456609, 0.09968801712294834, 0.058321773496497614, 0.03889355105775022, 0.03665729822090184, 0.027117569474198605, 0.04403007457871639, 0.16412156102807932, 0.3789748036983484, 0.10268250177753067, 0.15579493156929364, 0.06997142859285352, 0.016523968891751856, 0.07435634172521463, 1.0, 0.0033023982967026375], [0.2758531451453605, 0.6479372165815576, 0.018975818974061854, 0.3748636340919613, 0.09942044718295413, 0.06277367100907251, 0.05705480202425409, 0.048567704522271424, -0.03820112193107859, null, 0.19332784012423926, 0.29788354761021213, 0.2344959517414568, 0.0670072234021736, 0.016779284124225108, 0.008480417979260024, 0.005704877057247076, 0.011048521962686447, 0.19283767985383318, 0.03129698573017676, 0.03948281354138768, 0.07556618970547621, 0.049307280867573564, 0.016438443347034058, 0.020755165558178405, 0.035426847030181736, 0.02163213743554766, 0.002914306248526264, 0.07914503379434565, 0.0027508263887788785, 0.0707640379411314, 0.004126626839066042, 0.028416282900024615, 0.003704493291656156, 0.0033023982967026375, 1.0]]}],                        {\"coloraxis\": {\"colorscale\": [[0.0, \"#0d0887\"], [0.1111111111111111, \"#46039f\"], [0.2222222222222222, \"#7201a8\"], [0.3333333333333333, \"#9c179e\"], [0.4444444444444444, \"#bd3786\"], [0.5555555555555556, \"#d8576b\"], [0.6666666666666666, \"#ed7953\"], [0.7777777777777778, \"#fb9f3a\"], [0.8888888888888888, \"#fdca26\"], [1.0, \"#f0f921\"]]}, \"template\": {\"data\": {\"bar\": [{\"error_x\": {\"color\": \"#2a3f5f\"}, \"error_y\": {\"color\": \"#2a3f5f\"}, \"marker\": {\"line\": {\"color\": \"#E5ECF6\", \"width\": 0.5}}, \"type\": \"bar\"}], \"barpolar\": [{\"marker\": {\"line\": {\"color\": \"#E5ECF6\", \"width\": 0.5}}, \"type\": \"barpolar\"}], \"carpet\": [{\"aaxis\": {\"endlinecolor\": \"#2a3f5f\", \"gridcolor\": \"white\", \"linecolor\": \"white\", \"minorgridcolor\": \"white\", \"startlinecolor\": \"#2a3f5f\"}, \"baxis\": {\"endlinecolor\": \"#2a3f5f\", \"gridcolor\": \"white\", \"linecolor\": \"white\", \"minorgridcolor\": \"white\", \"startlinecolor\": \"#2a3f5f\"}, \"type\": \"carpet\"}], \"choropleth\": [{\"colorbar\": {\"outlinewidth\": 0, \"ticks\": \"\"}, \"type\": \"choropleth\"}], \"contour\": [{\"colorbar\": {\"outlinewidth\": 0, \"ticks\": \"\"}, \"colorscale\": [[0.0, \"#0d0887\"], [0.1111111111111111, \"#46039f\"], [0.2222222222222222, \"#7201a8\"], [0.3333333333333333, \"#9c179e\"], [0.4444444444444444, \"#bd3786\"], [0.5555555555555556, \"#d8576b\"], [0.6666666666666666, \"#ed7953\"], [0.7777777777777778, \"#fb9f3a\"], [0.8888888888888888, \"#fdca26\"], [1.0, \"#f0f921\"]], \"type\": \"contour\"}], \"contourcarpet\": [{\"colorbar\": {\"outlinewidth\": 0, \"ticks\": \"\"}, \"type\": \"contourcarpet\"}], \"heatmap\": [{\"colorbar\": {\"outlinewidth\": 0, \"ticks\": \"\"}, \"colorscale\": [[0.0, \"#0d0887\"], [0.1111111111111111, \"#46039f\"], [0.2222222222222222, \"#7201a8\"], [0.3333333333333333, \"#9c179e\"], [0.4444444444444444, \"#bd3786\"], [0.5555555555555556, \"#d8576b\"], [0.6666666666666666, \"#ed7953\"], [0.7777777777777778, \"#fb9f3a\"], [0.8888888888888888, \"#fdca26\"], [1.0, \"#f0f921\"]], \"type\": \"heatmap\"}], \"heatmapgl\": [{\"colorbar\": {\"outlinewidth\": 0, \"ticks\": \"\"}, \"colorscale\": [[0.0, \"#0d0887\"], [0.1111111111111111, \"#46039f\"], [0.2222222222222222, \"#7201a8\"], [0.3333333333333333, \"#9c179e\"], [0.4444444444444444, \"#bd3786\"], [0.5555555555555556, \"#d8576b\"], [0.6666666666666666, \"#ed7953\"], [0.7777777777777778, \"#fb9f3a\"], [0.8888888888888888, \"#fdca26\"], [1.0, \"#f0f921\"]], \"type\": \"heatmapgl\"}], \"histogram\": [{\"marker\": {\"colorbar\": {\"outlinewidth\": 0, \"ticks\": \"\"}}, \"type\": \"histogram\"}], \"histogram2d\": [{\"colorbar\": {\"outlinewidth\": 0, \"ticks\": \"\"}, \"colorscale\": [[0.0, \"#0d0887\"], [0.1111111111111111, \"#46039f\"], [0.2222222222222222, \"#7201a8\"], [0.3333333333333333, \"#9c179e\"], [0.4444444444444444, \"#bd3786\"], [0.5555555555555556, \"#d8576b\"], [0.6666666666666666, \"#ed7953\"], [0.7777777777777778, \"#fb9f3a\"], [0.8888888888888888, \"#fdca26\"], [1.0, \"#f0f921\"]], \"type\": \"histogram2d\"}], \"histogram2dcontour\": [{\"colorbar\": {\"outlinewidth\": 0, \"ticks\": \"\"}, \"colorscale\": [[0.0, \"#0d0887\"], [0.1111111111111111, \"#46039f\"], [0.2222222222222222, \"#7201a8\"], [0.3333333333333333, \"#9c179e\"], [0.4444444444444444, \"#bd3786\"], [0.5555555555555556, \"#d8576b\"], [0.6666666666666666, \"#ed7953\"], [0.7777777777777778, \"#fb9f3a\"], [0.8888888888888888, \"#fdca26\"], [1.0, \"#f0f921\"]], \"type\": \"histogram2dcontour\"}], \"mesh3d\": [{\"colorbar\": {\"outlinewidth\": 0, \"ticks\": \"\"}, \"type\": \"mesh3d\"}], \"parcoords\": [{\"line\": {\"colorbar\": {\"outlinewidth\": 0, \"ticks\": \"\"}}, \"type\": \"parcoords\"}], \"pie\": [{\"automargin\": true, \"type\": \"pie\"}], \"scatter\": [{\"marker\": {\"colorbar\": {\"outlinewidth\": 0, \"ticks\": \"\"}}, \"type\": \"scatter\"}], \"scatter3d\": [{\"line\": {\"colorbar\": {\"outlinewidth\": 0, \"ticks\": \"\"}}, \"marker\": {\"colorbar\": {\"outlinewidth\": 0, \"ticks\": \"\"}}, \"type\": \"scatter3d\"}], \"scattercarpet\": [{\"marker\": {\"colorbar\": {\"outlinewidth\": 0, \"ticks\": \"\"}}, \"type\": \"scattercarpet\"}], \"scattergeo\": [{\"marker\": {\"colorbar\": {\"outlinewidth\": 0, \"ticks\": \"\"}}, \"type\": \"scattergeo\"}], \"scattergl\": [{\"marker\": {\"colorbar\": {\"outlinewidth\": 0, \"ticks\": \"\"}}, \"type\": \"scattergl\"}], \"scattermapbox\": [{\"marker\": {\"colorbar\": {\"outlinewidth\": 0, \"ticks\": \"\"}}, \"type\": \"scattermapbox\"}], \"scatterpolar\": [{\"marker\": {\"colorbar\": {\"outlinewidth\": 0, \"ticks\": \"\"}}, \"type\": \"scatterpolar\"}], \"scatterpolargl\": [{\"marker\": {\"colorbar\": {\"outlinewidth\": 0, \"ticks\": \"\"}}, \"type\": \"scatterpolargl\"}], \"scatterternary\": [{\"marker\": {\"colorbar\": {\"outlinewidth\": 0, \"ticks\": \"\"}}, \"type\": \"scatterternary\"}], \"surface\": [{\"colorbar\": {\"outlinewidth\": 0, \"ticks\": \"\"}, \"colorscale\": [[0.0, \"#0d0887\"], [0.1111111111111111, \"#46039f\"], [0.2222222222222222, \"#7201a8\"], [0.3333333333333333, \"#9c179e\"], [0.4444444444444444, \"#bd3786\"], [0.5555555555555556, \"#d8576b\"], [0.6666666666666666, \"#ed7953\"], [0.7777777777777778, \"#fb9f3a\"], [0.8888888888888888, \"#fdca26\"], [1.0, \"#f0f921\"]], \"type\": \"surface\"}], \"table\": [{\"cells\": {\"fill\": {\"color\": \"#EBF0F8\"}, \"line\": {\"color\": \"white\"}}, \"header\": {\"fill\": {\"color\": \"#C8D4E3\"}, \"line\": {\"color\": \"white\"}}, \"type\": \"table\"}]}, \"layout\": {\"annotationdefaults\": {\"arrowcolor\": \"#2a3f5f\", \"arrowhead\": 0, \"arrowwidth\": 1}, \"coloraxis\": {\"colorbar\": {\"outlinewidth\": 0, \"ticks\": \"\"}}, \"colorscale\": {\"diverging\": [[0, \"#8e0152\"], [0.1, \"#c51b7d\"], [0.2, \"#de77ae\"], [0.3, \"#f1b6da\"], [0.4, \"#fde0ef\"], [0.5, \"#f7f7f7\"], [0.6, \"#e6f5d0\"], [0.7, \"#b8e186\"], [0.8, \"#7fbc41\"], [0.9, \"#4d9221\"], [1, \"#276419\"]], \"sequential\": [[0.0, \"#0d0887\"], [0.1111111111111111, \"#46039f\"], [0.2222222222222222, \"#7201a8\"], [0.3333333333333333, \"#9c179e\"], [0.4444444444444444, \"#bd3786\"], [0.5555555555555556, \"#d8576b\"], [0.6666666666666666, \"#ed7953\"], [0.7777777777777778, \"#fb9f3a\"], [0.8888888888888888, \"#fdca26\"], [1.0, \"#f0f921\"]], \"sequentialminus\": [[0.0, \"#0d0887\"], [0.1111111111111111, \"#46039f\"], [0.2222222222222222, \"#7201a8\"], [0.3333333333333333, \"#9c179e\"], [0.4444444444444444, \"#bd3786\"], [0.5555555555555556, \"#d8576b\"], [0.6666666666666666, \"#ed7953\"], [0.7777777777777778, \"#fb9f3a\"], [0.8888888888888888, \"#fdca26\"], [1.0, \"#f0f921\"]]}, \"colorway\": [\"#636efa\", \"#EF553B\", \"#00cc96\", \"#ab63fa\", \"#FFA15A\", \"#19d3f3\", \"#FF6692\", \"#B6E880\", \"#FF97FF\", \"#FECB52\"], \"font\": {\"color\": \"#2a3f5f\"}, \"geo\": {\"bgcolor\": \"white\", \"lakecolor\": \"white\", \"landcolor\": \"#E5ECF6\", \"showlakes\": true, \"showland\": true, \"subunitcolor\": \"white\"}, \"hoverlabel\": {\"align\": \"left\"}, \"hovermode\": \"closest\", \"mapbox\": {\"style\": \"light\"}, \"paper_bgcolor\": \"white\", \"plot_bgcolor\": \"#E5ECF6\", \"polar\": {\"angularaxis\": {\"gridcolor\": \"white\", \"linecolor\": \"white\", \"ticks\": \"\"}, \"bgcolor\": \"#E5ECF6\", \"radialaxis\": {\"gridcolor\": \"white\", \"linecolor\": \"white\", \"ticks\": \"\"}}, \"scene\": {\"xaxis\": {\"backgroundcolor\": \"#E5ECF6\", \"gridcolor\": \"white\", \"gridwidth\": 2, \"linecolor\": \"white\", \"showbackground\": true, \"ticks\": \"\", \"zerolinecolor\": \"white\"}, \"yaxis\": {\"backgroundcolor\": \"#E5ECF6\", \"gridcolor\": \"white\", \"gridwidth\": 2, \"linecolor\": \"white\", \"showbackground\": true, \"ticks\": \"\", \"zerolinecolor\": \"white\"}, \"zaxis\": {\"backgroundcolor\": \"#E5ECF6\", \"gridcolor\": \"white\", \"gridwidth\": 2, \"linecolor\": \"white\", \"showbackground\": true, \"ticks\": \"\", \"zerolinecolor\": \"white\"}}, \"shapedefaults\": {\"line\": {\"color\": \"#2a3f5f\"}}, \"ternary\": {\"aaxis\": {\"gridcolor\": \"white\", \"linecolor\": \"white\", \"ticks\": \"\"}, \"baxis\": {\"gridcolor\": \"white\", \"linecolor\": \"white\", \"ticks\": \"\"}, \"bgcolor\": \"#E5ECF6\", \"caxis\": {\"gridcolor\": \"white\", \"linecolor\": \"white\", \"ticks\": \"\"}}, \"title\": {\"x\": 0.05}, \"xaxis\": {\"automargin\": true, \"gridcolor\": \"white\", \"linecolor\": \"white\", \"ticks\": \"\", \"title\": {\"standoff\": 15}, \"zerolinecolor\": \"white\", \"zerolinewidth\": 2}, \"yaxis\": {\"automargin\": true, \"gridcolor\": \"white\", \"linecolor\": \"white\", \"ticks\": \"\", \"title\": {\"standoff\": 15}, \"zerolinecolor\": \"white\", \"zerolinewidth\": 2}}}, \"title\": {\"text\": \"Correleation by cluster\"}, \"xaxis\": {\"constrain\": \"domain\", \"scaleanchor\": \"y\"}, \"yaxis\": {\"autorange\": \"reversed\", \"constrain\": \"domain\"}},                        {\"responsive\": true}                    ).then(function(){\n",
       "                            \n",
       "var gd = document.getElementById('c403deb4-70de-4a25-aa2b-bb1c1038e560');\n",
       "var x = new MutationObserver(function (mutations, observer) {{\n",
       "        var display = window.getComputedStyle(gd).display;\n",
       "        if (!display || display === 'none') {{\n",
       "            console.log([gd, 'removed!']);\n",
       "            Plotly.purge(gd);\n",
       "            observer.disconnect();\n",
       "        }}\n",
       "}});\n",
       "\n",
       "// Listen for the removal of the full notebook cells\n",
       "var notebookContainer = gd.closest('#notebook-container');\n",
       "if (notebookContainer) {{\n",
       "    x.observe(notebookContainer, {childList: true});\n",
       "}}\n",
       "\n",
       "// Listen for the clearing of the current output cell\n",
       "var outputEl = gd.closest('.output');\n",
       "if (outputEl) {{\n",
       "    x.observe(outputEl, {childList: true});\n",
       "}}\n",
       "\n",
       "                        })                };                });            </script>        </div>"
      ]
     },
     "metadata": {},
     "output_type": "display_data"
    }
   ],
   "source": [
    "px.imshow(correlation, title=\"Correleation by cluster\")"
   ]
  },
  {
   "cell_type": "code",
   "execution_count": 35,
   "metadata": {},
   "outputs": [],
   "source": [
    "fig.write_html('pictures/correlation_by_cluster.html')"
   ]
  },
  {
   "cell_type": "code",
   "execution_count": null,
   "metadata": {},
   "outputs": [],
   "source": []
  }
 ],
 "metadata": {
  "kernelspec": {
   "display_name": "Python 3",
   "language": "python",
   "name": "python3"
  },
  "language_info": {
   "codemirror_mode": {
    "name": "ipython",
    "version": 3
   },
   "file_extension": ".py",
   "mimetype": "text/x-python",
   "name": "python",
   "nbconvert_exporter": "python",
   "pygments_lexer": "ipython3",
   "version": "3.7.2"
  },
  "nbTranslate": {
   "displayLangs": [
    "*"
   ],
   "hotkey": "alt-t",
   "langInMainMenu": true,
   "sourceLang": "en",
   "targetLang": "fr",
   "useGoogleTranslate": true
  },
  "toc": {
   "base_numbering": 1,
   "nav_menu": {},
   "number_sections": true,
   "sideBar": true,
   "skip_h1_title": false,
   "title_cell": "Table of Contents",
   "title_sidebar": "Contents",
   "toc_cell": false,
   "toc_position": {},
   "toc_section_display": true,
   "toc_window_display": false
  }
 },
 "nbformat": 4,
 "nbformat_minor": 2
}
